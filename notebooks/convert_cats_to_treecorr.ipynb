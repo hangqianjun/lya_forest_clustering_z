{
 "cells": [
  {
   "cell_type": "code",
   "execution_count": 1,
   "id": "c4b2f8b1-33a4-4526-acc0-bb190867e49a",
   "metadata": {},
   "outputs": [],
   "source": [
    "# let's construct some catalogues that can be used in treecorr directly!\n",
    "# First some imports that we'll use below\n",
    "from __future__ import print_function\n",
    "import treecorr\n",
    "#import fitsio\n",
    "from astropy.io import fits\n",
    "import numpy\n",
    "import time\n",
    "import pprint\n",
    "import healpy as hp\n",
    "\n",
    "import matplotlib\n",
    "import matplotlib.pyplot as plt\n",
    "%matplotlib inline\n",
    "import numpy as np"
   ]
  },
  {
   "cell_type": "code",
   "execution_count": 8,
   "id": "972cac85-c29a-4e64-b5bf-e4d2fd103bc2",
   "metadata": {
    "tags": []
   },
   "outputs": [
    {
     "name": "stdout",
     "output_type": "stream",
     "text": [
      "0.13312784830729166 5491.917967439271\n"
     ]
    },
    {
     "data": {
      "image/png": "[encoded data removed]",
      "text/plain": [
       "<Figure size 850x540 with 2 Axes>"
      ]
     },
     "metadata": {},
     "output_type": "display_data"
    }
   ],
   "source": [
    "# get desi x desc mask:\n",
    "fname = \"/pscratch/sd/q/qhang/rubin_baseline_v2/\"\n",
    "fname += \"wfd_footprint_nvisitcut_500_nside_128.fits\"\n",
    "wfd_mask = hp.read_map(fname)\n",
    "    \n",
    "fname = \"/pscratch/sd/q/qhang/rubin_baseline_v2/\"\n",
    "fname += \"DESI_footprint_completeness_mask_128.fits\"\n",
    "desi_mask = hp.read_map(fname)\n",
    "desi_mask[desi_mask<0]=0\n",
    "\n",
    "mask = wfd_mask*desi_mask\n",
    "mask[mask>0]=1\n",
    "\n",
    "hp.mollview(mask, title=\"DESIxDESC nside=128\")\n",
    "\n",
    "# print fsky, area in deg^2:\n",
    "fsky = np.mean(mask)\n",
    "sky_area = 4*np.pi*(180/np.pi)**2*fsky\n",
    "print(fsky, sky_area)"
   ]
  },
  {
   "cell_type": "code",
   "execution_count": 10,
   "id": "594b6280-b396-4724-906e-e4673c5d1a8b",
   "metadata": {
    "tags": []
   },
   "outputs": [
    {
     "name": "stderr",
     "output_type": "stream",
     "text": [
      "setting the output map dtype to [dtype('float64')]\n"
     ]
    }
   ],
   "source": [
    "hp.write_map(\"/pscratch/sd/q/qhang/desi-lya/desixlsst-mask-nside-128.fits\", mask)"
   ]
  },
  {
   "cell_type": "code",
   "execution_count": 9,
   "id": "49428554-c9cf-455d-8a1b-ef9854917fdc",
   "metadata": {},
   "outputs": [],
   "source": [
    "# def save fits file:\n",
    "def save_catalog_to_fits(fname, data_matrix):\n",
    "    c=[]\n",
    "    dtype_to_fits_type = {'int64': 'K',\n",
    "                          'float64': 'D',\n",
    "                          'float32': 'E',\n",
    "                          '<U6': '20A',\n",
    "                          'bool': 'bool',\n",
    "                          '>f8': 'D',\n",
    "                          '>f4': 'E',\n",
    "                         }\n",
    "    \n",
    "    for ii, keys in enumerate(data_matrix.keys()):\n",
    "        col=fits.Column(name=keys, array=data_matrix[keys],\n",
    "                        format=dtype_to_fits_type[str(data_matrix[keys].dtype)])\n",
    "        c.append(col)\n",
    "    t = fits.BinTableHDU.from_columns(c)\n",
    "    t.writeto(fname)"
   ]
  },
  {
   "cell_type": "markdown",
   "id": "7486dc6a-eaeb-4676-99fe-cf7f7cac7377",
   "metadata": {},
   "source": [
    "## Let's save a full catalogue for the photometric sample in this overlap"
   ]
  },
  {
   "cell_type": "code",
   "execution_count": 13,
   "id": "c97c7600-946d-41e4-bf79-b86403a588aa",
   "metadata": {
    "tags": []
   },
   "outputs": [],
   "source": [
    "root = \"/global/cfs/cdirs/desicollab/users/lauracdp/photo-z_box/test_box/gal_box/results/\"\n",
    "\n",
    "data_holder={}\n",
    "columns = ['Z_COSMO','DZ_RSD','RA','DEC']\n",
    "pixels_inmask = np.arange(len(mask))[mask.astype(bool)]\n",
    "nside=128\n",
    "\n",
    "# we only need ra, dec, redshifts:\n",
    "for ii in range(128):\n",
    "    \n",
    "    if ii%30==0:\n",
    "        print(f\"Working on {ii+1}/128...\")\n",
    "    \n",
    "    fname = root + f\"out_srcs_s2_{ii}.fits\"\n",
    "    f=fits.open(fname)\n",
    "    \n",
    "    ra = f[1].data['RA']\n",
    "    dec = f[1].data['DEC']\n",
    "    redshift = f[1].data['Z_COSMO'] + f[1].data['DZ_RSD']\n",
    "    \n",
    "    pix = hp.ang2pix(nside,\n",
    "                 np.radians(90 - dec),\n",
    "                 np.radians(ra))\n",
    "    \n",
    "    sel = np.isin(pix, pixels_inmask)\n",
    "    sel *= redshift >= 1.0\n",
    "    \n",
    "    if len(ra[sel])>0:\n",
    "        for col in columns:\n",
    "            if ii == 0:\n",
    "                data_holder[col] = f[1].data[col][sel]\n",
    "            else:\n",
    "                data_holder[col] = np.append(data_holder[col], f[1].data[col][sel])\n",
    "\n",
    "print(len(data_holder['Z_COSMO']))"
   ]
  },
  {
   "cell_type": "code",
   "execution_count": 15,
   "id": "527ca813-fbab-4eb2-924e-63ee1a43bc48",
   "metadata": {
    "tags": []
   },
   "outputs": [
    {
     "name": "stdout",
     "output_type": "stream",
     "text": [
      "425235016\n"
     ]
    }
   ],
   "source": [
    "print(len(data_holder['Z_COSMO']))"
   ]
  },
  {
   "cell_type": "code",
   "execution_count": 14,
   "id": "4abde84b-3aea-40e8-b4ae-7d1941136c5f",
   "metadata": {
    "tags": []
   },
   "outputs": [],
   "source": [
    "# now save:\n",
    "saveroot = \"/pscratch/sd/q/qhang/desi-lya/\"\n",
    "fname = saveroot + \"photometry-catalogue-overlap.fits\"\n",
    "save_catalog_to_fits(fname, data_holder)"
   ]
  },
  {
   "cell_type": "code",
   "execution_count": null,
   "id": "90b248c3-64b3-486d-b9e5-65f108c0d8d0",
   "metadata": {},
   "outputs": [],
   "source": []
  },
  {
   "cell_type": "code",
   "execution_count": null,
   "id": "8491c796-68b5-4090-9d7e-a204bdfc7f07",
   "metadata": {},
   "outputs": [],
   "source": []
  },
  {
   "cell_type": "code",
   "execution_count": null,
   "id": "4a9f527a-64d5-4524-9779-9ef603eec0d8",
   "metadata": {},
   "outputs": [],
   "source": []
  },
  {
   "cell_type": "code",
   "execution_count": null,
   "id": "260f34f9-dfec-4da9-9a78-df0cd4cc7899",
   "metadata": {},
   "outputs": [],
   "source": [
    "# now grab the delta_F files, select objects inside these chunks, save a separate file called test:\n",
    "num = [0,1,2,3,4,5,6,7,8,9,10,11,12,13,14,15,16,17,18,19,20,21,22,23,25,27,28,30]\n",
    "root = \"/pscratch/sd/q/qhang/desi-lya/delta_F/\"\n",
    "\n",
    "# for each tomo bin\n",
    "nside=8\n",
    "data_holder = {}\n",
    "for tomo in range(1, 19):\n",
    "    data_holder[tomo] = {}\n",
    "\n",
    "for ii in num:\n",
    "    fname = root + f\"pixgroup_{ii}.fits\"\n",
    "    fin = fits.open(fname)\n",
    "    \n",
    "    ra = fin[1].data['RA']\n",
    "    dec = fin[1].data['DEC']\n",
    "    zbin = fin[1].data['Z_BIN']\n",
    "    \n",
    "    pix = hp.ang2pix(nside,\n",
    "                 np.radians(90 - dec),\n",
    "                 np.radians(ra))\n",
    "    sel = np.isin(pix, unique_pix_nside8)\n",
    "    \n",
    "    for tomo in range(1, 19):\n",
    "        sel2 = zbin[sel] == tomo\n",
    "        for key in fin[1].columns.names:\n",
    "            if ii == 0:\n",
    "                data_holder[tomo][key] = fin[1].data[key][sel][sel2]\n",
    "            else:\n",
    "                data_holder[tomo][key] = np.append(data_holder[tomo][key], fin[1].data[key][sel][sel2])"
   ]
  },
  {
   "cell_type": "code",
   "execution_count": null,
   "id": "0d8693fd-5508-4d10-9d4e-f51b31ddc4b8",
   "metadata": {},
   "outputs": [],
   "source": [
    "# make catalog ob\n",
    "for tomo in range(1, 19):\n",
    "    print(len(data_holder[tomo]['RA']))"
   ]
  },
  {
   "cell_type": "code",
   "execution_count": null,
   "id": "74e518ea-4d38-4b3c-8d5a-7eb117e09f73",
   "metadata": {},
   "outputs": [],
   "source": [
    "root = \"/pscratch/sd/q/qhang/desi-lya/\"\n",
    "for tomo in range(1, 18):\n",
    "    fname = root + f\"test_datasets/test-delta_F-zsamp-{tomo}.fits\"\n",
    "    save_catalog_to_fits(fname, data_holder[tomo])"
   ]
  },
  {
   "cell_type": "code",
   "execution_count": null,
   "id": "527f7c40-e47f-4271-8898-4cf7fb5140d8",
   "metadata": {},
   "outputs": [],
   "source": []
  },
  {
   "cell_type": "code",
   "execution_count": null,
   "id": "ec122fda-602f-49ba-95e9-03345558a028",
   "metadata": {},
   "outputs": [],
   "source": []
  }
 ],
 "metadata": {
  "kernelspec": {
   "display_name": "yaw_env",
   "language": "python",
   "name": "yaw_env"
  },
  "language_info": {
   "codemirror_mode": {
    "name": "ipython",
    "version": 3
   },
   "file_extension": ".py",
   "mimetype": "text/x-python",
   "name": "python",
   "nbconvert_exporter": "python",
   "pygments_lexer": "ipython3",
   "version": "3.11.9"
  }
 },
 "nbformat": 4,
 "nbformat_minor": 5
}
