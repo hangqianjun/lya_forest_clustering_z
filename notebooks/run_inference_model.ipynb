{
 "cells": [
  {
   "cell_type": "code",
   "execution_count": 2,
   "id": "7dd366b4-e856-4144-b3b3-218c276153f8",
   "metadata": {},
   "outputs": [],
   "source": [
    "import pyccl as ccl\n",
    "import numpy as np\n",
    "import pylab as pl\n",
    "#from astropy.cosmology import Planck18 as cosmo\n",
    "from scipy import interpolate\n",
    "import pickle\n",
    "from scipy.integrate import quad, dblquad\n",
    "import math\n",
    "import sys\n",
    "sys.path.insert(0, \"/global/homes/q/qhang/desi/lya/codes/\")\n",
    "import lya_utils as lu"
   ]
  },
  {
   "cell_type": "markdown",
   "id": "dbfe3072-8cc0-4f68-a68a-89bf1eae87f4",
   "metadata": {},
   "source": [
    "# Generate model"
   ]
  },
  {
   "cell_type": "markdown",
   "id": "622460f3-91bb-4d91-90c1-5283829f9473",
   "metadata": {},
   "source": [
    "### 20 z-bins, $\\theta=[10,30]$, $\\alpha=0$"
   ]
  },
  {
   "cell_type": "code",
   "execution_count": 29,
   "id": "1d8d8480-89da-45e2-b628-e360f2d242a0",
   "metadata": {},
   "outputs": [
    {
     "name": "stdout",
     "output_type": "stream",
     "text": [
      "2.025\n",
      "2.075\n",
      "2.125\n",
      "2.175\n",
      "2.225\n",
      "2.275\n",
      "2.325\n",
      "2.375\n",
      "2.425\n",
      "2.475\n",
      "2.525\n",
      "2.575\n",
      "2.625\n",
      "2.675\n",
      "2.725\n",
      "2.775\n",
      "2.825\n",
      "2.875\n",
      "2.925\n",
      "2.975\n",
      "saved files with prefix /pscratch/sd/q/qhang/desi-lya/results-newbias/run-0/yaw-20bin/inference/model/wsp_int_known_bg_linear_theta_10_30\n"
     ]
    }
   ],
   "source": [
    "! python /global/homes/q/qhang/desi/lya/codes/generate_model_for_inference.py -sim_num 0 -outroot /pscratch/sd/q/qhang/desi-lya/results-newbias/ -linear 1 -unknown_bg 0 -theta 10 30 10 -alpha 0 -zbins 2 3 20 -yaw_tag 20bin -zgrid 1.8 3.0 100\n",
    "\n",
    "\n",
    "\n"
   ]
  },
  {
   "cell_type": "code",
   "execution_count": 30,
   "id": "a302804a-dff1-4109-898d-964032ec01fc",
   "metadata": {},
   "outputs": [
    {
     "name": "stdout",
     "output_type": "stream",
     "text": [
      "2.025\n",
      "2.075\n",
      "2.125\n",
      "2.175\n",
      "2.225\n",
      "2.275\n",
      "2.325\n",
      "2.375\n",
      "2.425\n",
      "2.475\n",
      "2.525\n",
      "2.575\n",
      "2.625\n",
      "2.675\n",
      "2.725\n",
      "2.775\n",
      "2.825\n",
      "2.875\n",
      "2.925\n",
      "2.975\n",
      "saved files with prefix /pscratch/sd/q/qhang/desi-lya/results-newbias/run-0/yaw-20bin/inference/model/wsp_int_unknown_bg_linear_theta_10_30\n"
     ]
    }
   ],
   "source": [
    "! python /global/homes/q/qhang/desi/lya/codes/generate_model_for_inference.py -sim_num 0 -outroot /pscratch/sd/q/qhang/desi-lya/results-newbias/ -linear 1 -unknown_bg 1 -theta 10 30 10 -alpha 0 -zbins 2 3 20 -yaw_tag 20bin -zgrid 1.8 3.0 100\n",
    "\n",
    "\n",
    "\n"
   ]
  },
  {
   "cell_type": "markdown",
   "id": "964c64c7-35a3-460b-97c9-0e18fc28c249",
   "metadata": {},
   "source": [
    "### 20 z-bins, $\\theta=[1,50]$, with mask limit to $[23,50]$, $\\alpha=0$, zgrid = [1.8,3.0]"
   ]
  },
  {
   "cell_type": "code",
   "execution_count": 31,
   "id": "8927f056-ee9a-40a4-bcc2-505d90bc5c8e",
   "metadata": {},
   "outputs": [
    {
     "name": "stdout",
     "output_type": "stream",
     "text": [
      "2.025\n",
      "2.075\n",
      "2.125\n",
      "2.175\n",
      "2.225\n",
      "2.275\n",
      "2.325\n",
      "2.375\n",
      "2.425\n",
      "2.475\n",
      "2.525\n",
      "2.575\n",
      "2.625\n",
      "2.675\n",
      "2.725\n",
      "2.775\n",
      "2.825\n",
      "2.875\n",
      "2.925\n",
      "2.975\n",
      "saved files with prefix /pscratch/sd/q/qhang/desi-lya/results-newbias/run-0/yaw-20bin/inference/model/wsp_int_known_bg_linear_theta_23_50\n"
     ]
    }
   ],
   "source": [
    "! python /global/homes/q/qhang/desi/lya/codes/generate_model_for_inference.py -sim_num 0 -outroot /pscratch/sd/q/qhang/desi-lya/results-newbias/ -linear 1 -unknown_bg 0 -theta 1 50 15 -theta_mask 22 51 -alpha 0 -zbins 2 3 20 -yaw_tag 20bin -zgrid 1.8 3.0 100\n",
    "\n",
    "\n",
    "\n"
   ]
  },
  {
   "cell_type": "code",
   "execution_count": null,
   "id": "dc5f018a-af1b-4999-a0e2-7b7fb38fcdcd",
   "metadata": {},
   "outputs": [],
   "source": []
  },
  {
   "cell_type": "code",
   "execution_count": null,
   "id": "1544032b-6efd-411c-a995-2d1579bca54d",
   "metadata": {},
   "outputs": [],
   "source": []
  },
  {
   "cell_type": "markdown",
   "id": "ff89b497-8480-425c-86ab-800390f5bf86",
   "metadata": {},
   "source": [
    "# check results of the inference"
   ]
  },
  {
   "cell_type": "code",
   "execution_count": 1,
   "id": "977b619b-8216-477c-a570-12cd7b59b497",
   "metadata": {},
   "outputs": [],
   "source": [
    "import emcee"
   ]
  },
  {
   "cell_type": "markdown",
   "id": "4a3e9a2a-fb31-4818-aa22-66198626435f",
   "metadata": {},
   "source": [
    "20 bins, shift model"
   ]
  },
  {
   "cell_type": "code",
   "execution_count": 18,
   "id": "cec2de37-3d31-499a-982a-b85ef3df553f",
   "metadata": {},
   "outputs": [
    {
     "name": "stdout",
     "output_type": "stream",
     "text": [
      "[25.37213861]\n",
      "burn-in: 50\n",
      "thin: 12\n",
      "flat chain shape: (7840, 1)\n",
      "flat log prob shape: (7840,)\n"
     ]
    },
    {
     "ename": "AttributeError",
     "evalue": "'NoneType' object has no attribute 'shape'",
     "output_type": "error",
     "traceback": [
      "\u001b[31m---------------------------------------------------------------------------\u001b[39m",
      "\u001b[31mAttributeError\u001b[39m                            Traceback (most recent call last)",
      "\u001b[36mCell\u001b[39m\u001b[36m \u001b[39m\u001b[32mIn[18]\u001b[39m\u001b[32m, line 18\u001b[39m\n\u001b[32m     16\u001b[39m \u001b[38;5;28mprint\u001b[39m(\u001b[33m\"\u001b[39m\u001b[33mflat chain shape: \u001b[39m\u001b[38;5;132;01m{0}\u001b[39;00m\u001b[33m\"\u001b[39m.format(samples.shape))\n\u001b[32m     17\u001b[39m \u001b[38;5;28mprint\u001b[39m(\u001b[33m\"\u001b[39m\u001b[33mflat log prob shape: \u001b[39m\u001b[38;5;132;01m{0}\u001b[39;00m\u001b[33m\"\u001b[39m.format(log_prob_samples.shape))\n\u001b[32m---> \u001b[39m\u001b[32m18\u001b[39m \u001b[38;5;28mprint\u001b[39m(\u001b[33m\"\u001b[39m\u001b[33mflat log prior shape: \u001b[39m\u001b[38;5;132;01m{0}\u001b[39;00m\u001b[33m\"\u001b[39m.format(\u001b[43mlog_prior_samples\u001b[49m\u001b[43m.\u001b[49m\u001b[43mshape\u001b[49m))\n",
      "\u001b[31mAttributeError\u001b[39m: 'NoneType' object has no attribute 'shape'"
     ]
    }
   ],
   "source": [
    "# let's load back the chains run on nersc:\n",
    "filename = \"/pscratch/sd/q/qhang/desi-lya/results-newbias/run-0/yaw-20bin/inference/chains/\"\n",
    "filename += \"wsp_int_known_bg_linear_theta_10_30.shift_model.chain.h5\"\n",
    "reader = emcee.backends.HDFBackend(filename)\n",
    "\n",
    "tau = reader.get_autocorr_time()\n",
    "print(tau)\n",
    "burnin = int(2 * np.max(tau))\n",
    "thin = int(0.5 * np.min(tau))\n",
    "samples = reader.get_chain(flat=True,discard=burnin,thin=thin)\n",
    "log_prob_samples = reader.get_log_prob(flat=True,discard=burnin,thin=thin)\n",
    "log_prior_samples = reader.get_blobs(flat=True,discard=burnin,thin=thin)\n",
    "\n",
    "print(\"burn-in: {0}\".format(burnin))\n",
    "print(\"thin: {0}\".format(thin))\n",
    "print(\"flat chain shape: {0}\".format(samples.shape))\n",
    "print(\"flat log prob shape: {0}\".format(log_prob_samples.shape))\n",
    "print(\"flat log prior shape: {0}\".format(log_prior_samples.shape))"
   ]
  },
  {
   "cell_type": "code",
   "execution_count": 19,
   "id": "1c0e0024-f9ed-45ac-b83c-9eb576937c0c",
   "metadata": {},
   "outputs": [
    {
     "data": {
      "text/plain": [
       "Text(0, 0.5, '$p(\\\\delta_z)$')"
      ]
     },
     "execution_count": 19,
     "metadata": {},
     "output_type": "execute_result"
    },
    {
     "data": {
      "image/png": "[encoded data removed]",
      "text/plain": [
       "<Figure size 640x480 with 1 Axes>"
      ]
     },
     "metadata": {},
     "output_type": "display_data"
    }
   ],
   "source": [
    "pl.hist(samples[:, 0], 100, range=[-0.5,0.5], color=\"k\", histtype=\"step\", label=\"linear theory\")\n",
    "mcmc = np.percentile(samples[:, 0], [16, 50, 84])\n",
    "q = np.diff(mcmc)\n",
    "txt = \"$ \\\\delta_z = {0:.3f}_{{-{1:.3f}}}^{{+{2:.3f}}}$\"\n",
    "txt = txt.format(mcmc[1], q[0], q[1])\n",
    "pl.text(-0.4, 1200, txt)\n",
    "pl.title(\"$\\\\Delta z = 0.05$, $\\\\theta=[10,30]$ arcmin, $\\\\alpha=0$, known $b_g$, linear th\")\n",
    "pl.xlabel(\"$\\\\delta_z$\")\n",
    "pl.yticks([])\n",
    "pl.ylabel(\"$p(\\\\delta_z)$\")"
   ]
  },
  {
   "cell_type": "code",
   "execution_count": 15,
   "id": "09c8c753-b69f-446f-ac50-7e78b302c507",
   "metadata": {},
   "outputs": [
    {
     "name": "stdout",
     "output_type": "stream",
     "text": [
      "[28.89465148]\n",
      "burn-in: 57\n",
      "thin: 14\n",
      "flat chain shape: (6720, 1)\n",
      "flat log prob shape: (6720,)\n"
     ]
    },
    {
     "ename": "AttributeError",
     "evalue": "'NoneType' object has no attribute 'shape'",
     "output_type": "error",
     "traceback": [
      "\u001b[31m---------------------------------------------------------------------------\u001b[39m",
      "\u001b[31mAttributeError\u001b[39m                            Traceback (most recent call last)",
      "\u001b[36mCell\u001b[39m\u001b[36m \u001b[39m\u001b[32mIn[15]\u001b[39m\u001b[32m, line 18\u001b[39m\n\u001b[32m     16\u001b[39m \u001b[38;5;28mprint\u001b[39m(\u001b[33m\"\u001b[39m\u001b[33mflat chain shape: \u001b[39m\u001b[38;5;132;01m{0}\u001b[39;00m\u001b[33m\"\u001b[39m.format(samples.shape))\n\u001b[32m     17\u001b[39m \u001b[38;5;28mprint\u001b[39m(\u001b[33m\"\u001b[39m\u001b[33mflat log prob shape: \u001b[39m\u001b[38;5;132;01m{0}\u001b[39;00m\u001b[33m\"\u001b[39m.format(log_prob_samples.shape))\n\u001b[32m---> \u001b[39m\u001b[32m18\u001b[39m \u001b[38;5;28mprint\u001b[39m(\u001b[33m\"\u001b[39m\u001b[33mflat log prior shape: \u001b[39m\u001b[38;5;132;01m{0}\u001b[39;00m\u001b[33m\"\u001b[39m.format(\u001b[43mlog_prior_samples\u001b[49m\u001b[43m.\u001b[49m\u001b[43mshape\u001b[49m))\n",
      "\u001b[31mAttributeError\u001b[39m: 'NoneType' object has no attribute 'shape'"
     ]
    }
   ],
   "source": [
    "# let's load back the chains run on nersc:\n",
    "filename = \"/pscratch/sd/q/qhang/desi-lya/results-newbias/run-0/yaw-20bin/inference/chains/\"\n",
    "filename += \"wsp_int_known_bg_linear_theta_23_50.shift_model.chain.h5\"\n",
    "reader = emcee.backends.HDFBackend(filename)\n",
    "\n",
    "tau = reader.get_autocorr_time()\n",
    "print(tau)\n",
    "burnin = int(2 * np.max(tau))\n",
    "thin = int(0.5 * np.min(tau))\n",
    "samples = reader.get_chain(flat=True,discard=burnin,thin=thin)\n",
    "log_prob_samples = reader.get_log_prob(flat=True,discard=burnin,thin=thin)\n",
    "log_prior_samples = reader.get_blobs(flat=True,discard=burnin,thin=thin)\n",
    "\n",
    "print(\"burn-in: {0}\".format(burnin))\n",
    "print(\"thin: {0}\".format(thin))\n",
    "print(\"flat chain shape: {0}\".format(samples.shape))\n",
    "print(\"flat log prob shape: {0}\".format(log_prob_samples.shape))\n",
    "print(\"flat log prior shape: {0}\".format(log_prior_samples.shape))"
   ]
  },
  {
   "cell_type": "code",
   "execution_count": 17,
   "id": "6fb48f2e-09f9-4c0a-9d32-4a9b6d1ade7d",
   "metadata": {},
   "outputs": [
    {
     "data": {
      "text/plain": [
       "Text(0, 0.5, '$p(\\\\delta_z)$')"
      ]
     },
     "execution_count": 17,
     "metadata": {},
     "output_type": "execute_result"
    },
    {
     "data": {
      "image/png": "[encoded data removed]",
      "text/plain": [
       "<Figure size 640x480 with 1 Axes>"
      ]
     },
     "metadata": {},
     "output_type": "display_data"
    }
   ],
   "source": [
    "pl.hist(samples[:, 0], 100, range=[-0.5,0.5], color=\"k\", histtype=\"step\", label=\"linear theory\")\n",
    "mcmc = np.percentile(samples[:, 0], [16, 50, 84])\n",
    "q = np.diff(mcmc)\n",
    "txt = \"$ \\\\delta_z = {0:.3f}_{{-{1:.3f}}}^{{+{2:.3f}}}$\"\n",
    "txt = txt.format(mcmc[1], q[0], q[1])\n",
    "pl.text(-0.4, 800, txt)\n",
    "pl.title(\"$\\\\Delta z = 0.05$, $\\\\theta=[23,50]$ arcmin, $\\\\alpha=0$, known $b_g$, linear th\")\n",
    "pl.xlabel(\"$\\\\delta_z$\")\n",
    "pl.yticks([])\n",
    "pl.ylabel(\"$p(\\\\delta_z)$\")"
   ]
  },
  {
   "cell_type": "code",
   "execution_count": null,
   "id": "0e16d26b-850c-49bb-af44-aaad3421ce4b",
   "metadata": {},
   "outputs": [],
   "source": []
  }
 ],
 "metadata": {
  "kernelspec": {
   "display_name": "desc-python-bleed",
   "language": "python",
   "name": "desc-python-bleed"
  },
  "language_info": {
   "codemirror_mode": {
    "name": "ipython",
    "version": 3
   },
   "file_extension": ".py",
   "mimetype": "text/x-python",
   "name": "python",
   "nbconvert_exporter": "python",
   "pygments_lexer": "ipython3",
   "version": "3.12.10"
  }
 },
 "nbformat": 4,
 "nbformat_minor": 5
}
