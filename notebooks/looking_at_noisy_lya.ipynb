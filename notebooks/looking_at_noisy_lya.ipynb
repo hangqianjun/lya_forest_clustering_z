{
 "cells": [
  {
   "cell_type": "code",
   "execution_count": 2,
   "id": "7ef5088f-83dd-4b37-9a21-e1298515ab1e",
   "metadata": {},
   "outputs": [],
   "source": [
    "import numpy as np\n",
    "from astropy.io import fits\n",
    "import pylab as pl\n",
    "import healpy as hp\n",
    "from glob import glob"
   ]
  },
  {
   "cell_type": "code",
   "execution_count": 11,
   "id": "3e9d45ba-7d95-42db-911b-1eb578b40a97",
   "metadata": {},
   "outputs": [],
   "source": [
    "import matplotlib.colors as colors"
   ]
  },
  {
   "cell_type": "markdown",
   "id": "707c6557-ca55-4627-b578-a022cbf4bb9c",
   "metadata": {},
   "source": [
    "# Check one file"
   ]
  },
  {
   "cell_type": "code",
   "execution_count": 3,
   "id": "96dd9cc0-2cea-4c1b-b81e-004c9f75a020",
   "metadata": {},
   "outputs": [],
   "source": [
    "root = \"/global/cfs/cdirs/desicollab/users/lauracdp/photo-z_box/uncontaminated_mocks/mock_analysis/qq_desi_y3/skewers_desi_footprint.5/analysis-0/jura-0/baseline/\"\n",
    "\n",
    "root += \"deltas_lya/Delta/\""
   ]
  },
  {
   "cell_type": "code",
   "execution_count": 4,
   "id": "c0df4971-6b31-48b4-9e34-b9b9fcb82771",
   "metadata": {},
   "outputs": [],
   "source": [
    "example_file = root + \"delta-1375.fits.gz\"\n",
    "hdu=fits.open(example_file)"
   ]
  },
  {
   "cell_type": "code",
   "execution_count": 40,
   "id": "53f41331-0edb-4ee2-aca5-3be6a87d5720",
   "metadata": {},
   "outputs": [
    {
     "data": {
      "text/plain": [
       "<bound method HDUList.info of [<astropy.io.fits.hdu.image.PrimaryHDU object at 0x7f2eac43ed90>, <astropy.io.fits.hdu.image.ImageHDU object at 0x7f2e7833d790>, <astropy.io.fits.hdu.table.BinTableHDU object at 0x7f2e779eaee0>, <astropy.io.fits.hdu.image.ImageHDU object at 0x7f2e775135b0>, <astropy.io.fits.hdu.image.ImageHDU object at 0x7f2e7753a850>, <astropy.io.fits.hdu.image.ImageHDU object at 0x7f2e775962b0>]>"
      ]
     },
     "execution_count": 40,
     "metadata": {},
     "output_type": "execute_result"
    }
   ],
   "source": [
    "# print table information:\n",
    "hdu.info"
   ]
  },
  {
   "cell_type": "code",
   "execution_count": 41,
   "id": "084ce05a-ad54-483b-a7be-a6a7cd24971a",
   "metadata": {},
   "outputs": [
    {
     "data": {
      "text/plain": [
       "6"
      ]
     },
     "execution_count": 41,
     "metadata": {},
     "output_type": "execute_result"
    }
   ],
   "source": [
    "len(hdu)"
   ]
  },
  {
   "cell_type": "code",
   "execution_count": 47,
   "id": "79708de9-edcb-4de1-b1be-a02e79e37747",
   "metadata": {},
   "outputs": [
    {
     "name": "stdout",
     "output_type": "stream",
     "text": [
      "1\n",
      "XTENSION= 'IMAGE   '           / IMAGE extension                                BITPIX  =                  -64 / number of bits per data pixel                  NAXIS   =                    1 / number of data axes                            NAXIS1  =                 2716 / length of data axis 1                          PCOUNT  =                    0 / required keyword; must = 0                     GCOUNT  =                    1 / required keyword; must = 1                     EXTNAME = 'LAMBDA  '                                                            BUNIT   = 'Angstrom'           / wavelength units                               HIERARCH WAVE_SOLUTION = 'lin     ' / chosen wavelength solution                HIERARCH DELTA_LAMBDA =    0.8 / pixel step                                     COMMENT Wavelength grid                                                         CHECKSUM= 'YD9PYB9PYB9PYB9P'   / HDU checksum updated 2025-01-23T15:52:43       DATASUM = '1634060384'         / data unit checksum updated 2025-01-23T15:52:43 END                                                                                                                                                                                                                                                                                                                                                                                                                                                                                                                                                                                                                                                                                                                                                                                                                                                                                                                                                                                                                                                                                                                                                                                                                                                                                                                                                                                                                                                                                                                                                                                                                                                                                                                                                                                                                                                                                                             \n",
      "\\\n",
      "2\n",
      "XTENSION= 'BINTABLE'           / binary table extension                         BITPIX  =                    8 / 8-bit bytes                                    NAXIS   =                    2 / 2-dimensional binary table                     NAXIS1  =                   84 / width of table in bytes                        NAXIS2  =                  870 / number of rows in table                        PCOUNT  =                    0 / size of special data area                      GCOUNT  =                    1 / one data group (required keyword)              TFIELDS =                    9 / number of fields in each row                   TTYPE1  = 'LOS_ID  '           / label for field   1                            TFORM1  = 'K       '           / data format of field: 8-byte INTEGER           TTYPE2  = 'RA      '           / label for field   2                            TFORM2  = 'D       '           / data format of field: 8-byte DOUBLE            TUNIT2  = 'rad     '           / physical unit of field                         TTYPE3  = 'DEC     '           / label for field   3                            TFORM3  = 'D       '           / data format of field: 8-byte DOUBLE            TUNIT3  = 'rad     '           / physical unit of field                         TTYPE4  = 'Z       '           / label for field   4                            TFORM4  = 'D       '           / data format of field: 8-byte DOUBLE            TTYPE5  = 'MEANSNR '           / label for field   5                            TFORM5  = 'D       '           / data format of field: 8-byte DOUBLE            TTYPE6  = 'TARGETID'           / label for field   6                            TFORM6  = 'K       '           / data format of field: 8-byte INTEGER           TTYPE7  = 'NIGHT   '           / label for field   7                            TFORM7  = '12A     '           / data format of field: ASCII Character          TTYPE8  = 'PETAL   '           / label for field   8                            TFORM8  = '12A     '           / data format of field: ASCII Character          TTYPE9  = 'TILE    '           / label for field   9                            TFORM9  = '12A     '           / data format of field: ASCII Character          EXTNAME = 'METADATA'           / name of this binary table extension            BLINDING= 'none    '           / blinding scheme used                           COMMENT Per-forest metadata                                                     CHECKSUM= 'llbZniaZliaZliaZ'   / HDU checksum updated 2025-01-23T15:52:43       DATASUM = '41830252'           / data unit checksum updated 2025-01-23T15:52:43 END                                                                                                                                                                                                                                             \n",
      "\\\n",
      "3\n",
      "XTENSION= 'IMAGE   '           / IMAGE extension                                BITPIX  =                  -64 / number of bits per data pixel                  NAXIS   =                    2 / number of data axes                            NAXIS1  =                 2716 / length of data axis 1                          NAXIS2  =                  870 / length of data axis 2                          PCOUNT  =                    0 / required keyword; must = 0                     GCOUNT  =                    1 / required keyword; must = 1                     EXTNAME = 'DELTA   '                                                            BUNIT   = '        '           / delta units (unitless)                         COMMENT Flux transmission field in wavelength bins                              CHECKSUM= 'fg2fif1dff1dff1d'   / HDU checksum updated 2025-01-23T15:52:43       DATASUM = '1344171978'         / data unit checksum updated 2025-01-23T15:52:43 END                                                                                                                                                                                                                                                                                                                                                                                                                                                                                                                                                                                                                                                                                                                                                                                                                                                                                                                                                                                                                                                                                                                                                                                                                                                                                                                                                                                                                                                                                                                                                                                                                                                                                                                                                                                                                                                                                                                                                                                             \n",
      "\\\n",
      "4\n",
      "XTENSION= 'IMAGE   '           / IMAGE extension                                BITPIX  =                  -64 / number of bits per data pixel                  NAXIS   =                    2 / number of data axes                            NAXIS1  =                 2716 / length of data axis 1                          NAXIS2  =                  870 / length of data axis 2                          PCOUNT  =                    0 / required keyword; must = 0                     GCOUNT  =                    1 / required keyword; must = 1                     EXTNAME = 'WEIGHT  '                                                            COMMENT Weights in wavelength bins                                              CHECKSUM= 'eaaQeZSOeaYOeYYO'   / HDU checksum updated 2025-01-23T15:52:43       DATASUM = '3626726830'         / data unit checksum updated 2025-01-23T15:52:43 END                                                                                                                                                                                                                                                                                                                                                                                                                                                                                                                                                                                                                                                                                                                                                                                                                                                                                                                                                                                                                                                                                                                                                                                                                                                                                                                                                                                                                                                                                                                                                                                                                                                                                                                                                                                                                                                                                                                                                                                                                                                                             \n",
      "\\\n",
      "5\n",
      "XTENSION= 'IMAGE   '           / IMAGE extension                                BITPIX  =                  -64 / number of bits per data pixel                  NAXIS   =                    2 / number of data axes                            NAXIS1  =                 2716 / length of data axis 1                          NAXIS2  =                  870 / length of data axis 2                          PCOUNT  =                    0 / required keyword; must = 0                     GCOUNT  =                    1 / required keyword; must = 1                     EXTNAME = 'CONT    '                                                            COMMENT Quasar continuum in wavelength bins                                     CHECKSUM= '5OPR5NPO5NPO5NPO'   / HDU checksum updated 2025-01-23T15:52:43       DATASUM = '3463817527'         / data unit checksum updated 2025-01-23T15:52:43 END                                                                                                                                                                                                                                                                                                                                                                                                                                                                                                                                                                                                                                                                                                                                                                                                                                                                                                                                                                                                                                                                                                                                                                                                                                                                                                                                                                                                                                                                                                                                                                                                                                                                                                                                                                                                                                                                                                                                                                                                                                                                             \n",
      "\\\n"
     ]
    }
   ],
   "source": [
    "for i in range(1, len(hdu)):\n",
    "    print(i)\n",
    "    print(hdu[i].header)\n",
    "    print(\"\\\\\")"
   ]
  },
  {
   "cell_type": "code",
   "execution_count": 4,
   "id": "4727cf09-96b3-4285-8cde-24d1abc54b63",
   "metadata": {},
   "outputs": [],
   "source": [
    "wave = hdu[1].data\n",
    "ra = hdu[2].data['RA']\n",
    "dec = hdu[2].data['DEC']\n",
    "zqso = hdu[2].data['Z']\n",
    "qid= hdu[2].data['LOS_ID']\n",
    "delta = hdu[3].data\n",
    "weights = hdu[4].data\n",
    "cont = hdu[5].data"
   ]
  },
  {
   "cell_type": "code",
   "execution_count": 5,
   "id": "ca2d244f-a593-4479-9c1d-c578461d91b0",
   "metadata": {},
   "outputs": [
    {
     "name": "stdout",
     "output_type": "stream",
     "text": [
      "431\n"
     ]
    }
   ],
   "source": [
    "obj_ind = np.where(qid==500064150)[0][0]\n",
    "print(obj_ind)"
   ]
  },
  {
   "cell_type": "code",
   "execution_count": 61,
   "id": "cd072855-e3aa-4c72-b314-8f4101810352",
   "metadata": {},
   "outputs": [
    {
     "data": {
      "image/png": "[encoded data removed]",
      "text/plain": [
       "<Figure size 720x216 with 3 Axes>"
      ]
     },
     "metadata": {
      "needs_background": "light"
     },
     "output_type": "display_data"
    }
   ],
   "source": [
    "fig,axarr=pl.subplots(1,3,figsize=[10,3])\n",
    "pl.sca(axarr[0])\n",
    "pl.plot(wave, delta[obj_ind, :])\n",
    "pl.xlabel(\"wavelength\")\n",
    "pl.ylabel(\"delta\")\n",
    "\n",
    "pl.sca(axarr[1])\n",
    "pl.plot(wave, weights[obj_ind, :])\n",
    "pl.xlabel(\"wavelength\")\n",
    "pl.ylabel(\"weight\")\n",
    "\n",
    "pl.sca(axarr[2])\n",
    "pl.plot(wave, cont[obj_ind, :])\n",
    "pl.xlabel(\"wavelength\")\n",
    "pl.ylabel(\"cont\")\n",
    "\n",
    "pl.tight_layout()"
   ]
  },
  {
   "cell_type": "code",
   "execution_count": 5,
   "id": "8f37b2b4-7fba-48c6-b0aa-f96187211fe0",
   "metadata": {},
   "outputs": [],
   "source": [
    "# inspect results from one run:\n",
    "fin = fits.open(\"/pscratch/sd/q/qhang/desi-lya/delta_F-noise/delta-noisy-desi-footprint-chunk-0.fits\")"
   ]
  },
  {
   "cell_type": "code",
   "execution_count": 6,
   "id": "0725d9c6-845a-48ac-98a6-4ba53148797b",
   "metadata": {},
   "outputs": [
    {
     "data": {
      "text/plain": [
       "XTENSION= 'BINTABLE'           / binary table extension                         \n",
       "BITPIX  =                    8 / array data type                                \n",
       "NAXIS   =                    2 / number of array dimensions                     \n",
       "NAXIS1  =                   56 / length of dimension 1                          \n",
       "NAXIS2  =               318261 / length of dimension 2                          \n",
       "PCOUNT  =                    0 / number of group parameters                     \n",
       "GCOUNT  =                    1 / number of groups                               \n",
       "TFIELDS =                    7 / number of table fields                         \n",
       "TTYPE1  = 'RA      '                                                            \n",
       "TFORM1  = 'D       '                                                            \n",
       "TTYPE2  = 'DEC     '                                                            \n",
       "TFORM2  = 'D       '                                                            \n",
       "TTYPE3  = 'Z       '                                                            \n",
       "TFORM3  = 'D       '                                                            \n",
       "TTYPE4  = 'ZQSO    '                                                            \n",
       "TFORM4  = 'D       '                                                            \n",
       "TTYPE5  = 'DELTA_F '                                                            \n",
       "TFORM5  = 'D       '                                                            \n",
       "TTYPE6  = 'NPIX    '                                                            \n",
       "TFORM6  = 'D       '                                                            \n",
       "TTYPE7  = 'TOTWEIGHTS'                                                          \n",
       "TFORM7  = 'D       '                                                            "
      ]
     },
     "execution_count": 6,
     "metadata": {},
     "output_type": "execute_result"
    }
   ],
   "source": [
    "fin[1].header"
   ]
  },
  {
   "cell_type": "code",
   "execution_count": 7,
   "id": "2eac9941-e94c-4e15-87b6-6238e703649d",
   "metadata": {},
   "outputs": [],
   "source": [
    "ra = fin[1].data['RA']\n",
    "dec = fin[1].data['DEC']"
   ]
  },
  {
   "cell_type": "code",
   "execution_count": 8,
   "id": "701fe9df-4942-4735-8f67-fc85a50c26e1",
   "metadata": {},
   "outputs": [
    {
     "data": {
      "text/plain": [
       "<matplotlib.collections.PathCollection at 0x7f6f7abb13a0>"
      ]
     },
     "execution_count": 8,
     "metadata": {},
     "output_type": "execute_result"
    },
    {
     "data": {
      "image/png": "[encoded data removed]",
      "text/plain": [
       "<Figure size 432x288 with 1 Axes>"
      ]
     },
     "metadata": {
      "needs_background": "light"
     },
     "output_type": "display_data"
    }
   ],
   "source": [
    "pl.scatter(ra, dec)"
   ]
  },
  {
   "cell_type": "code",
   "execution_count": 9,
   "id": "a00f1c42-eecd-4be2-8a3c-8e419c987542",
   "metadata": {},
   "outputs": [
    {
     "data": {
      "image/png": "[encoded data removed]",
      "text/plain": [
       "<Figure size 432x288 with 1 Axes>"
      ]
     },
     "metadata": {
      "needs_background": "light"
     },
     "output_type": "display_data"
    }
   ],
   "source": [
    "cc=pl.hist(fin[1].data['Z'],histtype='step')\n",
    "cc=pl.hist(fin[1].data['ZQSO'],histtype='step')"
   ]
  },
  {
   "cell_type": "code",
   "execution_count": 10,
   "id": "9da49ddd-233e-4ca5-8647-3fec5a5dc77c",
   "metadata": {},
   "outputs": [
    {
     "data": {
      "image/png": "[encoded data removed]",
      "text/plain": [
       "<Figure size 432x288 with 1 Axes>"
      ]
     },
     "metadata": {
      "needs_background": "light"
     },
     "output_type": "display_data"
    }
   ],
   "source": [
    "cc=pl.hist(fin[1].data['DELTA_F'],range=[-1,1],bins=50, histtype='step')"
   ]
  },
  {
   "cell_type": "code",
   "execution_count": 12,
   "id": "10aa9d60-95d3-444c-a4b6-ce034d4dc70b",
   "metadata": {},
   "outputs": [
    {
     "data": {
      "text/plain": [
       "<matplotlib.colorbar.Colorbar at 0x7f6f7a712610>"
      ]
     },
     "execution_count": 12,
     "metadata": {},
     "output_type": "execute_result"
    },
    {
     "data": {
      "image/png": "[encoded data removed]",
      "text/plain": [
       "<Figure size 432x288 with 2 Axes>"
      ]
     },
     "metadata": {
      "needs_background": "light"
     },
     "output_type": "display_data"
    }
   ],
   "source": [
    "cc=pl.hist2d(fin[1].data['DELTA_F'], fin[1].data['TOTWEIGHTS']/fin[1].data['NPIX'],\n",
    "            bins=[50,50], norm=colors.LogNorm(),range=[[-10,10],[0,3.2]])\n",
    "pl.colorbar()"
   ]
  },
  {
   "cell_type": "code",
   "execution_count": 16,
   "id": "0904d99a-4db6-4f2c-8b0f-dfe13e39052c",
   "metadata": {},
   "outputs": [
    {
     "name": "stdout",
     "output_type": "stream",
     "text": [
      "36\n",
      "[0. 0. 0. 0. 0. 0. 0. 0. 0. 0. 0. 0. 0. 0. 0. 0. 0. 0. 0. 0. 0. 0. 0. 0.\n",
      " 0. 0. 0. 0. 0. 0. 0. 0. 0. 0. 0. 0.]\n"
     ]
    }
   ],
   "source": [
    "weights = fin[1].data['TOTWEIGHTS']/fin[1].data['NPIX']\n",
    "print(sum(weights == 0))\n",
    "print(fin[1].data['DELTA_F'][weights == 0])"
   ]
  },
  {
   "cell_type": "code",
   "execution_count": null,
   "id": "8ecd771a-6d48-4eed-b9ae-439d3cca4f3a",
   "metadata": {},
   "outputs": [],
   "source": [
    "# we can mask some pixels with very low weights (compare with no masking etc.)"
   ]
  },
  {
   "cell_type": "markdown",
   "id": "e950b3d4-71e4-49ca-873e-7668c18ec6e4",
   "metadata": {},
   "source": [
    "# Check combine runs"
   ]
  },
  {
   "cell_type": "code",
   "execution_count": 17,
   "id": "3030ef53-1ea3-440d-b371-48cc1c25ac23",
   "metadata": {},
   "outputs": [],
   "source": [
    "# functions\n",
    "def save_catalog_to_fits(fname, data_matrix):\n",
    "    c=[]\n",
    "    dtype_to_fits_type = {'int64': 'K',\n",
    "                          'float64': 'D',\n",
    "                          'float32': 'E',\n",
    "                          '<U6': '20A',\n",
    "                          'bool': 'bool',\n",
    "                          '>f8': 'D',\n",
    "                          '>f4': 'E',\n",
    "                         }\n",
    "    \n",
    "    for ii, keys in enumerate(data_matrix.keys()):\n",
    "        col=fits.Column(name=keys, array=data_matrix[keys],\n",
    "                        format=dtype_to_fits_type[str(data_matrix[keys].dtype)])\n",
    "        c.append(col)\n",
    "    t = fits.BinTableHDU.from_columns(c)\n",
    "    t.writeto(fname)\n"
   ]
  },
  {
   "cell_type": "code",
   "execution_count": 19,
   "id": "2de87182-f711-4607-ad8c-1ba80b8287ba",
   "metadata": {},
   "outputs": [
    {
     "name": "stdout",
     "output_type": "stream",
     "text": [
      "Number of objects in chunk:  5164256\n",
      "saved: /pscratch/sd/q/qhang/desi-lya/delta_F-noise/delta-noisy-desi-footprint.fits\n"
     ]
    }
   ],
   "source": [
    "keys = ['RA', 'DEC', 'Z', 'ZQSO', 'DELTA_F', 'NPIX', 'TOTWEIGHTS']\n",
    "data_holder = {}\n",
    "for key in keys:\n",
    "    data_holder[key] = np.array([])\n",
    "\n",
    "nchunks = 16\n",
    "root = \"/pscratch/sd/q/qhang/desi-lya/delta_F-noise/\"\n",
    "for n in range(nchunks):\n",
    "    fname = root +  f\"delta-noisy-desi-footprint-chunk-{n}.fits\"\n",
    "    fin = fits.open(fname)\n",
    "    for key in keys:\n",
    "        data_holder[key] = np.append(data_holder[key], fin[1].data[key])\n",
    "\n",
    "print(\"Number of objects in chunk: \", len(data_holder[\"DELTA_F\"]))\n",
    "# save\n",
    "savename = root + \"delta-noisy-desi-footprint.fits\"\n",
    "save_catalog_to_fits(savename, data_holder)\n",
    "print(f\"saved: {savename}\")"
   ]
  },
  {
   "cell_type": "code",
   "execution_count": null,
   "id": "49726fd2-d0f1-4118-9730-1bc12882c8ff",
   "metadata": {},
   "outputs": [],
   "source": []
  },
  {
   "cell_type": "code",
   "execution_count": null,
   "id": "1f5f4441-9b21-451e-a8c0-a6df0d9ba5da",
   "metadata": {},
   "outputs": [],
   "source": []
  }
 ],
 "metadata": {
  "kernelspec": {
   "display_name": "condarail",
   "language": "python",
   "name": "condarail"
  },
  "language_info": {
   "codemirror_mode": {
    "name": "ipython",
    "version": 3
   },
   "file_extension": ".py",
   "mimetype": "text/x-python",
   "name": "python",
   "nbconvert_exporter": "python",
   "pygments_lexer": "ipython3",
   "version": "3.9.12"
  }
 },
 "nbformat": 4,
 "nbformat_minor": 5
}
