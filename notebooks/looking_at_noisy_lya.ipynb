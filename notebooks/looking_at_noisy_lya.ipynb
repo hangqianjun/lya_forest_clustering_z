{
 "cells": [
  {
   "cell_type": "code",
   "execution_count": 1,
   "id": "7ef5088f-83dd-4b37-9a21-e1298515ab1e",
   "metadata": {},
   "outputs": [],
   "source": [
    "import numpy as np\n",
    "from astropy.io import fits\n",
    "import pylab as pl\n",
    "import healpy as hp\n",
    "from glob import glob"
   ]
  },
  {
   "cell_type": "code",
   "execution_count": 2,
   "id": "3e9d45ba-7d95-42db-911b-1eb578b40a97",
   "metadata": {},
   "outputs": [],
   "source": [
    "import matplotlib.colors as colors"
   ]
  },
  {
   "cell_type": "markdown",
   "id": "707c6557-ca55-4627-b578-a022cbf4bb9c",
   "metadata": {},
   "source": [
    "# Check one file"
   ]
  },
  {
   "cell_type": "code",
   "execution_count": 11,
   "id": "96dd9cc0-2cea-4c1b-b81e-004c9f75a020",
   "metadata": {},
   "outputs": [],
   "source": [
    "root = \"/global/cfs/cdirs/desicollab/users/lauracdp/photo-z_box/lya_mocks/mock_analysis/qq_desi_y5/skewers_desi_footprint.5/analysis-0/jura-0/\"\n",
    "root += \"true_cont/deltas_lya/Delta/\""
   ]
  },
  {
   "cell_type": "code",
   "execution_count": 12,
   "id": "c0df4971-6b31-48b4-9e34-b9b9fcb82771",
   "metadata": {},
   "outputs": [],
   "source": [
    "example_file = root + \"delta-1375.fits.gz\"\n",
    "hdu=fits.open(example_file)"
   ]
  },
  {
   "cell_type": "code",
   "execution_count": 13,
   "id": "53f41331-0edb-4ee2-aca5-3be6a87d5720",
   "metadata": {},
   "outputs": [
    {
     "data": {
      "text/plain": [
       "<bound method HDUList.info of [<astropy.io.fits.hdu.image.PrimaryHDU object at 0x7ff6978a9ca0>, <astropy.io.fits.hdu.image.ImageHDU object at 0x7ff69710bd90>, <astropy.io.fits.hdu.table.BinTableHDU object at 0x7ff6971f3520>, <astropy.io.fits.hdu.image.ImageHDU object at 0x7ff69710b7c0>, <astropy.io.fits.hdu.image.ImageHDU object at 0x7ff697118220>, <astropy.io.fits.hdu.image.ImageHDU object at 0x7ff6971183a0>]>"
      ]
     },
     "execution_count": 13,
     "metadata": {},
     "output_type": "execute_result"
    }
   ],
   "source": [
    "# print table information:\n",
    "hdu.info"
   ]
  },
  {
   "cell_type": "code",
   "execution_count": 14,
   "id": "084ce05a-ad54-483b-a7be-a6a7cd24971a",
   "metadata": {},
   "outputs": [
    {
     "data": {
      "text/plain": [
       "6"
      ]
     },
     "execution_count": 14,
     "metadata": {},
     "output_type": "execute_result"
    }
   ],
   "source": [
    "len(hdu)"
   ]
  },
  {
   "cell_type": "code",
   "execution_count": 7,
   "id": "79708de9-edcb-4de1-b1be-a02e79e37747",
   "metadata": {},
   "outputs": [
    {
     "name": "stdout",
     "output_type": "stream",
     "text": [
      "1\n",
      "XTENSION= 'IMAGE   '           / IMAGE extension                                BITPIX  =                  -64 / number of bits per data pixel                  NAXIS   =                    1 / number of data axes                            NAXIS1  =                 2716 / length of data axis 1                          PCOUNT  =                    0 / required keyword; must = 0                     GCOUNT  =                    1 / required keyword; must = 1                     EXTNAME = 'LAMBDA  '                                                            BUNIT   = 'Angstrom'           / wavelength units                               HIERARCH WAVE_SOLUTION = 'lin     ' / chosen wavelength solution                HIERARCH DELTA_LAMBDA =    0.8 / pixel step                                     COMMENT Wavelength grid                                                         CHECKSUM= 'VD9SYD6QVD6QVD6Q'   / HDU checksum updated 2025-02-18T22:08:15       DATASUM = '1634060384'         / data unit checksum updated 2025-02-18T22:08:15 END                                                                                                                                                                                                                                                                                                                                                                                                                                                                                                                                                                                                                                                                                                                                                                                                                                                                                                                                                                                                                                                                                                                                                                                                                                                                                                                                                                                                                                                                                                                                                                                                                                                                                                                                                                                                                                                                                                             \n",
      "\\\n",
      "2\n",
      "XTENSION= 'BINTABLE'           / binary table extension                         BITPIX  =                    8 / 8-bit bytes                                    NAXIS   =                    2 / 2-dimensional binary table                     NAXIS1  =                   84 / width of table in bytes                        NAXIS2  =                  888 / number of rows in table                        PCOUNT  =                    0 / size of special data area                      GCOUNT  =                    1 / one data group (required keyword)              TFIELDS =                    9 / number of fields in each row                   TTYPE1  = 'LOS_ID  '           / label for field   1                            TFORM1  = 'K       '           / data format of field: 8-byte INTEGER           TTYPE2  = 'RA      '           / label for field   2                            TFORM2  = 'D       '           / data format of field: 8-byte DOUBLE            TUNIT2  = 'rad     '           / physical unit of field                         TTYPE3  = 'DEC     '           / label for field   3                            TFORM3  = 'D       '           / data format of field: 8-byte DOUBLE            TUNIT3  = 'rad     '           / physical unit of field                         TTYPE4  = 'Z       '           / label for field   4                            TFORM4  = 'D       '           / data format of field: 8-byte DOUBLE            TTYPE5  = 'MEANSNR '           / label for field   5                            TFORM5  = 'D       '           / data format of field: 8-byte DOUBLE            TTYPE6  = 'TARGETID'           / label for field   6                            TFORM6  = 'K       '           / data format of field: 8-byte INTEGER           TTYPE7  = 'NIGHT   '           / label for field   7                            TFORM7  = '12A     '           / data format of field: ASCII Character          TTYPE8  = 'PETAL   '           / label for field   8                            TFORM8  = '12A     '           / data format of field: ASCII Character          TTYPE9  = 'TILE    '           / label for field   9                            TFORM9  = '12A     '           / data format of field: ASCII Character          EXTNAME = 'METADATA'           / name of this binary table extension            BLINDING= 'none    '           / blinding scheme used                           COMMENT Per-forest metadata                                                     CHECKSUM= 'cn27ck24ck24ck24'   / HDU checksum updated 2025-02-18T22:08:15       DATASUM = '3793738867'         / data unit checksum updated 2025-02-18T22:08:15 END                                                                                                                                                                                                                                             \n",
      "\\\n",
      "3\n",
      "XTENSION= 'IMAGE   '           / IMAGE extension                                BITPIX  =                  -64 / number of bits per data pixel                  NAXIS   =                    2 / number of data axes                            NAXIS1  =                 2716 / length of data axis 1                          NAXIS2  =                  888 / length of data axis 2                          PCOUNT  =                    0 / required keyword; must = 0                     GCOUNT  =                    1 / required keyword; must = 1                     EXTNAME = 'DELTA   '                                                            BUNIT   = '        '           / delta units (unitless)                         COMMENT Flux transmission field in wavelength bins                              CHECKSUM= 'LRANLQ9NLQANLQ9N'   / HDU checksum updated 2025-02-18T22:08:15       DATASUM = '2882916906'         / data unit checksum updated 2025-02-18T22:08:15 END                                                                                                                                                                                                                                                                                                                                                                                                                                                                                                                                                                                                                                                                                                                                                                                                                                                                                                                                                                                                                                                                                                                                                                                                                                                                                                                                                                                                                                                                                                                                                                                                                                                                                                                                                                                                                                                                                                                                                                                             \n",
      "\\\n",
      "4\n",
      "XTENSION= 'IMAGE   '           / IMAGE extension                                BITPIX  =                  -64 / number of bits per data pixel                  NAXIS   =                    2 / number of data axes                            NAXIS1  =                 2716 / length of data axis 1                          NAXIS2  =                  888 / length of data axis 2                          PCOUNT  =                    0 / required keyword; must = 0                     GCOUNT  =                    1 / required keyword; must = 1                     EXTNAME = 'WEIGHT  '                                                            COMMENT Weights in wavelength bins                                              CHECKSUM= 'NAPUQ6ORNAORN3OR'   / HDU checksum updated 2025-02-18T22:08:15       DATASUM = '1698525442'         / data unit checksum updated 2025-02-18T22:08:15 END                                                                                                                                                                                                                                                                                                                                                                                                                                                                                                                                                                                                                                                                                                                                                                                                                                                                                                                                                                                                                                                                                                                                                                                                                                                                                                                                                                                                                                                                                                                                                                                                                                                                                                                                                                                                                                                                                                                                                                                                                                                                             \n",
      "\\\n",
      "5\n",
      "XTENSION= 'IMAGE   '           / IMAGE extension                                BITPIX  =                  -64 / number of bits per data pixel                  NAXIS   =                    2 / number of data axes                            NAXIS1  =                 2716 / length of data axis 1                          NAXIS2  =                  888 / length of data axis 2                          PCOUNT  =                    0 / required keyword; must = 0                     GCOUNT  =                    1 / required keyword; must = 1                     EXTNAME = 'CONT    '                                                            COMMENT Quasar continuum in wavelength bins                                     CHECKSUM= 'Dh1EEe09De0CDe09'   / HDU checksum updated 2025-02-18T22:08:15       DATASUM = '2045373941'         / data unit checksum updated 2025-02-18T22:08:15 END                                                                                                                                                                                                                                                                                                                                                                                                                                                                                                                                                                                                                                                                                                                                                                                                                                                                                                                                                                                                                                                                                                                                                                                                                                                                                                                                                                                                                                                                                                                                                                                                                                                                                                                                                                                                                                                                                                                                                                                                                                                                             \n",
      "\\\n"
     ]
    }
   ],
   "source": [
    "for i in range(1, len(hdu)):\n",
    "    print(i)\n",
    "    print(hdu[i].header)\n",
    "    print(\"\\\\\")"
   ]
  },
  {
   "cell_type": "code",
   "execution_count": 4,
   "id": "4727cf09-96b3-4285-8cde-24d1abc54b63",
   "metadata": {},
   "outputs": [],
   "source": [
    "wave = hdu[1].data\n",
    "ra = hdu[2].data['RA']\n",
    "dec = hdu[2].data['DEC']\n",
    "zqso = hdu[2].data['Z']\n",
    "qid= hdu[2].data['LOS_ID']\n",
    "delta = hdu[3].data\n",
    "weights = hdu[4].data\n",
    "cont = hdu[5].data"
   ]
  },
  {
   "cell_type": "code",
   "execution_count": 5,
   "id": "ca2d244f-a593-4479-9c1d-c578461d91b0",
   "metadata": {},
   "outputs": [
    {
     "name": "stdout",
     "output_type": "stream",
     "text": [
      "431\n"
     ]
    }
   ],
   "source": [
    "obj_ind = np.where(qid==500064150)[0][0]\n",
    "print(obj_ind)"
   ]
  },
  {
   "cell_type": "code",
   "execution_count": 61,
   "id": "cd072855-e3aa-4c72-b314-8f4101810352",
   "metadata": {},
   "outputs": [
    {
     "data": {
      "image/png": "[encoded data removed]",
      "text/plain": [
       "<Figure size 720x216 with 3 Axes>"
      ]
     },
     "metadata": {
      "needs_background": "light"
     },
     "output_type": "display_data"
    }
   ],
   "source": [
    "fig,axarr=pl.subplots(1,3,figsize=[10,3])\n",
    "pl.sca(axarr[0])\n",
    "pl.plot(wave, delta[obj_ind, :])\n",
    "pl.xlabel(\"wavelength\")\n",
    "pl.ylabel(\"delta\")\n",
    "\n",
    "pl.sca(axarr[1])\n",
    "pl.plot(wave, weights[obj_ind, :])\n",
    "pl.xlabel(\"wavelength\")\n",
    "pl.ylabel(\"weight\")\n",
    "\n",
    "pl.sca(axarr[2])\n",
    "pl.plot(wave, cont[obj_ind, :])\n",
    "pl.xlabel(\"wavelength\")\n",
    "pl.ylabel(\"cont\")\n",
    "\n",
    "pl.tight_layout()"
   ]
  },
  {
   "cell_type": "code",
   "execution_count": 5,
   "id": "8f37b2b4-7fba-48c6-b0aa-f96187211fe0",
   "metadata": {},
   "outputs": [],
   "source": [
    "# inspect results from one run:\n",
    "fin = fits.open(\"/pscratch/sd/q/qhang/desi-lya/delta_F-noise/delta-noisy-desi-footprint-chunk-0.fits\")"
   ]
  },
  {
   "cell_type": "code",
   "execution_count": 6,
   "id": "0725d9c6-845a-48ac-98a6-4ba53148797b",
   "metadata": {},
   "outputs": [
    {
     "data": {
      "text/plain": [
       "XTENSION= 'BINTABLE'           / binary table extension                         \n",
       "BITPIX  =                    8 / array data type                                \n",
       "NAXIS   =                    2 / number of array dimensions                     \n",
       "NAXIS1  =                   56 / length of dimension 1                          \n",
       "NAXIS2  =               318261 / length of dimension 2                          \n",
       "PCOUNT  =                    0 / number of group parameters                     \n",
       "GCOUNT  =                    1 / number of groups                               \n",
       "TFIELDS =                    7 / number of table fields                         \n",
       "TTYPE1  = 'RA      '                                                            \n",
       "TFORM1  = 'D       '                                                            \n",
       "TTYPE2  = 'DEC     '                                                            \n",
       "TFORM2  = 'D       '                                                            \n",
       "TTYPE3  = 'Z       '                                                            \n",
       "TFORM3  = 'D       '                                                            \n",
       "TTYPE4  = 'ZQSO    '                                                            \n",
       "TFORM4  = 'D       '                                                            \n",
       "TTYPE5  = 'DELTA_F '                                                            \n",
       "TFORM5  = 'D       '                                                            \n",
       "TTYPE6  = 'NPIX    '                                                            \n",
       "TFORM6  = 'D       '                                                            \n",
       "TTYPE7  = 'TOTWEIGHTS'                                                          \n",
       "TFORM7  = 'D       '                                                            "
      ]
     },
     "execution_count": 6,
     "metadata": {},
     "output_type": "execute_result"
    }
   ],
   "source": [
    "fin[1].header"
   ]
  },
  {
   "cell_type": "code",
   "execution_count": 7,
   "id": "2eac9941-e94c-4e15-87b6-6238e703649d",
   "metadata": {},
   "outputs": [],
   "source": [
    "ra = fin[1].data['RA']\n",
    "dec = fin[1].data['DEC']"
   ]
  },
  {
   "cell_type": "code",
   "execution_count": 8,
   "id": "701fe9df-4942-4735-8f67-fc85a50c26e1",
   "metadata": {},
   "outputs": [
    {
     "data": {
      "text/plain": [
       "<matplotlib.collections.PathCollection at 0x7f6f7abb13a0>"
      ]
     },
     "execution_count": 8,
     "metadata": {},
     "output_type": "execute_result"
    },
    {
     "data": {
      "image/png": "[encoded data removed]",
      "text/plain": [
       "<Figure size 432x288 with 1 Axes>"
      ]
     },
     "metadata": {
      "needs_background": "light"
     },
     "output_type": "display_data"
    }
   ],
   "source": [
    "pl.scatter(ra, dec)"
   ]
  },
  {
   "cell_type": "code",
   "execution_count": 9,
   "id": "a00f1c42-eecd-4be2-8a3c-8e419c987542",
   "metadata": {},
   "outputs": [
    {
     "data": {
      "image/png": "[encoded data removed]",
      "text/plain": [
       "<Figure size 432x288 with 1 Axes>"
      ]
     },
     "metadata": {
      "needs_background": "light"
     },
     "output_type": "display_data"
    }
   ],
   "source": [
    "cc=pl.hist(fin[1].data['Z'],histtype='step')\n",
    "cc=pl.hist(fin[1].data['ZQSO'],histtype='step')"
   ]
  },
  {
   "cell_type": "code",
   "execution_count": 10,
   "id": "9da49ddd-233e-4ca5-8647-3fec5a5dc77c",
   "metadata": {},
   "outputs": [
    {
     "data": {
      "image/png": "[encoded data removed]",
      "text/plain": [
       "<Figure size 432x288 with 1 Axes>"
      ]
     },
     "metadata": {
      "needs_background": "light"
     },
     "output_type": "display_data"
    }
   ],
   "source": [
    "cc=pl.hist(fin[1].data['DELTA_F'],range=[-1,1],bins=50, histtype='step')"
   ]
  },
  {
   "cell_type": "code",
   "execution_count": 12,
   "id": "10aa9d60-95d3-444c-a4b6-ce034d4dc70b",
   "metadata": {},
   "outputs": [
    {
     "data": {
      "text/plain": [
       "<matplotlib.colorbar.Colorbar at 0x7f6f7a712610>"
      ]
     },
     "execution_count": 12,
     "metadata": {},
     "output_type": "execute_result"
    },
    {
     "data": {
      "image/png": "[encoded data removed]",
      "text/plain": [
       "<Figure size 432x288 with 2 Axes>"
      ]
     },
     "metadata": {
      "needs_background": "light"
     },
     "output_type": "display_data"
    }
   ],
   "source": [
    "cc=pl.hist2d(fin[1].data['DELTA_F'], fin[1].data['TOTWEIGHTS']/fin[1].data['NPIX'],\n",
    "            bins=[50,50], norm=colors.LogNorm(),range=[[-10,10],[0,3.2]])\n",
    "pl.colorbar()"
   ]
  },
  {
   "cell_type": "code",
   "execution_count": 16,
   "id": "0904d99a-4db6-4f2c-8b0f-dfe13e39052c",
   "metadata": {},
   "outputs": [
    {
     "name": "stdout",
     "output_type": "stream",
     "text": [
      "36\n",
      "[0. 0. 0. 0. 0. 0. 0. 0. 0. 0. 0. 0. 0. 0. 0. 0. 0. 0. 0. 0. 0. 0. 0. 0.\n",
      " 0. 0. 0. 0. 0. 0. 0. 0. 0. 0. 0. 0.]\n"
     ]
    }
   ],
   "source": [
    "weights = fin[1].data['TOTWEIGHTS']/fin[1].data['NPIX']\n",
    "print(sum(weights == 0))\n",
    "print(fin[1].data['DELTA_F'][weights == 0])"
   ]
  },
  {
   "cell_type": "code",
   "execution_count": null,
   "id": "8ecd771a-6d48-4eed-b9ae-439d3cca4f3a",
   "metadata": {},
   "outputs": [],
   "source": [
    "# we can mask some pixels with very low weights (compare with no masking etc.)"
   ]
  },
  {
   "cell_type": "markdown",
   "id": "e950b3d4-71e4-49ca-873e-7668c18ec6e4",
   "metadata": {},
   "source": [
    "# Check combine runs"
   ]
  },
  {
   "cell_type": "code",
   "execution_count": 17,
   "id": "3030ef53-1ea3-440d-b371-48cc1c25ac23",
   "metadata": {},
   "outputs": [],
   "source": [
    "# functions\n",
    "def save_catalog_to_fits(fname, data_matrix):\n",
    "    c=[]\n",
    "    dtype_to_fits_type = {'int64': 'K',\n",
    "                          'float64': 'D',\n",
    "                          'float32': 'E',\n",
    "                          '<U6': '20A',\n",
    "                          'bool': 'bool',\n",
    "                          '>f8': 'D',\n",
    "                          '>f4': 'E',\n",
    "                         }\n",
    "    \n",
    "    for ii, keys in enumerate(data_matrix.keys()):\n",
    "        col=fits.Column(name=keys, array=data_matrix[keys],\n",
    "                        format=dtype_to_fits_type[str(data_matrix[keys].dtype)])\n",
    "        c.append(col)\n",
    "    t = fits.BinTableHDU.from_columns(c)\n",
    "    t.writeto(fname)\n"
   ]
  },
  {
   "cell_type": "code",
   "execution_count": 19,
   "id": "2de87182-f711-4607-ad8c-1ba80b8287ba",
   "metadata": {},
   "outputs": [
    {
     "name": "stdout",
     "output_type": "stream",
     "text": [
      "Number of objects in chunk:  5164256\n",
      "saved: /pscratch/sd/q/qhang/desi-lya/delta_F-noise/delta-noisy-desi-footprint.fits\n"
     ]
    }
   ],
   "source": [
    "keys = ['RA', 'DEC', 'Z', 'ZQSO', 'DELTA_F', 'NPIX', 'TOTWEIGHTS']\n",
    "data_holder = {}\n",
    "for key in keys:\n",
    "    data_holder[key] = np.array([])\n",
    "\n",
    "nchunks = 16\n",
    "root = \"/pscratch/sd/q/qhang/desi-lya/delta_F-noise/\"\n",
    "for n in range(nchunks):\n",
    "    fname = root +  f\"delta-noisy-desi-footprint-chunk-{n}.fits\"\n",
    "    fin = fits.open(fname)\n",
    "    for key in keys:\n",
    "        data_holder[key] = np.append(data_holder[key], fin[1].data[key])\n",
    "\n",
    "print(\"Number of objects in chunk: \", len(data_holder[\"DELTA_F\"]))\n",
    "# save\n",
    "savename = root + \"delta-noisy-desi-footprint.fits\"\n",
    "save_catalog_to_fits(savename, data_holder)\n",
    "print(f\"saved: {savename}\")"
   ]
  },
  {
   "cell_type": "markdown",
   "id": "f42058fa-bdb8-4ed0-96fc-053ca6c01446",
   "metadata": {},
   "source": [
    "# raw "
   ]
  },
  {
   "cell_type": "code",
   "execution_count": 18,
   "id": "82ac243d-e448-4e4f-a2dc-166c0da09850",
   "metadata": {},
   "outputs": [
    {
     "name": "stdout",
     "output_type": "stream",
     "text": [
      "3072\n",
      "529\n"
     ]
    },
    {
     "data": {
      "text/plain": [
       "array([1077, 1078, 1079, 1080, 1081, 1082, 1083, 1084, 1085, 1086, 1087,\n",
       "       1088, 1089, 1090, 1092, 1093, 1094, 1095, 1096, 1097, 1098, 1100,\n",
       "       1101, 1102, 1103, 1140, 1141, 1142, 1143, 1144, 1145, 1146, 1147,\n",
       "       1148, 1149, 1150, 1151, 1152, 1153, 1154, 1155, 1156, 1157, 1158,\n",
       "       1159, 1160, 1161, 1162, 1163, 1164, 1165, 1166, 1167, 1204, 1205,\n",
       "       1206, 1207, 1208, 1209, 1210, 1211, 1212, 1213, 1214, 1215, 1216,\n",
       "       1217, 1218, 1219, 1220, 1221, 1222, 1223, 1224, 1225, 1226, 1227,\n",
       "       1228, 1229, 1230, 1231, 1268, 1269, 1270, 1271, 1272, 1273, 1274,\n",
       "       1275, 1276, 1277, 1278, 1279, 1280, 1281, 1282, 1283, 1284, 1285,\n",
       "       1286, 1287, 1288, 1289, 1290, 1291, 1292, 1293, 1294, 1333, 1334,\n",
       "       1335, 1336, 1337, 1338, 1339, 1340, 1341, 1342, 1343, 1344, 1345,\n",
       "       1346, 1347, 1348, 1349, 1350, 1351, 1352, 1353, 1354, 1355, 1356,\n",
       "       1357, 1358, 1376, 1377, 1378, 1379, 1380, 1381, 1382, 1383, 1384,\n",
       "       1397, 1398, 1399, 1400, 1401, 1402, 1403, 1404, 1405, 1406, 1407,\n",
       "       1408, 1409, 1410, 1411, 1412, 1413, 1414, 1415, 1416, 1417, 1418,\n",
       "       1419, 1420, 1421, 1431, 1432, 1433, 1434, 1436, 1437, 1438, 1439,\n",
       "       1440, 1441, 1442, 1443, 1444, 1445, 1446, 1447, 1448, 1449, 1450,\n",
       "       1461, 1462, 1463, 1464, 1465, 1466, 1467, 1468, 1469, 1470, 1471,\n",
       "       1472, 1473, 1474, 1475, 1476, 1477, 1478, 1479, 1480, 1481, 1482,\n",
       "       1483, 1484, 1485, 1486, 1495, 1496, 1497, 1498, 1499, 1500, 1501,\n",
       "       1502, 1503, 1504, 1505, 1506, 1507, 1508, 1509, 1510, 1511, 1512,\n",
       "       1513, 1514, 1515, 1525, 1526, 1527, 1528, 1529, 1530, 1531, 1532,\n",
       "       1533, 1534, 1535, 1536, 1537, 1538, 1539, 1540, 1541, 1542, 1543,\n",
       "       1544, 1545, 1546, 1547, 1548, 1549, 1558, 1559, 1560, 1561, 1562,\n",
       "       1563, 1564, 1565, 1566, 1567, 1568, 1569, 1570, 1571, 1572, 1573,\n",
       "       1574, 1575, 1576, 1577, 1578, 1579, 1580, 1590, 1591, 1592, 1593,\n",
       "       1594, 1595, 1596, 1597, 1598, 1599, 1600, 1601, 1602, 1603, 1604,\n",
       "       1605, 1606, 1607, 1608, 1609, 1610, 1611, 1612, 1613, 1623, 1624,\n",
       "       1625, 1626, 1627, 1628, 1629, 1630, 1631, 1632, 1633, 1634, 1635,\n",
       "       1636, 1637, 1638, 1639, 1640, 1641, 1642, 1643, 1644, 1653, 1654,\n",
       "       1655, 1656, 1657, 1658, 1659, 1660, 1661, 1662, 1663, 1664, 1665,\n",
       "       1666, 1667, 1668, 1669, 1670, 1671, 1672, 1686, 1687, 1688, 1689,\n",
       "       1690, 1691, 1692, 1693, 1694, 1695, 1696, 1697, 1698, 1699, 1700,\n",
       "       1701, 1702, 1703, 1704, 1705, 1706, 1707, 1708, 1709, 1718, 1719,\n",
       "       1720, 1721, 1722, 1723, 1724, 1725, 1726, 1727, 1728, 1729, 1730,\n",
       "       1731, 1732, 1733, 1734, 1735, 1736, 1737, 1751, 1752, 1753, 1754,\n",
       "       1755, 1756, 1757, 1758, 1759, 1760, 1761, 1762, 1763, 1764, 1765,\n",
       "       1766, 1767, 1768, 1769, 1770, 1771, 1772, 1782, 1783, 1784, 1785,\n",
       "       1786, 1787, 1788, 1789, 1790, 1791, 1792, 1793, 1794, 1795, 1796,\n",
       "       1797, 1798, 1799, 1800, 1814, 1815, 1816, 1817, 1818, 1819, 1820,\n",
       "       1821, 1822, 1823, 1824, 1825, 1826, 1827, 1828, 1829, 1830, 1831,\n",
       "       1832, 1833, 1834, 1835, 1836, 1853, 1854, 1855, 1856, 1857, 1858,\n",
       "       1859, 1860, 1861, 1879, 1880, 1881, 1882, 1883, 1884, 1885, 1886,\n",
       "       1887, 1888, 1889, 1890, 1891, 1892, 1893, 1894, 1895, 1896, 1897,\n",
       "       1898, 1899, 1900, 1943, 1944, 1945, 1946, 1947, 1948, 1949, 1950,\n",
       "       1951, 1952, 1953, 1954, 1955, 1956, 1957, 1958, 1959, 1960, 1961,\n",
       "       1962, 1963, 1964, 2010, 2013, 2014, 2015, 2017, 2018, 2019, 2020,\n",
       "       2021, 2022, 2023, 2024, 2025, 2026, 2082, 2083, 2084, 2086, 2087,\n",
       "       2089])"
      ]
     },
     "execution_count": 18,
     "metadata": {},
     "output_type": "execute_result"
    },
    {
     "data": {
      "image/png": "[encoded data removed]",
      "text/plain": [
       "<Figure size 612x388.8 with 2 Axes>"
      ]
     },
     "metadata": {
      "needs_background": "light"
     },
     "output_type": "display_data"
    }
   ],
   "source": [
    "# figure out pixels to use:\n",
    "mask = hp.read_map(\"/pscratch/sd/q/qhang/desi-lya/desixlsst-mask-nside-128.fits\")\n",
    "nside=hp.get_nside(mask)\n",
    "mask_degrade = hp.ud_grade(mask, 16)\n",
    "hp.mollview(mask_degrade)\n",
    "print(12*16**2)\n",
    "print(sum(mask_degrade.astype(bool)))\n",
    "pixels_in_mask = np.arange(12*16**2)[mask_degrade.astype(bool)]\n",
    "pixels_in_mask"
   ]
  },
  {
   "cell_type": "code",
   "execution_count": 25,
   "id": "aaf968c4-fc6e-459e-b84f-1be0f4d98233",
   "metadata": {},
   "outputs": [
    {
     "data": {
      "text/plain": [
       "'1146'"
      ]
     },
     "execution_count": 25,
     "metadata": {},
     "output_type": "execute_result"
    }
   ],
   "source": [
    "fname_list[1][161:-8]"
   ]
  },
  {
   "cell_type": "code",
   "execution_count": 28,
   "id": "cbb3a76a-3aaa-407b-9667-f2cd794beb99",
   "metadata": {},
   "outputs": [],
   "source": [
    "fname_pix = []\n",
    "for i in range(len(fname_list)):\n",
    "    fname_pix.append(int(fname_list[i][161:-8]))\n",
    "fname_pix = np.array(fname_pix)"
   ]
  },
  {
   "cell_type": "code",
   "execution_count": 31,
   "id": "05e75fa9-6d95-4fb4-96f2-e538fd8667f2",
   "metadata": {},
   "outputs": [
    {
     "data": {
      "image/png": "[encoded data removed]",
      "text/plain": [
       "<Figure size 612x388.8 with 2 Axes>"
      ]
     },
     "metadata": {
      "needs_background": "light"
     },
     "output_type": "display_data"
    }
   ],
   "source": [
    "fname_mask = np.zeros(12*16**2)\n",
    "fname_mask[fname_pix]=1\n",
    "hp.mollview(fname_mask)"
   ]
  },
  {
   "cell_type": "code",
   "execution_count": null,
   "id": "2cb6817b-34e7-4786-8a7f-f9581873e495",
   "metadata": {},
   "outputs": [],
   "source": []
  },
  {
   "cell_type": "code",
   "execution_count": 3,
   "id": "513d4fa5-3c31-4039-aa00-e869168ae21c",
   "metadata": {},
   "outputs": [
    {
     "data": {
      "text/plain": [
       "XTENSION= 'BINTABLE'           / binary table extension                         \n",
       "BITPIX  =                    8 / array data type                                \n",
       "NAXIS   =                    2 / number of array dimensions                     \n",
       "NAXIS1  =                   56 / length of dimension 1                          \n",
       "NAXIS2  =              2448986 / length of dimension 2                          \n",
       "PCOUNT  =                    0 / number of group parameters                     \n",
       "GCOUNT  =                    1 / number of groups                               \n",
       "TFIELDS =                    7 / number of table fields                         \n",
       "TTYPE1  = 'RA      '                                                            \n",
       "TFORM1  = 'D       '                                                            \n",
       "TTYPE2  = 'DEC     '                                                            \n",
       "TFORM2  = 'D       '                                                            \n",
       "TTYPE3  = 'Z       '                                                            \n",
       "TFORM3  = 'D       '                                                            \n",
       "TTYPE4  = 'ZQSO    '                                                            \n",
       "TFORM4  = 'D       '                                                            \n",
       "TTYPE5  = 'DELTA_F '                                                            \n",
       "TFORM5  = 'D       '                                                            \n",
       "TTYPE6  = 'NPIX    '                                                            \n",
       "TFORM6  = 'D       '                                                            \n",
       "TTYPE7  = 'TOTWEIGHTS'                                                          \n",
       "TFORM7  = 'D       '                                                            "
      ]
     },
     "execution_count": 3,
     "metadata": {},
     "output_type": "execute_result"
    }
   ],
   "source": [
    "fin = fits.open(\"/pscratch/sd/q/qhang/desi-lya/results/run-0/catalogue/delta-baseline.fits\")\n",
    "fin[1].header"
   ]
  },
  {
   "cell_type": "code",
   "execution_count": 4,
   "id": "3e0bd933-1638-43db-9f0b-da0703d98db9",
   "metadata": {},
   "outputs": [
    {
     "data": {
      "text/plain": [
       "<matplotlib.collections.PathCollection at 0x7fa800e749a0>"
      ]
     },
     "execution_count": 4,
     "metadata": {},
     "output_type": "execute_result"
    },
    {
     "data": {
      "image/png": "[encoded data removed]",
      "text/plain": [
       "<Figure size 432x288 with 1 Axes>"
      ]
     },
     "metadata": {
      "needs_background": "light"
     },
     "output_type": "display_data"
    }
   ],
   "source": [
    "ra = fin[1].data['RA']\n",
    "dec = fin[1].data['DEC']\n",
    "pl.scatter(ra, dec)"
   ]
  },
  {
   "cell_type": "code",
   "execution_count": 5,
   "id": "7746fea5-b3d3-4285-8e8a-d87a9431bb28",
   "metadata": {
    "collapsed": true,
    "jupyter": {
     "outputs_hidden": true
    }
   },
   "outputs": [
    {
     "data": {
      "text/plain": [
       "XTENSION= 'BINTABLE'           / binary table extension                         \n",
       "BITPIX  =                    8 / array data type                                \n",
       "NAXIS   =                    2 / number of array dimensions                     \n",
       "NAXIS1  =                   48 / length of dimension 1                          \n",
       "NAXIS2  =              2185229 / length of dimension 2                          \n",
       "PCOUNT  =                    0 / number of group parameters                     \n",
       "GCOUNT  =                    1 / number of groups                               \n",
       "TFIELDS =                    6 / number of table fields                         \n",
       "TTYPE1  = 'RA      '                                                            \n",
       "TFORM1  = 'D       '                                                            \n",
       "TTYPE2  = 'DEC     '                                                            \n",
       "TFORM2  = 'D       '                                                            \n",
       "TTYPE3  = 'Z       '                                                            \n",
       "TFORM3  = 'D       '                                                            \n",
       "TTYPE4  = 'ZQSO    '                                                            \n",
       "TFORM4  = 'D       '                                                            \n",
       "TTYPE5  = 'DELTA_F '                                                            \n",
       "TFORM5  = 'D       '                                                            \n",
       "TTYPE6  = 'WEIGHTS '                                                            \n",
       "TFORM6  = 'D       '                                                            "
      ]
     },
     "execution_count": 5,
     "metadata": {},
     "output_type": "execute_result"
    }
   ],
   "source": [
    "fin2 = fits.open(\"/pscratch/sd/q/qhang/desi-lya/delta_F-noise/delta-noisy-overlap-footprint.fits\")\n",
    "fin2[1].header"
   ]
  },
  {
   "cell_type": "code",
   "execution_count": 7,
   "id": "7a34cff7-be2d-408c-ab09-7ff377b98070",
   "metadata": {},
   "outputs": [
    {
     "data": {
      "text/plain": [
       "<matplotlib.collections.PathCollection at 0x7fa800a88190>"
      ]
     },
     "execution_count": 7,
     "metadata": {},
     "output_type": "execute_result"
    },
    {
     "data": {
      "image/png": "[encoded data removed]",
      "text/plain": [
       "<Figure size 432x288 with 1 Axes>"
      ]
     },
     "metadata": {
      "needs_background": "light"
     },
     "output_type": "display_data"
    }
   ],
   "source": [
    "ra = fin2[1].data['RA']\n",
    "dec = fin2[1].data['DEC']\n",
    "pl.scatter(ra*180/np.pi, dec*180/np.pi)"
   ]
  },
  {
   "cell_type": "code",
   "execution_count": 8,
   "id": "cf4acec0-097a-427a-83f1-061d72a383ec",
   "metadata": {},
   "outputs": [],
   "source": [
    "fin3 = fits.open(\"/pscratch/sd/q/qhang/desi-lya/delta_F-noise/delta-noisy-desi-footprint.fits\")\n",
    "#fin3[1].header"
   ]
  },
  {
   "cell_type": "code",
   "execution_count": 9,
   "id": "1949c84b-94ed-4360-a5d9-df93bbc0a9c0",
   "metadata": {},
   "outputs": [
    {
     "data": {
      "text/plain": [
       "<matplotlib.collections.PathCollection at 0x7fa8002bcbb0>"
      ]
     },
     "execution_count": 9,
     "metadata": {},
     "output_type": "execute_result"
    },
    {
     "data": {
      "image/png": "[encoded data removed]",
      "text/plain": [
       "<Figure size 432x288 with 1 Axes>"
      ]
     },
     "metadata": {
      "needs_background": "light"
     },
     "output_type": "display_data"
    }
   ],
   "source": [
    "ra = fin3[1].data['RA'][::5]\n",
    "dec = fin3[1].data['DEC'][::5]\n",
    "pl.scatter(ra*180/np.pi, dec*180/np.pi)"
   ]
  },
  {
   "cell_type": "code",
   "execution_count": 20,
   "id": "8c680784-dad9-4185-acf6-ca86e3dea143",
   "metadata": {},
   "outputs": [
    {
     "data": {
      "image/png": "[encoded data removed]",
      "text/plain": [
       "<Figure size 432x288 with 1 Axes>"
      ]
     },
     "metadata": {
      "needs_background": "light"
     },
     "output_type": "display_data"
    }
   ],
   "source": [
    "cc=pl.hist(fin[1].data['DELTA_F'],histtype='step',range=[-1,1])\n",
    "cc=pl.hist(fin2[1].data['DELTA_F'],bins=cc[1],histtype='step')"
   ]
  },
  {
   "cell_type": "code",
   "execution_count": 17,
   "id": "d6ff5ff0-13bc-48ed-90e7-25d0aa78d2e7",
   "metadata": {},
   "outputs": [
    {
     "data": {
      "image/png": "[encoded data removed]",
      "text/plain": [
       "<Figure size 432x288 with 1 Axes>"
      ]
     },
     "metadata": {
      "needs_background": "light"
     },
     "output_type": "display_data"
    }
   ],
   "source": [
    "cc=pl.hist(fin[1].data['Z'],histtype='step')\n",
    "cc=pl.hist(fin2[1].data['Z'],bins=cc[1],histtype='step')"
   ]
  },
  {
   "cell_type": "markdown",
   "id": "ad5bf48d-f1ea-4e29-a23d-f07c659439ce",
   "metadata": {},
   "source": [
    "Check corrupted file:"
   ]
  },
  {
   "cell_type": "code",
   "execution_count": 6,
   "id": "188eaf40-dc9d-469c-beb6-eee9f195c5cb",
   "metadata": {},
   "outputs": [],
   "source": [
    "# read in redshift bin somewhere, or save it with the results;\n",
    "sim_num=2\n",
    "sim_mode_tag='true_cont'\n",
    "nchunks = 16\n",
    "\n",
    "simroot = \"/global/cfs/cdirs/desicollab/users/lauracdp/photo-z_box/lya_mocks/mock_analysis/qq_desi_y5/skewers_desi_footprint.5/\"\n",
    "simroot += f\"analysis-{sim_num}/jura-0/{sim_mode_tag}/deltas_lya/Delta/\""
   ]
  },
  {
   "cell_type": "code",
   "execution_count": 14,
   "id": "9b25dc00-fee0-4f9e-a3ee-7560051e7760",
   "metadata": {},
   "outputs": [
    {
     "name": "stdout",
     "output_type": "stream",
     "text": [
      "Total files to go through:  1244\n",
      "Splitting into 16 chunks...\n",
      "Chunk 12 contains 78 files.\n"
     ]
    }
   ],
   "source": [
    "fname_list = glob(simroot + \"*.fits.gz\", recursive = True)\n",
    "print(\"Total files to go through: \", len(fname_list))\n",
    "print(f\"Splitting into {nchunks} chunks...\")\n",
    "# here, split the file list to chunks and send to different nodes:\n",
    "Nfiles = int(len(fname_list)/nchunks)+1\n",
    "fname_chunks = []\n",
    "for kk in range(nchunks):\n",
    "    if kk < nchunks - 1 :\n",
    "        fname_chunks.append(fname_list[(kk*Nfiles):((kk+1)*Nfiles)])\n",
    "    elif kk == nchunks - 1 :\n",
    "        fname_chunks.append(fname_list[(kk*Nfiles):])\n",
    "print(f\"Chunk {12} contains {len(fname_chunks[12])} files.\")\n",
    "#print(fname_chunks[12])\n",
    "\n",
    "# check which file is corrupt:\n",
    "task=12\n",
    "error_list = np.array([8])\n",
    "for mm in range(len(fname_chunks[task])):\n",
    "    if mm not in error_list:\n",
    "        hdu = fits.open(fname_chunks[task][mm])\n",
    "        hdu.close()"
   ]
  },
  {
   "cell_type": "code",
   "execution_count": 16,
   "id": "32b63856-5ea4-4e1d-b91e-9bef6fce6ee1",
   "metadata": {},
   "outputs": [
    {
     "data": {
      "text/plain": [
       "(8,\n",
       " '/global/cfs/cdirs/desicollab/users/lauracdp/photo-z_box/lya_mocks/mock_analysis/qq_desi_y5/skewers_desi_footprint.5/analysis-2/jura-0/true_cont/deltas_lya/Delta/delta-2084.fits.gz')"
      ]
     },
     "execution_count": 16,
     "metadata": {},
     "output_type": "execute_result"
    }
   ],
   "source": [
    "8, fname_chunks[task][8]"
   ]
  },
  {
   "cell_type": "code",
   "execution_count": null,
   "id": "877c0e0f-d634-46b2-b999-3cf96a6efb55",
   "metadata": {},
   "outputs": [],
   "source": []
  }
 ],
 "metadata": {
  "kernelspec": {
   "display_name": "condarail",
   "language": "python",
   "name": "condarail"
  },
  "language_info": {
   "codemirror_mode": {
    "name": "ipython",
    "version": 3
   },
   "file_extension": ".py",
   "mimetype": "text/x-python",
   "name": "python",
   "nbconvert_exporter": "python",
   "pygments_lexer": "ipython3",
   "version": "3.9.12"
  }
 },
 "nbformat": 4,
 "nbformat_minor": 5
}
