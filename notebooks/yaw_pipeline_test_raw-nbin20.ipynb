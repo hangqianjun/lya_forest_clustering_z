{
 "cells": [
  {
   "cell_type": "markdown",
   "id": "5865d3d6-0635-485b-a9fc-3cd72086a2f4",
   "metadata": {},
   "source": [
    "# YAW pipeline testing \n",
    "To run this in production mode use `measure_yaw-w-random.py`."
   ]
  },
  {
   "cell_type": "code",
   "execution_count": 1,
   "id": "ab86b6b2-aa34-4718-9e2b-c02012d16dab",
   "metadata": {},
   "outputs": [],
   "source": [
    "# measure n(z)\n",
    "import yaw\n",
    "import os\n",
    "import shutil\n",
    "# check\n",
    "import numpy as np\n",
    "from astropy.io import fits\n",
    "import pylab as pl\n",
    "\n",
    "import healpy as hp\n",
    "\n",
    "from yaw.correlation import autocorrelate_scalar, crosscorrelate_scalar\n",
    "from yaw import autocorrelate\n",
    "from yaw.utils import parallel\n",
    "from yaw import crosscorrelate\n",
    "\n",
    "import pandas as pd\n",
    "\n",
    "from yaw.correlation.corrfunc import ScalarCorrFunc"
   ]
  },
  {
   "cell_type": "code",
   "execution_count": 2,
   "id": "493c1c1e-2696-457c-811c-0f9befa2b731",
   "metadata": {},
   "outputs": [],
   "source": [
    "def delete_and_recreate_cache_directory(cache_dir):\n",
    "    if parallel.on_root():  # if running with MPI, this is only executed on rank 0\n",
    "        if os.path.exists(cache_dir):\n",
    "            shutil.rmtree(cache_dir)\n",
    "        os.mkdir(cache_dir)"
   ]
  },
  {
   "cell_type": "code",
   "execution_count": 3,
   "id": "f9f72490-5b24-4a39-a894-dde2b4463b20",
   "metadata": {},
   "outputs": [],
   "source": [
    "njn=64\n",
    "# here can test a range of scales\n",
    "theta_min=[5,10,15]\n",
    "theta_max=[15,30,50]\n",
    "theta_scaled=None\n",
    "resolution=None\n",
    "unit='arcmin'\n",
    "\n",
    "sim_mode_tag = \"raw\"\n",
    "type_tag = \"unknown\"\n",
    "\n",
    "ref_name = 'DELTA_F'\n",
    "ref_weight_name = 'NPIX'"
   ]
  },
  {
   "cell_type": "markdown",
   "id": "ee58022a-f81d-448a-a932-9069e5866039",
   "metadata": {},
   "source": [
    "Delta F from raw catalog"
   ]
  },
  {
   "cell_type": "code",
   "execution_count": 20,
   "id": "45c92f34-024a-48df-b589-ba64158361ae",
   "metadata": {},
   "outputs": [],
   "source": [
    "sim_num = 0\n",
    "unk_zcut = [1.8,3.0]\n",
    "\n",
    "outroot = \"/pscratch/sd/q/qhang/desi-lya/results/\"\n",
    "\n",
    "saveroot = outroot + f\"run-{sim_num}/\"\n",
    "path_unknown = saveroot + f\"catalogue/{type_tag}-zmin-{unk_zcut[0]}-zmax-{unk_zcut[1]}.fits\"\n",
    "path_reference = saveroot + f\"catalogue/delta-{sim_mode_tag}.fits\"\n",
    "path_unk_rand = \"/pscratch/sd/q/qhang/desi-lya/random-catalogue-overlap-w-z.fits\""
   ]
  },
  {
   "cell_type": "code",
   "execution_count": 5,
   "id": "6480e8c7-f1e3-4cca-acda-523214dbc43a",
   "metadata": {},
   "outputs": [],
   "source": [
    "# here use 40 bins, but we can test 20 bin case later:\n",
    "edges = np.linspace(2,3,21)\n",
    "zsamp = (edges[1:] + edges[:-1])/2."
   ]
  },
  {
   "cell_type": "code",
   "execution_count": 6,
   "id": "3efe9177-7a68-47a6-b3ca-d91fe5703e98",
   "metadata": {},
   "outputs": [],
   "source": [
    "# turn on logging to terminal (can change level to \"info\" or remove this line entirely)\n",
    "#get_logger(level=\"info\", pretty=True, capture_warnings=True)\n",
    "PROGRESS = True  # if you want to see a progress bar\n",
    "\n",
    "# CONFIGURATION\n",
    "patch_num = njn # code will generate this number of patch centers from the reference randoms\n",
    "config = yaw.Configuration.create(\n",
    "    rmin=theta_min,  # scalar or list of lower scale cuts\n",
    "    rmax=theta_max,\n",
    "    unit=unit,\n",
    "    rweight=theta_scaled,\n",
    "    resolution=resolution,\n",
    "    edges=edges,\n",
    ")"
   ]
  },
  {
   "cell_type": "code",
   "execution_count": 8,
   "id": "f78c2645-b09b-47b3-9b8b-ac7b8a95c82e",
   "metadata": {},
   "outputs": [],
   "source": [
    "# LOADING CATALOGS\n",
    "CACHE_DIR = saveroot + f\"yaw-20bin/cache_{sim_mode_tag}\"\n",
    "#delete_and_recreate_cache_directory(CACHE_DIR)"
   ]
  },
  {
   "cell_type": "code",
   "execution_count": 9,
   "id": "080cff52-bec0-4034-b47e-51eb5d3903bb",
   "metadata": {},
   "outputs": [
    {
     "name": "stderr",
     "output_type": "stream",
     "text": [
      "Process Process-66:t=0m00.00s\n",
      "Traceback (most recent call last):\n",
      "  File \"/global/homes/q/qhang/.conda/envs/yaw_env/lib/python3.11/multiprocessing/process.py\", line 314, in _bootstrap\n",
      "    self.run()\n",
      "  File \"/global/homes/q/qhang/.conda/envs/yaw_env/lib/python3.11/multiprocessing/process.py\", line 108, in run\n",
      "    self._target(*self._args, **self._kwargs)\n",
      "  File \"/global/u2/q/qhang/desc/yet_another_wizz/src/yaw/catalog/catalog.py\", line 812, in task\n",
      "    with CatalogWriter(\n",
      "         ^^^^^^^^^^^^^^\n",
      "  File \"/global/u2/q/qhang/desc/yet_another_wizz/src/yaw/catalog/catalog.py\", line 453, in __init__\n",
      "    raise FileExistsError(f\"cache directory exists: {cache_directory}\")\n",
      "FileExistsError: cache directory exists: /pscratch/sd/q/qhang/desi-lya/results/run-0/yaw-20bin/cache_raw/unknown\n",
      "processed 7/7 (100%) t=0m08.53s\n",
      "processed 64/64 (100%) t=0m01.30s\n"
     ]
    }
   ],
   "source": [
    "# set up the catalogues:\n",
    "cat_unknown = yaw.Catalog.from_file(\n",
    "    cache_directory=os.path.join(CACHE_DIR, \"unknown\"),\n",
    "    path=path_unknown,\n",
    "    ra_name=\"RA\",\n",
    "    dec_name=\"DEC\",\n",
    "    redshift_name=\"Z\",\n",
    "    #weight_name=\"weight_column\",  # optional\n",
    "    patch_num=patch_num,\n",
    "    progress=PROGRESS,\n",
    "    degrees=True,\n",
    ")\n",
    "patch_centers = cat_unknown.get_centers()"
   ]
  },
  {
   "cell_type": "code",
   "execution_count": 10,
   "id": "8bbe96a0-3dfb-4c26-add1-74d09c913219",
   "metadata": {},
   "outputs": [
    {
     "name": "stderr",
     "output_type": "stream",
     "text": [
      "Process Process-196:=0m00.00s\n",
      "Traceback (most recent call last):\n",
      "  File \"/global/homes/q/qhang/.conda/envs/yaw_env/lib/python3.11/multiprocessing/process.py\", line 314, in _bootstrap\n",
      "    self.run()\n",
      "  File \"/global/homes/q/qhang/.conda/envs/yaw_env/lib/python3.11/multiprocessing/process.py\", line 108, in run\n",
      "    self._target(*self._args, **self._kwargs)\n",
      "  File \"/global/u2/q/qhang/desc/yet_another_wizz/src/yaw/catalog/catalog.py\", line 812, in task\n",
      "    with CatalogWriter(\n",
      "         ^^^^^^^^^^^^^^\n",
      "  File \"/global/u2/q/qhang/desc/yet_another_wizz/src/yaw/catalog/catalog.py\", line 453, in __init__\n",
      "    raise FileExistsError(f\"cache directory exists: {cache_directory}\")\n",
      "FileExistsError: cache directory exists: /pscratch/sd/q/qhang/desi-lya/results/run-0/yaw-20bin/cache_raw/reference\n",
      "processed 1/1 (100%) t=0m01.19s\n",
      "processed 64/64 (100%) t=0m01.31s\n"
     ]
    }
   ],
   "source": [
    "cat_reference = yaw.Catalog.from_file(\n",
    "    cache_directory=os.path.join(CACHE_DIR, \"reference\"),\n",
    "    path=path_reference,\n",
    "    ra_name=\"RA\",\n",
    "    dec_name=\"DEC\",\n",
    "    redshift_name=\"Z\",\n",
    "    weight_name=ref_weight_name,\n",
    "    kappa_name=ref_name,\n",
    "    patch_centers=patch_centers,\n",
    "    progress=PROGRESS,\n",
    "    degrees=True,\n",
    ")"
   ]
  },
  {
   "cell_type": "code",
   "execution_count": 31,
   "id": "c93de6b5-91bb-42bb-adb6-d6f553f57410",
   "metadata": {},
   "outputs": [],
   "source": [
    "cat_reference = yaw.Catalog(cache_directory=os.path.join(CACHE_DIR, \"reference\"))"
   ]
  },
  {
   "cell_type": "code",
   "execution_count": 11,
   "id": "9a2083d0-11bd-4ee7-8d26-4d2ca8a13895",
   "metadata": {},
   "outputs": [],
   "source": [
    "cat_ref_rand = None"
   ]
  },
  {
   "cell_type": "code",
   "execution_count": 21,
   "id": "4b8d90d3-29f3-4cca-9ffd-5337a08a774f",
   "metadata": {},
   "outputs": [
    {
     "name": "stderr",
     "output_type": "stream",
     "text": [
      "Process Process-582:t=0m00.00s\n",
      "Traceback (most recent call last):\n",
      "  File \"/global/homes/q/qhang/.conda/envs/yaw_env/lib/python3.11/multiprocessing/process.py\", line 314, in _bootstrap\n",
      "    self.run()\n",
      "  File \"/global/homes/q/qhang/.conda/envs/yaw_env/lib/python3.11/multiprocessing/process.py\", line 108, in run\n",
      "    self._target(*self._args, **self._kwargs)\n",
      "  File \"/global/u2/q/qhang/desc/yet_another_wizz/src/yaw/catalog/catalog.py\", line 812, in task\n",
      "    with CatalogWriter(\n",
      "         ^^^^^^^^^^^^^^\n",
      "  File \"/global/u2/q/qhang/desc/yet_another_wizz/src/yaw/catalog/catalog.py\", line 453, in __init__\n",
      "    raise FileExistsError(f\"cache directory exists: {cache_directory}\")\n",
      "FileExistsError: cache directory exists: /pscratch/sd/q/qhang/desi-lya/results/run-0/yaw-20bin/cache_raw/unk_rand\n",
      "processed 11/11 (100%) t=0m18.37s\n",
      "processed 64/64 (100%) t=0m01.53s\n"
     ]
    }
   ],
   "source": [
    "cat_unk_rand = yaw.Catalog.from_file(\n",
    "    cache_directory=os.path.join(CACHE_DIR, \"unk_rand\"),\n",
    "    path=path_unk_rand,\n",
    "    ra_name=\"RA\",\n",
    "    dec_name=\"DEC\",\n",
    "    redshift_name=\"Z\",\n",
    "    patch_centers=patch_centers,\n",
    "    progress=PROGRESS,\n",
    "    degrees=True,\n",
    ")"
   ]
  },
  {
   "cell_type": "code",
   "execution_count": 14,
   "id": "64fffecf",
   "metadata": {},
   "outputs": [
    {
     "name": "stderr",
     "output_type": "stream",
     "text": [
      "processed 64/64 (100%) t=0m01.51s\n",
      "processed 203/203 (100%) t=0m02.14s\n",
      "processed 203/203 (100%) t=0m02.36s\n"
     ]
    }
   ],
   "source": [
    "# measurements:\n",
    "w_ss= autocorrelate_scalar(\n",
    "    config,\n",
    "    cat_reference,\n",
    "    progress=PROGRESS\n",
    ") # returns a list, one for each scale, just pick the first here\n",
    "#   w_ss.to_file(\"...\") -> store correlation pair counts as HDF5 file"
   ]
  },
  {
   "cell_type": "code",
   "execution_count": 16,
   "id": "5249c2a2-6d11-4ec2-a79c-4cd0401abc76",
   "metadata": {},
   "outputs": [
    {
     "name": "stderr",
     "output_type": "stream",
     "text": [
      "/global/u2/q/qhang/desc/yet_another_wizz/src/yaw/correlation/paircounts.py:703: RuntimeWarning: invalid value encountered in divide\n",
      "  data = kk_counts.data / nn_counts.data\n",
      "/global/u2/q/qhang/desc/yet_another_wizz/src/yaw/correlation/paircounts.py:704: RuntimeWarning: invalid value encountered in divide\n",
      "  samples = kk_counts.samples / nn_counts.samples\n"
     ]
    },
    {
     "data": {
      "image/png": "[encoded data removed]",
      "text/plain": [
       "<Figure size 640x480 with 1 Axes>"
      ]
     },
     "metadata": {},
     "output_type": "display_data"
    }
   ],
   "source": [
    "for ii in range(len(theta_min)):\n",
    "    cts_ss = w_ss[ii]\n",
    "    cts_ss.to_file(saveroot + f\"yaw-20bin/w_ss-{sim_mode_tag}-theta-min-{theta_min[ii]}-max-{theta_max[ii]}.hdf5\")\n",
    "    cts_ss.sample().plot(label=f\"theta-min-{theta_min[ii]}-max-{theta_max[ii]}\")\n",
    "    pl.xlabel(\"$z$\")\n",
    "    pl.ylabel(\"$\\\\delta F$ auto-correlation\")\n",
    "    pl.yscale('log')\n",
    "    pl.legend()"
   ]
  },
  {
   "cell_type": "code",
   "execution_count": 22,
   "id": "e8410ec1",
   "metadata": {},
   "outputs": [
    {
     "name": "stderr",
     "output_type": "stream",
     "text": [
      "processed 64/64 (100%) t=0m01.10s\n",
      "processed 64/64 (100%) t=0m01.23s\n",
      "processed 64/64 (100%) t=0m01.20s\n",
      "processed 346/346 (100%) t=1m09.92s\n",
      "processed 346/346 (100%) t=1m10.66s\n",
      "processed 346/346 (100%) t=2m01.72s\n",
      "processed 346/346 (100%) t=2m03.44s\n"
     ]
    }
   ],
   "source": [
    "w_sp = crosscorrelate_scalar(\n",
    "    config,\n",
    "    cat_reference,\n",
    "    cat_unknown,\n",
    "    unk_rand=cat_unk_rand,\n",
    "    progress=True,  # shows a progress bar, default: False\n",
    ")"
   ]
  },
  {
   "cell_type": "code",
   "execution_count": 23,
   "id": "e1a00c4c-3762-48d1-95c4-8ab04e10dbb0",
   "metadata": {},
   "outputs": [
    {
     "name": "stderr",
     "output_type": "stream",
     "text": [
      "/global/u2/q/qhang/desc/yet_another_wizz/src/yaw/correlation/paircounts.py:703: RuntimeWarning: invalid value encountered in divide\n",
      "  data = kk_counts.data / nn_counts.data\n",
      "/global/u2/q/qhang/desc/yet_another_wizz/src/yaw/correlation/paircounts.py:704: RuntimeWarning: invalid value encountered in divide\n",
      "  samples = kk_counts.samples / nn_counts.samples\n"
     ]
    },
    {
     "data": {
      "image/png": "[encoded data removed]",
      "text/plain": [
       "<Figure size 640x480 with 1 Axes>"
      ]
     },
     "metadata": {},
     "output_type": "display_data"
    }
   ],
   "source": [
    "for ii in range(len(theta_min)):\n",
    "    cts_sp = w_sp[ii]\n",
    "    cts_sp.to_file(saveroot + f\"yaw-20bin/w_sp-{sim_mode_tag}-theta-min-{theta_min[ii]}-max-{theta_max[ii]}.hdf5\")\n",
    "    cts_sp.sample().plot(label=f\"theta-min-{theta_min[ii]}-max-{theta_max[ii]}\")\n",
    "    pl.xlabel(\"$z$\")\n",
    "    pl.ylabel(\"$\\\\delta F$-galaxy cross-correlation\")\n",
    "    #pl.yscale('log')\n",
    "    pl.legend()\n",
    "    pl.ylim([-0.0012,0.0005])"
   ]
  },
  {
   "cell_type": "code",
   "execution_count": 20,
   "id": "29d2a06d-b91f-49f3-a586-646860ac4eff",
   "metadata": {},
   "outputs": [
    {
     "name": "stderr",
     "output_type": "stream",
     "text": [
      "processed 64/64 (100%) t=0m04.13s\n",
      "processed 64/64 (100%) t=0m06.04s\n",
      "processed 205/205 (100%) t=1m06.42s\n",
      "processed 346/346 (100%) t=1m30.09s\n",
      "processed 205/205 (100%) t=2m11.89s\n"
     ]
    }
   ],
   "source": [
    "wppfname = saveroot + f\"yaw-20bin/w_pp-theta-min-{theta_min[0]}-max-{theta_max[0]}.hdf5\"\n",
    "if os.path.isfile(wppfname)!=True:\n",
    "    # also run unknown case:\n",
    "    w_pp = autocorrelate(\n",
    "        config,\n",
    "        cat_unknown,\n",
    "        random=cat_unk_rand,\n",
    "        progress=PROGRESS\n",
    "    )\n",
    "    for ii in range(len(theta_min)):\n",
    "        cts_pp = w_pp[ii]\n",
    "        cts_pp.to_file(saveroot + f\"yaw-20bin/w_pp-theta-min-{theta_min[ii]}-max-{theta_max[ii]}.hdf5\")"
   ]
  },
  {
   "cell_type": "code",
   "execution_count": 21,
   "id": "0d3a28b8-3de0-4b8a-8604-e294106abd3c",
   "metadata": {},
   "outputs": [
    {
     "data": {
      "text/plain": [
       "Text(0, 0.5, 'galaxy auto-correlation')"
      ]
     },
     "execution_count": 21,
     "metadata": {},
     "output_type": "execute_result"
    },
    {
     "data": {
      "image/png": "[encoded data removed]",
      "text/plain": [
       "<Figure size 640x480 with 1 Axes>"
      ]
     },
     "metadata": {},
     "output_type": "display_data"
    }
   ],
   "source": [
    "for ii in range(len(theta_min)):\n",
    "    cts_pp = w_pp[ii]\n",
    "    cts_pp.sample().plot(label=f\"theta-min-{theta_min[ii]}-max-{theta_max[ii]}\")\n",
    "\n",
    "pl.yscale('log')\n",
    "pl.grid()\n",
    "\n",
    "# load and plot bias evolution curve:\n",
    "bz = np.loadtxt(\"../bias_dc2.txt\")\n",
    "pl.plot(bz[:,0],bz[:,1],label=\"galaxy $b(z)$\",color='k')\n",
    "pl.xlim([2,3])\n",
    "\n",
    "pl.legend()\n",
    "\n",
    "pl.xlabel(\"$z$\")\n",
    "pl.ylabel(\"galaxy auto-correlation\")"
   ]
  },
  {
   "cell_type": "code",
   "execution_count": 22,
   "id": "a4fb5cf9-8b28-4d72-9ce8-cbe74c5ef3c9",
   "metadata": {},
   "outputs": [],
   "source": [
    "# load back the correlations:\n",
    "w_ss=[]\n",
    "w_sp=[]\n",
    "w_pp=[]\n",
    "for ii in range(len(theta_min)):\n",
    "    fname = saveroot + f\"yaw-20bin/w_ss-{sim_mode_tag}-theta-min-{theta_min[ii]}-max-{theta_max[ii]}.hdf5\"\n",
    "    w_ss.append(ScalarCorrFunc.from_file(fname))\n",
    "\n",
    "    fname = saveroot + f\"yaw-20bin/w_sp-{sim_mode_tag}-theta-min-{theta_min[ii]}-max-{theta_max[ii]}.hdf5\"\n",
    "    w_sp.append(ScalarCorrFunc.from_file(fname))\n",
    "\n",
    "    fname = saveroot + f\"yaw-20bin/w_pp-theta-min-{theta_min[ii]}-max-{theta_max[ii]}.hdf5\"\n",
    "    w_pp.append(yaw.CorrFunc.from_file(fname))"
   ]
  },
  {
   "cell_type": "code",
   "execution_count": 23,
   "id": "70177681-898a-48af-878a-15f239eb8ee5",
   "metadata": {},
   "outputs": [],
   "source": [
    "nz_true = np.loadtxt(\"/pscratch/sd/q/qhang/desi-lya/nz-gal-z1.8-3.0-box-0-interp-for-rand.txt\")\n",
    "ind=(nz_true[:,1]>0)\n",
    "nz_dz = nz_true[1,0] - nz_true[0,0]\n",
    "nz_norm = (nz_true[:,1]/np.sum(nz_true[:,1])/nz_dz)[ind]\n",
    "nz_zsamp = nz_true[ind,0]"
   ]
  },
  {
   "cell_type": "code",
   "execution_count": 43,
   "id": "572b4cd0-7d5f-4cd1-9cb4-f08fab07ebdf",
   "metadata": {},
   "outputs": [
    {
     "data": {
      "text/plain": [
       "Text(0.5, 1.0, '$n(z) = w_{\\\\rm ru}/\\\\sqrt{w_{\\\\rm rr} w_{\\\\rm uu}}\\\\Delta z$')"
      ]
     },
     "execution_count": 43,
     "metadata": {},
     "output_type": "execute_result"
    },
    {
     "data": {
      "image/png": "[encoded data removed]",
      "text/plain": [
       "<Figure size 1000x400 with 3 Axes>"
      ]
     },
     "metadata": {},
     "output_type": "display_data"
    }
   ],
   "source": [
    "fig,axarr=pl.subplots(3,figsize=[10,4],sharex=True)\n",
    "\n",
    "for ii in range(len(theta_min)):\n",
    "    pl.sca(axarr[ii])\n",
    "    \n",
    "    cts_sp = w_sp[ii]\n",
    "    cts_ss = w_ss[ii]\n",
    "    cts_pp = w_pp[ii]\n",
    "    \n",
    "    zz = cts_sp.binning.mids\n",
    "    sp = cts_sp.sample().data\n",
    "    ss = cts_ss.sample().data\n",
    "    pp = cts_pp.sample().data\n",
    "\n",
    "    # get errorbar:\n",
    "    samps = cts_sp.sample().samples/np.sqrt((cts_ss.sample().samples)*(cts_pp.sample().samples))\n",
    "    std = np.std(samps,axis=0)*np.sqrt(64)\n",
    "    \n",
    "    deltaz = zz[1]-zz[0]\n",
    "    pl.errorbar(zz, -sp/np.sqrt(ss*pp)/deltaz,yerr=std/deltaz,fmt='.',color='orange')\n",
    "    \n",
    "    # get true redshift distribution from sim:\n",
    "    nz_edges = np.append(nz_zsamp-nz_dz/2., nz_zsamp[-1]+nz_dz/2.)\n",
    "    pl.stairs(nz_norm,nz_edges, color='k', alpha=0.5)\n",
    "    \n",
    "    pl.ylabel(\"$n(z)$\")\n",
    "    pl.ylim([0,2])\n",
    "\n",
    "    pl.text(1.75,1.6,f\"theta bin [{theta_min[ii]},{theta_max[ii]}] arcmin\")\n",
    "pl.xlabel(\"Redshift\")\n",
    "pl.sca(axarr[0])\n",
    "pl.title(\"$n(z) = w_{\\\\rm ru}/\\\\sqrt{w_{\\\\rm rr} w_{\\\\rm uu}}\\\\Delta z$\")"
   ]
  },
  {
   "cell_type": "code",
   "execution_count": 59,
   "id": "9c084b2b-b6f6-48f1-975f-736bdaf48210",
   "metadata": {},
   "outputs": [
    {
     "data": {
      "text/plain": [
       "Text(0.5, 1.0, '$n(z) \\\\propto w_{\\\\rm ru}/\\\\sqrt{w_{\\\\rm rr}}\\\\Delta z$')"
      ]
     },
     "execution_count": 59,
     "metadata": {},
     "output_type": "execute_result"
    },
    {
     "data": {
      "image/png": "[encoded data removed]",
      "text/plain": [
       "<Figure size 1000x400 with 3 Axes>"
      ]
     },
     "metadata": {},
     "output_type": "display_data"
    }
   ],
   "source": [
    "fig,axarr=pl.subplots(3,figsize=[10,4],sharex=True)\n",
    "\n",
    "# here using yaw without the w_pp information:\n",
    "for ii in range(len(theta_min)):\n",
    "    pl.sca(axarr[ii])\n",
    "    \n",
    "    cts_sp = w_sp[ii]\n",
    "    cts_ss = w_ss[ii]\n",
    "    #cts_pp = w_pp[ii]\n",
    "    ncc = yaw.RedshiftData.from_corrfuncs(\n",
    "        cross_corr=cts_sp,\n",
    "        ref_corr=cts_ss,\n",
    "        unk_corr=None,\n",
    "    )\n",
    "    \n",
    "    # or even with estimated normalisation\n",
    "    ncc.normalised().plot()\n",
    "    \n",
    "    pl.ylabel(\"$n(z)$\")\n",
    "    pl.ylim([0,2])\n",
    "    pl.text(1.75,1.6,f\"theta bin [{theta_min[ii]},{theta_max[ii]}] arcmin\")\n",
    "    \n",
    "    # get true redshift distribution from sim:\n",
    "    nz_edges = np.append(nz_zsamp-nz_dz/2., nz_zsamp[-1]+nz_dz/2.)\n",
    "    pl.stairs(nz_norm,nz_edges, color='k', alpha=0.5)\n",
    "    #pl.stairs(cc[0]/sum(cc[0])/0.05, cc[1], color='k', alpha=0.5)\n",
    "pl.xlabel(\"Redshift\")\n",
    "pl.sca(axarr[0])\n",
    "pl.title(\"$n(z) \\\\propto w_{\\\\rm ru}/\\\\sqrt{w_{\\\\rm rr}}\\\\Delta z$\")"
   ]
  },
  {
   "cell_type": "markdown",
   "id": "4dca8d03-5f95-446e-8f90-573170722502",
   "metadata": {},
   "source": [
    "## Without random"
   ]
  },
  {
   "cell_type": "code",
   "execution_count": 12,
   "id": "38a5ce79-ade8-4d5e-a878-510ae82fdd94",
   "metadata": {},
   "outputs": [],
   "source": [
    "cat_unk_rand = None "
   ]
  },
  {
   "cell_type": "code",
   "execution_count": 13,
   "id": "c131f753-b771-41ce-a96f-a7c78d3cc6f5",
   "metadata": {},
   "outputs": [
    {
     "name": "stderr",
     "output_type": "stream",
     "text": [
      "processed 64/64 (100%) t=0m01.23s\n",
      "processed 64/64 (100%) t=0m01.15s\n",
      "processed 346/346 (100%) t=1m10.55s\n",
      "processed 346/346 (100%) t=1m09.70s\n"
     ]
    }
   ],
   "source": [
    "w_sp = crosscorrelate_scalar(\n",
    "    config,\n",
    "    cat_reference,\n",
    "    cat_unknown,\n",
    "    unk_rand=cat_unk_rand,\n",
    "    progress=True,  # shows a progress bar, default: False\n",
    ")"
   ]
  },
  {
   "cell_type": "code",
   "execution_count": null,
   "id": "2109767a-abb9-447c-8412-e7ad485ecb92",
   "metadata": {},
   "outputs": [],
   "source": [
    "for ii in range(len(theta_min)):\n",
    "    cts_sp = w_sp[ii]\n",
    "    cts_sp.to_file(saveroot + f\"yaw-20bin/w_sp-{sim_mode_tag}-norand-theta-min-{theta_min[ii]}-max-{theta_max[ii]}.hdf5\")\n",
    "    cts_sp.sample().plot(label=f\"theta-min-{theta_min[ii]}-max-{theta_max[ii]}\")"
   ]
  },
  {
   "cell_type": "code",
   "execution_count": 30,
   "id": "044d2cb4-17c7-4126-93e4-7bc593665f46",
   "metadata": {},
   "outputs": [
    {
     "data": {
      "image/png": "[encoded data removed]",
      "text/plain": [
       "<Figure size 640x480 with 1 Axes>"
      ]
     },
     "metadata": {},
     "output_type": "display_data"
    }
   ],
   "source": [
    "for ii in range(len(theta_min)):\n",
    "    cts_sp = ScalarCorrFunc.from_file(saveroot + f\"yaw-20bin/w_sp-{sim_mode_tag}-norand-theta-min-{theta_min[ii]}-max-{theta_max[ii]}.hdf5\")\n",
    "    pl.errorbar(cts_sp.binning.mids, cts_sp.sample().data, yerr=cts_sp.sample().error, fmt='.')\n",
    "\n",
    "    cts_sp = ScalarCorrFunc.from_file(saveroot + f\"yaw-20bin/w_sp-{sim_mode_tag}-theta-min-{theta_min[ii]}-max-{theta_max[ii]}.hdf5\")\n",
    "    pl.errorbar(cts_sp.binning.mids, cts_sp.sample().data, yerr=cts_sp.sample().error, fmt='s',color=f'C{ii}',alpha=0.3)\n",
    "    \n",
    "    pl.xlabel(\"$z$\")\n",
    "    pl.ylabel(\"$\\\\delta F$-galaxy cross-correlation\")\n",
    "    #pl.yscale('log')\n",
    "    #pl.legend()\n",
    "    pl.ylim([-0.0012,0.0005])"
   ]
  },
  {
   "cell_type": "code",
   "execution_count": 29,
   "id": "925592a8-ffe5-4fb6-b2ed-f61b7e142ad4",
   "metadata": {},
   "outputs": [
    {
     "data": {
      "image/png": "[encoded data removed]",
      "text/plain": [
       "<Figure size 640x480 with 1 Axes>"
      ]
     },
     "metadata": {},
     "output_type": "display_data"
    }
   ],
   "source": [
    "# let's compare their error bars here:\n",
    "for ii in range(len(theta_min)):\n",
    "    cts_sp = ScalarCorrFunc.from_file(saveroot + f\"yaw-20bin/w_sp-{sim_mode_tag}-norand-theta-min-{theta_min[ii]}-max-{theta_max[ii]}.hdf5\")\n",
    "    pl.plot(cts_sp.binning.mids, cts_sp.sample().error, '-')\n",
    "\n",
    "    cts_sp = ScalarCorrFunc.from_file(saveroot + f\"yaw-20bin/w_sp-{sim_mode_tag}-theta-min-{theta_min[ii]}-max-{theta_max[ii]}.hdf5\")\n",
    "    pl.plot(cts_sp.binning.mids, cts_sp.sample().error, '--', color=f'C{ii}',alpha=0.3)\n",
    "    pl.xlabel(\"$z$\")\n",
    "    pl.ylabel(\"$\\\\delta F$-galaxy xw uncertainty\")\n",
    "    #pl.yscale('log')\n",
    "    #pl.ylim([-0.0012,0.0005])"
   ]
  },
  {
   "cell_type": "code",
   "execution_count": null,
   "id": "eba27eca-39a4-4447-a9f0-d47280c73b52",
   "metadata": {},
   "outputs": [],
   "source": []
  },
  {
   "cell_type": "code",
   "execution_count": null,
   "id": "14a82150-1fa8-4f33-9008-e8de00b3e7ac",
   "metadata": {},
   "outputs": [],
   "source": []
  },
  {
   "cell_type": "markdown",
   "id": "a0186abf-d011-4ee3-bb3b-52bbca2d8c86",
   "metadata": {
    "jp-MarkdownHeadingCollapsed": true
   },
   "source": [
    "# Measure the QSO-galaxy correlation"
   ]
  },
  {
   "cell_type": "code",
   "execution_count": 4,
   "id": "0b92a286-3368-40a2-99c7-1d64f24c7015",
   "metadata": {},
   "outputs": [],
   "source": [
    "outroot = \"/pscratch/sd/q/qhang/desi-lya/results/\"\n",
    "sim_num = 0\n",
    "type_tag = \"unknown\"\n",
    "unk_tag = \"\"\n",
    "unk_zcut=[1.8,3.0]\n",
    "ref_tag = \"-20bin\"\n",
    "sim_mode_tag = \"raw\"\n",
    "yaw_tag = \"-20bin\"\n",
    "rand_z_name = \"Z\""
   ]
  },
  {
   "cell_type": "code",
   "execution_count": 5,
   "id": "2c3ae896-ff42-4b24-a5c1-3e6755e1b0b4",
   "metadata": {},
   "outputs": [],
   "source": [
    "saveroot = outroot + f\"run-{sim_num}/\"\n",
    "path_unknown = saveroot + f\"catalogue/{type_tag}{unk_tag}-zmin-{unk_zcut[0]}-zmax-{unk_zcut[1]}.fits\"\n",
    "path_reference = saveroot + f\"catalogue{ref_tag}/delta-{sim_mode_tag}.fits\"\n",
    "path_unk_rand = \"/pscratch/sd/q/qhang/desi-lya/random-catalogue-overlap-w-z.fits\""
   ]
  },
  {
   "cell_type": "code",
   "execution_count": 20,
   "id": "70db2ca2-8704-4944-8d84-8391ec44c2d5",
   "metadata": {},
   "outputs": [],
   "source": [
    "zbins = [2,3,20]\n",
    "edges = np.linspace(float(zbins[0]), float(zbins[1]), int(zbins[2])+1)\n",
    "zsamp = (edges[1:] + edges[:-1])/2."
   ]
  },
  {
   "cell_type": "code",
   "execution_count": 21,
   "id": "3719f403-520b-4ad7-ad55-f95d1a199c2c",
   "metadata": {},
   "outputs": [
    {
     "name": "stdout",
     "output_type": "stream",
     "text": [
      "cache:  /pscratch/sd/q/qhang/desi-lya/results/run-0/yaw-20bin/cache_raw-QSO/\n"
     ]
    },
    {
     "name": "stderr",
     "output_type": "stream",
     "text": [
      "processed 7/7 (100%) t=0m10.24s\n",
      "processed 64/64 (100%) t=0m02.28s\n",
      "processed 1/1 (100%) t=0m00.59s\n",
      "processed 64/64 (100%) t=0m01.47s\n",
      "processed 11/11 (100%) t=0m20.82s\n",
      "processed 64/64 (100%) t=0m02.77s\n"
     ]
    },
    {
     "name": "stdout",
     "output_type": "stream",
     "text": [
      "Done loading catalogues\n"
     ]
    }
   ],
   "source": [
    "# turn on logging to terminal (can change level to \"info\" or remove this line entirely)\n",
    "#get_logger(level=\"info\", pretty=True, capture_warnings=True)\n",
    "PROGRESS = True  # if you want to see a progress bar\n",
    "\n",
    "# CONFIGURATION\n",
    "patch_num = njn # code will generate this number of patch centers from the reference randoms\n",
    "config = yaw.Configuration.create(\n",
    "    rmin=theta_min,  # scalar or list of lower scale cuts\n",
    "    rmax=theta_max,\n",
    "    unit=unit,\n",
    "    rweight=theta_scaled,\n",
    "    resolution=resolution,\n",
    "    edges=edges,\n",
    ")\n",
    "\n",
    "# LOADING CATALOGS\n",
    "CACHE_DIR = saveroot + f\"yaw{yaw_tag}/cache_{sim_mode_tag}-QSO/\"\n",
    "print(\"cache: \", CACHE_DIR)\n",
    "\n",
    "delete_and_recreate_cache_directory(CACHE_DIR)\n",
    "\n",
    "# set up the catalogues:\n",
    "cat_unknown = yaw.Catalog.from_file(\n",
    "    cache_directory=os.path.join(CACHE_DIR, \"unknown\"),\n",
    "    path=path_unknown,\n",
    "    ra_name=\"RA\",\n",
    "    dec_name=\"DEC\",\n",
    "    redshift_name=\"Z\",\n",
    "    #weight_name=\"weight_column\",  # optional\n",
    "    patch_num=patch_num,\n",
    "    progress=PROGRESS,\n",
    "    degrees=True,\n",
    ")\n",
    "patch_centers = cat_unknown.get_centers()\n",
    "\n",
    "\n",
    "cat_reference = yaw.Catalog.from_file(\n",
    "    cache_directory=os.path.join(CACHE_DIR, \"reference\"),\n",
    "    path=path_reference,\n",
    "    ra_name=\"RA\",\n",
    "    dec_name=\"DEC\",\n",
    "    redshift_name=\"Z\",\n",
    "    #weight_name=ref_weight_name,\n",
    "    #kappa_name=ref_name,\n",
    "    patch_centers=patch_centers,\n",
    "    progress=PROGRESS,\n",
    "    degrees=True,\n",
    ")\n",
    "\n",
    "cat_ref_rand = None \n",
    "cat_unk_rand = yaw.Catalog.from_file(\n",
    "    cache_directory=os.path.join(CACHE_DIR, \"unk_rand\"),\n",
    "    path=path_unk_rand,\n",
    "    ra_name=\"RA\",\n",
    "    dec_name=\"DEC\",\n",
    "    redshift_name=rand_z_name,\n",
    "    patch_centers=patch_centers,\n",
    "    progress=PROGRESS,\n",
    "    degrees=True,\n",
    ")\n",
    "\n",
    "print(\"Done loading catalogues\")"
   ]
  },
  {
   "cell_type": "code",
   "execution_count": 22,
   "id": "980f36bc-daa5-4adc-b265-3b19e3e45dbe",
   "metadata": {},
   "outputs": [
    {
     "name": "stderr",
     "output_type": "stream",
     "text": [
      "processed 0/64 (0%) t=0m00.00s"
     ]
    },
    {
     "name": "stdout",
     "output_type": "stream",
     "text": [
      "Computing w_sp\n"
     ]
    },
    {
     "name": "stderr",
     "output_type": "stream",
     "text": [
      "processed 64/64 (100%) t=0m01.41s\n",
      "processed 64/64 (100%) t=0m06.48s\n",
      "processed 64/64 (100%) t=0m04.10s\n",
      "processed 346/346 (100%) t=1m15.99s\n",
      "processed 346/346 (100%) t=39m54.99s\n"
     ]
    }
   ],
   "source": [
    "print(\"Computing w_sp\")\n",
    "w_sp = crosscorrelate(\n",
    "    config,\n",
    "    cat_reference,\n",
    "    cat_unknown,\n",
    "    ref_rand=cat_unk_rand,\n",
    "    progress=PROGRESS\n",
    ")"
   ]
  },
  {
   "cell_type": "code",
   "execution_count": 33,
   "id": "48b21e80-8ff7-454a-904a-d02c7d6f3b76",
   "metadata": {},
   "outputs": [],
   "source": [
    "# load results:\n",
    "w_sp= []\n",
    "for ii in range(len(theta_min)):\n",
    "    cts_pp = yaw.CorrFunc.from_file(saveroot + f\"yaw-20bin/w_sp-QSO-raw-theta-min-{theta_min[ii]}-max-{theta_max[ii]}.hdf5\")\n",
    "    w_sp.append(cts_pp)"
   ]
  },
  {
   "cell_type": "code",
   "execution_count": 35,
   "id": "72709b3b-483a-46a0-b4d6-babd83cdbd29",
   "metadata": {},
   "outputs": [
    {
     "data": {
      "image/png": "[encoded data removed]",
      "text/plain": [
       "<Figure size 1000x300 with 1 Axes>"
      ]
     },
     "metadata": {},
     "output_type": "display_data"
    }
   ],
   "source": [
    "fig,axarr=pl.subplots(figsize=[10,3])\n",
    "fmt=['o','s','X']\n",
    "color=['#7c8cac','#9c7cab','#e4c4f4']\n",
    "#label=[\"Picca\", \"LyCAN\"]\n",
    "Nbins=20\n",
    "\n",
    "mode = \"raw\"\n",
    "for jj in range(len(theta_min)):\n",
    "    label = f\"$\\\\theta = [{theta_min[jj]}, {theta_max[jj]}]$ arcmin\"\n",
    "    pl.errorbar(zsamp + jj*0.005, w_sp[jj].sample().data, \n",
    "               yerr = w_sp[jj].sample().error, fmt=fmt[jj], label=label,color=color[jj],markersize=7)\n",
    "pl.title(mode + f\" {Nbins} bins\")\n",
    "\n",
    "\n",
    "#pl.plot([1.8,3.0],[1,1],'k-')\n",
    "#pl.stairs(nz_norm,nz_edges, color='k', label='truth')\n",
    "pl.xlim([1.95,3.0])\n",
    "#pl.ylim([0.6, 1.1])\n",
    "\n",
    "pl.legend()\n",
    "pl.xlabel(\"$z$\")\n",
    "pl.ylabel(\"$w_{Qg}$\")\n",
    "pl.savefig(\"../plots/w_Qg-scales-20bin-raw.pdf\", bbox_inches=\"tight\")"
   ]
  },
  {
   "cell_type": "code",
   "execution_count": null,
   "id": "595e355a-979f-4308-b036-6084b98f3722",
   "metadata": {},
   "outputs": [],
   "source": [
    "# need to rerun above to save things"
   ]
  },
  {
   "cell_type": "markdown",
   "id": "969d0884-fd0b-489a-aaa3-0cd51060f250",
   "metadata": {
    "jp-MarkdownHeadingCollapsed": true
   },
   "source": [
    "# Meausre corss-corrleation within a bin:"
   ]
  },
  {
   "cell_type": "code",
   "execution_count": 36,
   "id": "6e79df43-906f-4529-a09d-188421d0e097",
   "metadata": {},
   "outputs": [],
   "source": [
    "outroot = \"/pscratch/sd/q/qhang/desi-lya/results/\"\n",
    "sim_num = 0\n",
    "type_tag = \"unknown\"\n",
    "unk_tag = \"\"\n",
    "unk_zcut=[1.8,3.0]\n",
    "ref_tag = \"-20bin\"\n",
    "sim_mode_tag = \"raw\"\n",
    "yaw_tag = \"-20bin\"\n",
    "rand_z_name = \"Z\""
   ]
  },
  {
   "cell_type": "code",
   "execution_count": 37,
   "id": "f4d9a2e0-f22f-4c49-ad45-7c73d9141699",
   "metadata": {},
   "outputs": [],
   "source": [
    "saveroot = outroot + f\"run-{sim_num}/\"\n",
    "path_unknown = saveroot + f\"catalogue/{type_tag}{unk_tag}-zmin-{unk_zcut[0]}-zmax-{unk_zcut[1]}.fits\"\n",
    "path_reference = saveroot + f\"catalogue{ref_tag}/delta-{sim_mode_tag}.fits\"\n",
    "path_unk_rand = \"/pscratch/sd/q/qhang/desi-lya/random-catalogue-overlap-w-z.fits\""
   ]
  },
  {
   "cell_type": "code",
   "execution_count": 38,
   "id": "f9f83f8f-90ad-4615-96be-d19de15ee72a",
   "metadata": {},
   "outputs": [],
   "source": [
    "zbins = [2,3,20]\n",
    "edges = np.linspace(float(zbins[0]), float(zbins[1]), int(zbins[2])+1)\n",
    "zsamp = (edges[1:] + edges[:-1])/2."
   ]
  },
  {
   "cell_type": "code",
   "execution_count": 13,
   "id": "a1c1eaa9-e882-4c06-9cb2-25eac2df7921",
   "metadata": {},
   "outputs": [
    {
     "name": "stdout",
     "output_type": "stream",
     "text": [
      "cache:  /pscratch/sd/q/qhang/desi-lya/results/run-0/yaw-20bin/cache_raw-zbins/\n"
     ]
    },
    {
     "name": "stderr",
     "output_type": "stream",
     "text": [
      "processed 11/11 (100%) t=0m15.48s\n",
      "processed 64/64 (100%) t=0m05.20s\n",
      "processed 1/1 (100%) t=0m00.78s\n",
      "processed 64/64 (100%) t=0m04.34s\n"
     ]
    },
    {
     "name": "stdout",
     "output_type": "stream",
     "text": [
      "Done loading catalogues\n"
     ]
    }
   ],
   "source": [
    "# turn on logging to terminal (can change level to \"info\" or remove this line entirely)\n",
    "#get_logger(level=\"info\", pretty=True, capture_warnings=True)\n",
    "PROGRESS = True  # if you want to see a progress bar\n",
    "\n",
    "# CONFIGURATION\n",
    "patch_num = njn\n",
    "\n",
    "# LOADING CATALOGS\n",
    "CACHE_DIR = saveroot + f\"yaw{yaw_tag}/cache_{sim_mode_tag}-zbins/\"\n",
    "print(\"cache: \", CACHE_DIR)\n",
    "\n",
    "delete_and_recreate_cache_directory(CACHE_DIR)\n",
    "\n",
    "# set up the catalogues:\n",
    "cat_ref_rand = None \n",
    "\n",
    "cat_unk_rand = yaw.Catalog.from_file(\n",
    "    cache_directory=os.path.join(CACHE_DIR, \"unk_rand\"),\n",
    "    path=path_unk_rand,\n",
    "    ra_name=\"RA\",\n",
    "    dec_name=\"DEC\",\n",
    "    redshift_name=rand_z_name,\n",
    "    patch_num=patch_num,\n",
    "    progress=PROGRESS,\n",
    "    degrees=True,\n",
    ")\n",
    "\n",
    "patch_centers = cat_unk_rand.get_centers()\n",
    "\n",
    "cat_reference = yaw.Catalog.from_file(\n",
    "    cache_directory=os.path.join(CACHE_DIR, \"reference\"),\n",
    "    path=path_reference,\n",
    "    ra_name=\"RA\",\n",
    "    dec_name=\"DEC\",\n",
    "    redshift_name=\"Z\",\n",
    "    weight_name=ref_weight_name,\n",
    "    kappa_name=ref_name,\n",
    "    patch_centers=patch_centers,\n",
    "    progress=PROGRESS,\n",
    "    degrees=True,\n",
    ")\n",
    "print(\"Done loading catalogues\")"
   ]
  },
  {
   "cell_type": "code",
   "execution_count": 14,
   "id": "26d37af3-d7e1-4f30-a5bb-f60d53f18d7b",
   "metadata": {},
   "outputs": [],
   "source": [
    "# load unknown data\n",
    "fin = fits.open(path_unknown)\n",
    "unknownz = fin[1].data['Z']\n",
    "unknownz_bin = np.digitize(unknownz, edges)"
   ]
  },
  {
   "cell_type": "code",
   "execution_count": 20,
   "id": "25cbb738-2070-4b92-a793-302f1d6cc381",
   "metadata": {
    "collapsed": true,
    "jupyter": {
     "outputs_hidden": true
    }
   },
   "outputs": [
    {
     "name": "stdout",
     "output_type": "stream",
     "text": [
      "Working on bin 0...\n"
     ]
    },
    {
     "name": "stderr",
     "output_type": "stream",
     "text": [
      "Process Process-1680:0m00.00s\n",
      "Traceback (most recent call last):\n",
      "  File \"/global/homes/q/qhang/.conda/envs/yaw_env/lib/python3.11/multiprocessing/process.py\", line 314, in _bootstrap\n",
      "    self.run()\n",
      "  File \"/global/homes/q/qhang/.conda/envs/yaw_env/lib/python3.11/multiprocessing/process.py\", line 108, in run\n",
      "    self._target(*self._args, **self._kwargs)\n",
      "  File \"/global/u2/q/qhang/desc/yet_another_wizz/src/yaw/catalog/catalog.py\", line 812, in task\n",
      "    with CatalogWriter(\n",
      "         ^^^^^^^^^^^^^^\n",
      "  File \"/global/u2/q/qhang/desc/yet_another_wizz/src/yaw/catalog/catalog.py\", line 453, in __init__\n",
      "    raise FileExistsError(f\"cache directory exists: {cache_directory}\")\n",
      "FileExistsError: cache directory exists: /pscratch/sd/q/qhang/desi-lya/results/run-0/yaw-20bin/cache_raw-zbins/unknown-bin0\n",
      "processed 1/1 (100%) t=0m00.57s\n",
      "processed 64/64 (100%) t=0m04.78s\n",
      "processed 0/64 (0%) t=0m00.00s"
     ]
    },
    {
     "name": "stdout",
     "output_type": "stream",
     "text": [
      "Computing w_sp\n"
     ]
    },
    {
     "name": "stderr",
     "output_type": "stream",
     "text": [
      "processed 64/64 (100%) t=0m04.09s\n",
      "processed 64/64 (100%) t=0m05.12s\n",
      "processed 64/64 (100%) t=0m05.26s\n",
      "processed 346/346 (100%) t=0m05.71s\n",
      "processed 346/346 (100%) t=0m04.76s\n",
      "processed 346/346 (100%) t=0m17.63s\n",
      "processed 346/346 (100%) t=0m16.87s\n"
     ]
    },
    {
     "name": "stdout",
     "output_type": "stream",
     "text": [
      "Working on bin 1...\n"
     ]
    },
    {
     "name": "stderr",
     "output_type": "stream",
     "text": [
      "processed 1/1 (100%) t=0m00.48s\n",
      "processed 64/64 (100%) t=0m04.02s\n",
      "processed 0/64 (0%) t=0m00.00s"
     ]
    },
    {
     "name": "stdout",
     "output_type": "stream",
     "text": [
      "Computing w_sp\n"
     ]
    },
    {
     "name": "stderr",
     "output_type": "stream",
     "text": [
      "processed 64/64 (100%) t=0m04.60s\n",
      "processed 64/64 (100%) t=0m03.81s\n",
      "processed 64/64 (100%) t=0m04.31s\n",
      "processed 346/346 (100%) t=0m04.37s\n",
      "processed 346/346 (100%) t=0m03.91s\n",
      "processed 346/346 (100%) t=0m16.19s\n",
      "processed 346/346 (100%) t=0m16.41s\n"
     ]
    },
    {
     "name": "stdout",
     "output_type": "stream",
     "text": [
      "Working on bin 2...\n"
     ]
    },
    {
     "name": "stderr",
     "output_type": "stream",
     "text": [
      "processed 1/1 (100%) t=0m00.52s\n",
      "processed 64/64 (100%) t=0m04.02s\n",
      "processed 0/64 (0%) t=0m00.00s"
     ]
    },
    {
     "name": "stdout",
     "output_type": "stream",
     "text": [
      "Computing w_sp\n"
     ]
    },
    {
     "name": "stderr",
     "output_type": "stream",
     "text": [
      "processed 64/64 (100%) t=0m04.38s\n",
      "processed 64/64 (100%) t=0m03.81s\n",
      "processed 64/64 (100%) t=0m04.41s\n",
      "processed 346/346 (100%) t=0m03.83s\n",
      "processed 346/346 (100%) t=0m04.83s\n",
      "processed 346/346 (100%) t=0m15.74s\n",
      "processed 346/346 (100%) t=0m16.19s\n"
     ]
    },
    {
     "name": "stdout",
     "output_type": "stream",
     "text": [
      "Working on bin 3...\n"
     ]
    },
    {
     "name": "stderr",
     "output_type": "stream",
     "text": [
      "processed 1/1 (100%) t=0m00.43s\n",
      "processed 64/64 (100%) t=0m03.89s\n",
      "processed 0/64 (0%) t=0m00.00s"
     ]
    },
    {
     "name": "stdout",
     "output_type": "stream",
     "text": [
      "Computing w_sp\n"
     ]
    },
    {
     "name": "stderr",
     "output_type": "stream",
     "text": [
      "processed 64/64 (100%) t=0m05.11s\n",
      "processed 64/64 (100%) t=0m03.83s\n",
      "processed 64/64 (100%) t=0m04.32s\n",
      "processed 346/346 (100%) t=0m04.66s\n",
      "processed 346/346 (100%) t=0m04.20s\n",
      "processed 346/346 (100%) t=0m17.01s\n",
      "processed 346/346 (100%) t=0m14.68s\n"
     ]
    },
    {
     "name": "stdout",
     "output_type": "stream",
     "text": [
      "Working on bin 4...\n"
     ]
    },
    {
     "name": "stderr",
     "output_type": "stream",
     "text": [
      "processed 1/1 (100%) t=0m00.43s\n",
      "processed 64/64 (100%) t=0m03.28s\n",
      "processed 0/64 (0%) t=0m00.00s"
     ]
    },
    {
     "name": "stdout",
     "output_type": "stream",
     "text": [
      "Computing w_sp\n"
     ]
    },
    {
     "name": "stderr",
     "output_type": "stream",
     "text": [
      "processed 64/64 (100%) t=0m04.25s\n",
      "processed 64/64 (100%) t=0m04.16s\n",
      "processed 64/64 (100%) t=0m04.04s\n",
      "processed 346/346 (100%) t=0m03.85s\n",
      "processed 346/346 (100%) t=0m04.50s\n",
      "processed 346/346 (100%) t=0m13.62s\n",
      "processed 346/346 (100%) t=0m14.53s\n"
     ]
    },
    {
     "name": "stdout",
     "output_type": "stream",
     "text": [
      "Working on bin 5...\n"
     ]
    },
    {
     "name": "stderr",
     "output_type": "stream",
     "text": [
      "processed 1/1 (100%) t=0m00.38s\n",
      "processed 64/64 (100%) t=0m03.68s\n",
      "processed 0/64 (0%) t=0m00.00s"
     ]
    },
    {
     "name": "stdout",
     "output_type": "stream",
     "text": [
      "Computing w_sp\n"
     ]
    },
    {
     "name": "stderr",
     "output_type": "stream",
     "text": [
      "processed 64/64 (100%) t=0m04.82s\n",
      "processed 64/64 (100%) t=0m03.68s\n",
      "processed 64/64 (100%) t=0m04.44s\n",
      "processed 346/346 (100%) t=0m04.93s\n",
      "processed 346/346 (100%) t=0m03.53s\n",
      "processed 346/346 (100%) t=0m13.57s\n",
      "processed 346/346 (100%) t=0m13.78s\n"
     ]
    },
    {
     "name": "stdout",
     "output_type": "stream",
     "text": [
      "Working on bin 6...\n"
     ]
    },
    {
     "name": "stderr",
     "output_type": "stream",
     "text": [
      "processed 1/1 (100%) t=0m00.46s\n",
      "processed 64/64 (100%) t=0m03.89s\n",
      "processed 0/64 (0%) t=0m00.00s"
     ]
    },
    {
     "name": "stdout",
     "output_type": "stream",
     "text": [
      "Computing w_sp\n"
     ]
    },
    {
     "name": "stderr",
     "output_type": "stream",
     "text": [
      "processed 64/64 (100%) t=0m05.00s\n",
      "processed 64/64 (100%) t=0m04.11s\n",
      "processed 64/64 (100%) t=0m04.07s\n",
      "processed 346/346 (100%) t=0m04.44s\n",
      "processed 346/346 (100%) t=0m03.82s\n",
      "processed 346/346 (100%) t=0m13.94s\n",
      "processed 346/346 (100%) t=0m13.35s\n"
     ]
    },
    {
     "name": "stdout",
     "output_type": "stream",
     "text": [
      "Working on bin 7...\n"
     ]
    },
    {
     "name": "stderr",
     "output_type": "stream",
     "text": [
      "processed 1/1 (100%) t=0m00.34s\n",
      "processed 64/64 (100%) t=0m04.20s\n",
      "processed 0/64 (0%) t=0m00.00s"
     ]
    },
    {
     "name": "stdout",
     "output_type": "stream",
     "text": [
      "Computing w_sp\n"
     ]
    },
    {
     "name": "stderr",
     "output_type": "stream",
     "text": [
      "processed 64/64 (100%) t=0m04.02s\n",
      "processed 64/64 (100%) t=0m03.78s\n",
      "processed 64/64 (100%) t=0m03.33s\n",
      "processed 346/346 (100%) t=0m04.56s\n",
      "processed 346/346 (100%) t=0m04.31s\n",
      "processed 346/346 (100%) t=0m12.20s\n",
      "processed 346/346 (100%) t=0m12.83s\n"
     ]
    },
    {
     "name": "stdout",
     "output_type": "stream",
     "text": [
      "Working on bin 8...\n"
     ]
    },
    {
     "name": "stderr",
     "output_type": "stream",
     "text": [
      "processed 1/1 (100%) t=0m00.39s\n",
      "processed 64/64 (100%) t=0m03.40s\n",
      "processed 0/64 (0%) t=0m00.00s"
     ]
    },
    {
     "name": "stdout",
     "output_type": "stream",
     "text": [
      "Computing w_sp\n"
     ]
    },
    {
     "name": "stderr",
     "output_type": "stream",
     "text": [
      "processed 64/64 (100%) t=0m04.21s\n",
      "processed 64/64 (100%) t=0m03.58s\n",
      "processed 64/64 (100%) t=0m04.75s\n",
      "processed 346/346 (100%) t=0m04.14s\n",
      "processed 346/346 (100%) t=0m04.41s\n",
      "processed 346/346 (100%) t=0m12.34s\n",
      "processed 346/346 (100%) t=0m12.27s\n"
     ]
    },
    {
     "name": "stdout",
     "output_type": "stream",
     "text": [
      "Working on bin 9...\n"
     ]
    },
    {
     "name": "stderr",
     "output_type": "stream",
     "text": [
      "processed 1/1 (100%) t=0m00.35s\n",
      "processed 64/64 (100%) t=0m03.43s\n",
      "processed 0/64 (0%) t=0m00.00s"
     ]
    },
    {
     "name": "stdout",
     "output_type": "stream",
     "text": [
      "Computing w_sp\n"
     ]
    },
    {
     "name": "stderr",
     "output_type": "stream",
     "text": [
      "processed 64/64 (100%) t=0m04.31s\n",
      "processed 64/64 (100%) t=0m03.78s\n",
      "processed 64/64 (100%) t=0m04.00s\n",
      "processed 346/346 (100%) t=0m04.49s\n",
      "processed 346/346 (100%) t=0m03.79s\n",
      "processed 346/346 (100%) t=0m11.15s\n",
      "processed 346/346 (100%) t=0m10.36s\n"
     ]
    },
    {
     "name": "stdout",
     "output_type": "stream",
     "text": [
      "Working on bin 10...\n"
     ]
    },
    {
     "name": "stderr",
     "output_type": "stream",
     "text": [
      "processed 1/1 (100%) t=0m00.36s\n",
      "processed 64/64 (100%) t=0m03.73s\n",
      "processed 0/64 (0%) t=0m00.00s"
     ]
    },
    {
     "name": "stdout",
     "output_type": "stream",
     "text": [
      "Computing w_sp\n"
     ]
    },
    {
     "name": "stderr",
     "output_type": "stream",
     "text": [
      "processed 64/64 (100%) t=0m04.75s\n",
      "processed 64/64 (100%) t=0m03.59s\n",
      "processed 64/64 (100%) t=0m04.50s\n",
      "processed 346/346 (100%) t=0m04.30s\n",
      "processed 346/346 (100%) t=0m03.70s\n",
      "processed 346/346 (100%) t=0m11.16s\n",
      "processed 346/346 (100%) t=0m10.17s\n"
     ]
    },
    {
     "name": "stdout",
     "output_type": "stream",
     "text": [
      "Working on bin 11...\n"
     ]
    },
    {
     "name": "stderr",
     "output_type": "stream",
     "text": [
      "processed 1/1 (100%) t=0m00.31s\n",
      "processed 64/64 (100%) t=0m03.46s\n",
      "processed 0/64 (0%) t=0m00.00s"
     ]
    },
    {
     "name": "stdout",
     "output_type": "stream",
     "text": [
      "Computing w_sp\n"
     ]
    },
    {
     "name": "stderr",
     "output_type": "stream",
     "text": [
      "processed 64/64 (100%) t=0m04.27s\n",
      "processed 64/64 (100%) t=0m03.28s\n",
      "processed 64/64 (100%) t=0m04.32s\n",
      "processed 346/346 (100%) t=0m03.51s\n",
      "processed 346/346 (100%) t=0m04.97s\n",
      "processed 346/346 (100%) t=0m10.15s\n",
      "processed 346/346 (100%) t=0m09.98s\n"
     ]
    },
    {
     "name": "stdout",
     "output_type": "stream",
     "text": [
      "Working on bin 12...\n"
     ]
    },
    {
     "name": "stderr",
     "output_type": "stream",
     "text": [
      "processed 1/1 (100%) t=0m00.31s\n",
      "processed 64/64 (100%) t=0m03.60s\n",
      "processed 0/64 (0%) t=0m00.00s"
     ]
    },
    {
     "name": "stdout",
     "output_type": "stream",
     "text": [
      "Computing w_sp\n"
     ]
    },
    {
     "name": "stderr",
     "output_type": "stream",
     "text": [
      "processed 64/64 (100%) t=0m04.22s\n",
      "processed 64/64 (100%) t=0m03.35s\n",
      "processed 64/64 (100%) t=0m04.62s\n",
      "processed 346/346 (100%) t=0m03.54s\n",
      "processed 346/346 (100%) t=0m04.52s\n",
      "processed 346/346 (100%) t=0m09.06s\n",
      "processed 346/346 (100%) t=0m09.04s\n"
     ]
    },
    {
     "name": "stdout",
     "output_type": "stream",
     "text": [
      "Working on bin 13...\n"
     ]
    },
    {
     "name": "stderr",
     "output_type": "stream",
     "text": [
      "processed 1/1 (100%) t=0m00.28s\n",
      "processed 64/64 (100%) t=0m03.68s\n",
      "processed 0/64 (0%) t=0m00.00s"
     ]
    },
    {
     "name": "stdout",
     "output_type": "stream",
     "text": [
      "Computing w_sp\n"
     ]
    },
    {
     "name": "stderr",
     "output_type": "stream",
     "text": [
      "processed 64/64 (100%) t=0m04.73s\n",
      "processed 64/64 (100%) t=0m03.39s\n",
      "processed 64/64 (100%) t=0m04.39s\n",
      "processed 346/346 (100%) t=0m04.58s\n",
      "processed 346/346 (100%) t=0m03.94s\n",
      "processed 346/346 (100%) t=0m09.30s\n",
      "processed 346/346 (100%) t=0m09.94s\n"
     ]
    },
    {
     "name": "stdout",
     "output_type": "stream",
     "text": [
      "Working on bin 14...\n"
     ]
    },
    {
     "name": "stderr",
     "output_type": "stream",
     "text": [
      "processed 1/1 (100%) t=0m00.28s\n",
      "processed 64/64 (100%) t=0m03.70s\n",
      "processed 0/64 (0%) t=0m00.00s"
     ]
    },
    {
     "name": "stdout",
     "output_type": "stream",
     "text": [
      "Computing w_sp\n"
     ]
    },
    {
     "name": "stderr",
     "output_type": "stream",
     "text": [
      "processed 64/64 (100%) t=0m04.61s\n",
      "processed 64/64 (100%) t=0m03.37s\n",
      "processed 64/64 (100%) t=0m04.36s\n",
      "processed 346/346 (100%) t=0m04.54s\n",
      "processed 346/346 (100%) t=0m03.85s\n",
      "processed 346/346 (100%) t=0m09.60s\n",
      "processed 346/346 (100%) t=0m08.48s\n"
     ]
    },
    {
     "name": "stdout",
     "output_type": "stream",
     "text": [
      "Working on bin 15...\n"
     ]
    },
    {
     "name": "stderr",
     "output_type": "stream",
     "text": [
      "processed 1/1 (100%) t=0m00.26s\n",
      "processed 64/64 (100%) t=0m04.12s\n",
      "processed 0/64 (0%) t=0m00.00s"
     ]
    },
    {
     "name": "stdout",
     "output_type": "stream",
     "text": [
      "Computing w_sp\n"
     ]
    },
    {
     "name": "stderr",
     "output_type": "stream",
     "text": [
      "processed 64/64 (100%) t=0m03.65s\n",
      "processed 64/64 (100%) t=0m03.54s\n",
      "processed 64/64 (100%) t=0m04.39s\n",
      "processed 346/346 (100%) t=0m03.41s\n",
      "processed 346/346 (100%) t=0m04.75s\n",
      "processed 346/346 (100%) t=0m07.63s\n",
      "processed 346/346 (100%) t=0m07.34s\n"
     ]
    },
    {
     "name": "stdout",
     "output_type": "stream",
     "text": [
      "Working on bin 16...\n"
     ]
    },
    {
     "name": "stderr",
     "output_type": "stream",
     "text": [
      "processed 1/1 (100%) t=0m00.27s\n",
      "processed 64/64 (100%) t=0m04.58s\n",
      "processed 0/64 (0%) t=0m00.00s"
     ]
    },
    {
     "name": "stdout",
     "output_type": "stream",
     "text": [
      "Computing w_sp\n"
     ]
    },
    {
     "name": "stderr",
     "output_type": "stream",
     "text": [
      "processed 64/64 (100%) t=0m04.35s\n",
      "processed 64/64 (100%) t=0m03.57s\n",
      "processed 64/64 (100%) t=0m04.38s\n",
      "processed 346/346 (100%) t=0m03.70s\n",
      "processed 346/346 (100%) t=0m04.80s\n",
      "processed 346/346 (100%) t=0m06.65s\n",
      "processed 346/346 (100%) t=0m07.24s\n"
     ]
    },
    {
     "name": "stdout",
     "output_type": "stream",
     "text": [
      "Working on bin 17...\n"
     ]
    },
    {
     "name": "stderr",
     "output_type": "stream",
     "text": [
      "processed 1/1 (100%) t=0m00.25s\n",
      "processed 64/64 (100%) t=0m04.48s\n",
      "processed 0/64 (0%) t=0m00.00s"
     ]
    },
    {
     "name": "stdout",
     "output_type": "stream",
     "text": [
      "Computing w_sp\n"
     ]
    },
    {
     "name": "stderr",
     "output_type": "stream",
     "text": [
      "processed 64/64 (100%) t=0m04.04s\n",
      "processed 64/64 (100%) t=0m03.55s\n",
      "processed 64/64 (100%) t=0m04.17s\n",
      "processed 346/346 (100%) t=0m03.44s\n",
      "processed 346/346 (100%) t=0m04.66s\n",
      "processed 346/346 (100%) t=0m06.63s\n",
      "processed 346/346 (100%) t=0m06.91s\n"
     ]
    },
    {
     "name": "stdout",
     "output_type": "stream",
     "text": [
      "Working on bin 18...\n"
     ]
    },
    {
     "name": "stderr",
     "output_type": "stream",
     "text": [
      "processed 1/1 (100%) t=0m00.26s\n",
      "processed 64/64 (100%) t=0m04.57s\n",
      "processed 0/64 (0%) t=0m00.00s"
     ]
    },
    {
     "name": "stdout",
     "output_type": "stream",
     "text": [
      "Computing w_sp\n"
     ]
    },
    {
     "name": "stderr",
     "output_type": "stream",
     "text": [
      "processed 64/64 (100%) t=0m03.45s\n",
      "processed 64/64 (100%) t=0m03.41s\n",
      "processed 64/64 (100%) t=0m03.82s\n",
      "processed 346/346 (100%) t=0m03.49s\n",
      "processed 346/346 (100%) t=0m04.35s\n",
      "processed 346/346 (100%) t=0m05.49s\n",
      "processed 346/346 (100%) t=0m05.72s\n"
     ]
    },
    {
     "name": "stdout",
     "output_type": "stream",
     "text": [
      "Working on bin 19...\n"
     ]
    },
    {
     "name": "stderr",
     "output_type": "stream",
     "text": [
      "processed 1/1 (100%) t=0m00.42s\n",
      "processed 64/64 (100%) t=0m04.12s\n",
      "processed 0/64 (0%) t=0m00.00s"
     ]
    },
    {
     "name": "stdout",
     "output_type": "stream",
     "text": [
      "Computing w_sp\n"
     ]
    },
    {
     "ename": "UnboundLocalError",
     "evalue": "cannot access local variable 'weights' where it is not associated with a value",
     "output_type": "error",
     "traceback": [
      "\u001b[0;31m---------------------------------------------------------------------------\u001b[0m",
      "\u001b[0;31mRemoteTraceback\u001b[0m                           Traceback (most recent call last)",
      "\u001b[0;31mRemoteTraceback\u001b[0m: \n\"\"\"\nTraceback (most recent call last):\n  File \"/global/u2/q/qhang/desc/yet_another_wizz/src/yaw/catalog/trees.py\", line 523, in build\n    assert new.binning_equal(binning)\n           ^^^^^^^^^^^^^^^^^^^^^^^^^^\nAssertionError\n\nDuring handling of the above exception, another exception occurred:\n\nTraceback (most recent call last):\n  File \"/global/homes/q/qhang/.conda/envs/yaw_env/lib/python3.11/multiprocessing/pool.py\", line 125, in worker\n    result = (True, func(*args, **kwds))\n                    ^^^^^^^^^^^^^^^^^^^\n  File \"/global/u2/q/qhang/desc/yet_another_wizz/src/yaw/utils/parallel.py\", line 248, in __call__\n    return self.func(*func_args, **self.func_kwargs)\n           ^^^^^^^^^^^^^^^^^^^^^^^^^^^^^^^^^^^^^^^^^\n  File \"/global/u2/q/qhang/desc/yet_another_wizz/src/yaw/catalog/trees.py\", line 531, in build\n    trees = build_trees(patch, binning, leafsize=leafsize)\n            ^^^^^^^^^^^^^^^^^^^^^^^^^^^^^^^^^^^^^^^^^^^^^^\n  File \"/global/u2/q/qhang/desc/yet_another_wizz/src/yaw/catalog/trees.py\", line 425, in build_trees\n    has_weights=weights is not None,\n                ^^^^^^^\nUnboundLocalError: cannot access local variable 'weights' where it is not associated with a value\n\"\"\"",
      "\nThe above exception was the direct cause of the following exception:\n",
      "\u001b[0;31mUnboundLocalError\u001b[0m                         Traceback (most recent call last)",
      "Cell \u001b[0;32mIn[20], line 38\u001b[0m\n\u001b[1;32m     28\u001b[0m config \u001b[38;5;241m=\u001b[39m yaw\u001b[38;5;241m.\u001b[39mConfiguration\u001b[38;5;241m.\u001b[39mcreate(\n\u001b[1;32m     29\u001b[0m     rmin\u001b[38;5;241m=\u001b[39mtheta_min,  \u001b[38;5;66;03m# scalar or list of lower scale cuts\u001b[39;00m\n\u001b[1;32m     30\u001b[0m     rmax\u001b[38;5;241m=\u001b[39mtheta_max,\n\u001b[0;32m   (...)\u001b[0m\n\u001b[1;32m     34\u001b[0m     edges\u001b[38;5;241m=\u001b[39medges[ii:ii\u001b[38;5;241m+\u001b[39m\u001b[38;5;241m2\u001b[39m],\n\u001b[1;32m     35\u001b[0m )\n\u001b[1;32m     37\u001b[0m \u001b[38;5;28mprint\u001b[39m(\u001b[38;5;124m\"\u001b[39m\u001b[38;5;124mComputing w_sp\u001b[39m\u001b[38;5;124m\"\u001b[39m)\n\u001b[0;32m---> 38\u001b[0m w_sp \u001b[38;5;241m=\u001b[39m \u001b[43mcrosscorrelate_scalar\u001b[49m\u001b[43m(\u001b[49m\n\u001b[1;32m     39\u001b[0m \u001b[43m    \u001b[49m\u001b[43mconfig\u001b[49m\u001b[43m,\u001b[49m\n\u001b[1;32m     40\u001b[0m \u001b[43m    \u001b[49m\u001b[43mcat_reference\u001b[49m\u001b[43m,\u001b[49m\n\u001b[1;32m     41\u001b[0m \u001b[43m    \u001b[49m\u001b[43mcat_unknown\u001b[49m\u001b[43m,\u001b[49m\n\u001b[1;32m     42\u001b[0m \u001b[43m    \u001b[49m\u001b[43munk_rand\u001b[49m\u001b[38;5;241;43m=\u001b[39;49m\u001b[43mcat_unk_rand\u001b[49m\u001b[43m,\u001b[49m\n\u001b[1;32m     43\u001b[0m \u001b[43m    \u001b[49m\u001b[43mprogress\u001b[49m\u001b[38;5;241;43m=\u001b[39;49m\u001b[43mPROGRESS\u001b[49m\n\u001b[1;32m     44\u001b[0m \u001b[43m\u001b[49m\u001b[43m)\u001b[49m\n\u001b[1;32m     46\u001b[0m W_SP[ii] \u001b[38;5;241m=\u001b[39m w_sp\n",
      "File \u001b[0;32m/global/u2/q/qhang/desc/yet_another_wizz/src/yaw/correlation/measurements.py:727\u001b[0m, in \u001b[0;36mcrosscorrelate_scalar\u001b[0;34m(config, reference, unknown, unk_rand, progress, max_workers)\u001b[0m\n\u001b[1;32m    724\u001b[0m closed \u001b[38;5;241m=\u001b[39m config\u001b[38;5;241m.\u001b[39mbinning\u001b[38;5;241m.\u001b[39mclosed\n\u001b[1;32m    725\u001b[0m randoms \u001b[38;5;241m=\u001b[39m []\n\u001b[0;32m--> 727\u001b[0m \u001b[43mreference\u001b[49m\u001b[38;5;241;43m.\u001b[39;49m\u001b[43mbuild_trees\u001b[49m\u001b[43m(\u001b[49m\u001b[43medges\u001b[49m\u001b[43m,\u001b[49m\u001b[43m \u001b[49m\u001b[43mclosed\u001b[49m\u001b[38;5;241;43m=\u001b[39;49m\u001b[43mclosed\u001b[49m\u001b[43m,\u001b[49m\u001b[43m \u001b[49m\u001b[38;5;241;43m*\u001b[39;49m\u001b[38;5;241;43m*\u001b[39;49m\u001b[43mkwargs\u001b[49m\u001b[43m)\u001b[49m\n\u001b[1;32m    729\u001b[0m unknown\u001b[38;5;241m.\u001b[39mbuild_trees(\u001b[38;5;28;01mNone\u001b[39;00m, \u001b[38;5;241m*\u001b[39m\u001b[38;5;241m*\u001b[39mkwargs)\n\u001b[1;32m    731\u001b[0m \u001b[38;5;28;01mif\u001b[39;00m count_dr:\n",
      "File \u001b[0;32m/global/u2/q/qhang/desc/yet_another_wizz/src/yaw/catalog/catalog.py:1460\u001b[0m, in \u001b[0;36mCatalog.build_trees\u001b[0;34m(self, binning, closed, leafsize, force, progress, max_workers)\u001b[0m\n\u001b[1;32m   1457\u001b[0m \u001b[38;5;28;01mif\u001b[39;00m progress:\n\u001b[1;32m   1458\u001b[0m     patch_tree_iter \u001b[38;5;241m=\u001b[39m Indicator(patch_tree_iter, \u001b[38;5;28mlen\u001b[39m(\u001b[38;5;28mself\u001b[39m))\n\u001b[0;32m-> 1460\u001b[0m \u001b[43mdeque\u001b[49m\u001b[43m(\u001b[49m\u001b[43mpatch_tree_iter\u001b[49m\u001b[43m,\u001b[49m\u001b[43m \u001b[49m\u001b[43mmaxlen\u001b[49m\u001b[38;5;241;43m=\u001b[39;49m\u001b[38;5;241;43m0\u001b[39;49m\u001b[43m)\u001b[49m\n",
      "File \u001b[0;32m/global/u2/q/qhang/desc/yet_another_wizz/src/yaw/utils/logging.py:117\u001b[0m, in \u001b[0;36mIndicator.__iter__\u001b[0;34m(self)\u001b[0m\n\u001b[1;32m    115\u001b[0m i \u001b[38;5;241m=\u001b[39m \u001b[38;5;241m0\u001b[39m\n\u001b[1;32m    116\u001b[0m start \u001b[38;5;241m=\u001b[39m default_timer()\n\u001b[0;32m--> 117\u001b[0m \u001b[43m\u001b[49m\u001b[38;5;28;43;01mfor\u001b[39;49;00m\u001b[43m \u001b[49m\u001b[43mitem\u001b[49m\u001b[43m \u001b[49m\u001b[38;5;129;43;01min\u001b[39;49;00m\u001b[43m \u001b[49m\u001b[38;5;28;43mself\u001b[39;49m\u001b[38;5;241;43m.\u001b[39;49m\u001b[43miterable\u001b[49m\u001b[43m:\u001b[49m\n\u001b[1;32m    118\u001b[0m \u001b[43m    \u001b[49m\u001b[43mi\u001b[49m\u001b[43m \u001b[49m\u001b[38;5;241;43m+\u001b[39;49m\u001b[38;5;241;43m=\u001b[39;49m\u001b[43m \u001b[49m\u001b[38;5;241;43m1\u001b[39;49m\n\u001b[1;32m    119\u001b[0m \u001b[43m    \u001b[49m\u001b[43melapsed\u001b[49m\u001b[43m \u001b[49m\u001b[38;5;241;43m=\u001b[39;49m\u001b[43m \u001b[49m\u001b[43mdefault_timer\u001b[49m\u001b[43m(\u001b[49m\u001b[43m)\u001b[49m\u001b[43m \u001b[49m\u001b[38;5;241;43m-\u001b[39;49m\u001b[43m \u001b[49m\u001b[43mstart\u001b[49m\n",
      "File \u001b[0;32m/global/u2/q/qhang/desc/yet_another_wizz/src/yaw/utils/parallel.py:396\u001b[0m, in \u001b[0;36miter_unordered\u001b[0;34m(func, iterable, func_args, func_kwargs, unpack, max_workers, rank0_node_only, comm)\u001b[0m\n\u001b[1;32m    393\u001b[0m     \u001b[38;5;28;01melse\u001b[39;00m:\n\u001b[1;32m    394\u001b[0m         logger\u001b[38;5;241m.\u001b[39mdebug(\u001b[38;5;124m\"\u001b[39m\u001b[38;5;124mrunning jobs sequentially\u001b[39m\u001b[38;5;124m\"\u001b[39m)\n\u001b[0;32m--> 396\u001b[0m \u001b[38;5;28;01myield from\u001b[39;00m parallel_method(func, iterable, \u001b[38;5;241m*\u001b[39m\u001b[38;5;241m*\u001b[39miter_kwargs)\n",
      "File \u001b[0;32m/global/u2/q/qhang/desc/yet_another_wizz/src/yaw/utils/parallel.py:343\u001b[0m, in \u001b[0;36m_multiprocessing_iter_unordered\u001b[0;34m(func, iterable, func_args, func_kwargs, unpack, num_processes)\u001b[0m\n\u001b[1;32m    341\u001b[0m \u001b[38;5;28;01melse\u001b[39;00m:\n\u001b[1;32m    342\u001b[0m     \u001b[38;5;28;01mwith\u001b[39;00m multiprocessing\u001b[38;5;241m.\u001b[39mPool(num_processes) \u001b[38;5;28;01mas\u001b[39;00m pool:\n\u001b[0;32m--> 343\u001b[0m         \u001b[38;5;28;01myield from\u001b[39;00m pool\u001b[38;5;241m.\u001b[39mimap_unordered(wrapped_func, iterable)\n",
      "File \u001b[0;32m~/.conda/envs/yaw_env/lib/python3.11/multiprocessing/pool.py:873\u001b[0m, in \u001b[0;36mIMapIterator.next\u001b[0;34m(self, timeout)\u001b[0m\n\u001b[1;32m    871\u001b[0m \u001b[38;5;28;01mif\u001b[39;00m success:\n\u001b[1;32m    872\u001b[0m     \u001b[38;5;28;01mreturn\u001b[39;00m value\n\u001b[0;32m--> 873\u001b[0m \u001b[38;5;28;01mraise\u001b[39;00m value\n",
      "\u001b[0;31mUnboundLocalError\u001b[0m: cannot access local variable 'weights' where it is not associated with a value"
     ]
    }
   ],
   "source": [
    "# here define the unknown sample for each redshift slice: and measure the cross-correlation, save them:\n",
    "W_SP = {}\n",
    "for ii in range(len(edges)-1):\n",
    "    print(f\"Working on bin {ii}...\")\n",
    "    # here select the catalog:\n",
    "    ind = unknownz_bin == ii + 1\n",
    "    dataframe_unknown = {\n",
    "        'RA': fin[1].data['RA'][ind],\n",
    "        'DEC': fin[1].data['DEC'][ind],\n",
    "        'Z': fin[1].data['Z'][ind],\n",
    "    }\n",
    "    # turn into pandas dataframe:\n",
    "    dataframe_unknown = pd.DataFrame.from_dict(dataframe_unknown)\n",
    "    \n",
    "    cat_unknown = yaw.Catalog.from_dataframe(\n",
    "        cache_directory=os.path.join(CACHE_DIR, f\"unknown-bin{ii}\"),\n",
    "        dataframe=dataframe_unknown,\n",
    "        ra_name=\"RA\",\n",
    "        dec_name=\"DEC\",\n",
    "        redshift_name=\"Z\",\n",
    "        #weight_name=\"weight_column\",  # optional\n",
    "        patch_centers=patch_centers,\n",
    "        progress=PROGRESS,\n",
    "        degrees=True,\n",
    "    )\n",
    "\n",
    "     # code will generate this number of patch centers from the reference randoms\n",
    "    config = yaw.Configuration.create(\n",
    "        rmin=theta_min,  # scalar or list of lower scale cuts\n",
    "        rmax=theta_max,\n",
    "        unit=unit,\n",
    "        rweight=theta_scaled,\n",
    "        resolution=resolution,\n",
    "        edges=edges[ii:ii+2],\n",
    "    )\n",
    "    \n",
    "    print(\"Computing w_sp\")\n",
    "    w_sp = crosscorrelate_scalar(\n",
    "        config,\n",
    "        cat_reference,\n",
    "        cat_unknown,\n",
    "        unk_rand=cat_unk_rand,\n",
    "        progress=PROGRESS\n",
    "    )\n",
    "\n",
    "    W_SP[ii] = w_sp"
   ]
  },
  {
   "cell_type": "code",
   "execution_count": 22,
   "id": "5d6ef478-a636-4bd4-ab90-f6031e665f19",
   "metadata": {},
   "outputs": [
    {
     "name": "stderr",
     "output_type": "stream",
     "text": [
      "/tmp/ipykernel_1308862/881480504.py:6: DeprecationWarning: Conversion of an array with ndim > 0 to a scalar is deprecated, and will error in future. Ensure you extract a single element from your array before performing this operation. (Deprecated NumPy 1.25.)\n",
      "  vec[jj,0] = W_SP[jj][ii].sample().data\n",
      "/tmp/ipykernel_1308862/881480504.py:7: DeprecationWarning: Conversion of an array with ndim > 0 to a scalar is deprecated, and will error in future. Ensure you extract a single element from your array before performing this operation. (Deprecated NumPy 1.25.)\n",
      "  vec[jj,1] = W_SP[jj][ii].sample().error\n"
     ]
    }
   ],
   "source": [
    "# plot below \n",
    "w_sp_theta = []\n",
    "for ii in range(len(theta_min)):\n",
    "    vec = np.zeros((len(edges)-1, 2))\n",
    "    for jj in range(len(edges)-2):\n",
    "        vec[jj,0] = W_SP[jj][ii].sample().data\n",
    "        vec[jj,1] = W_SP[jj][ii].sample().error\n",
    "    w_sp_theta.append(vec)"
   ]
  },
  {
   "cell_type": "code",
   "execution_count": 38,
   "id": "8f42223d-0aee-4f0f-b8a5-fe538a5122c6",
   "metadata": {},
   "outputs": [
    {
     "data": {
      "text/plain": [
       "Text(0, 0.5, '$w_{sp}$ in zbins')"
      ]
     },
     "execution_count": 38,
     "metadata": {},
     "output_type": "execute_result"
    },
    {
     "data": {
      "image/png": "[encoded data removed]",
      "text/plain": [
       "<Figure size 640x480 with 1 Axes>"
      ]
     },
     "metadata": {},
     "output_type": "display_data"
    }
   ],
   "source": [
    "for ii in range(len(theta_min)):\n",
    "    pl.errorbar(zsamp, w_sp_theta[ii][:,0], yerr=w_sp_theta[ii][:,1], fmt='.', \n",
    "                label=f\"theta-min-{theta_min[ii]}-max-{theta_max[ii]}\")\n",
    "    if(0):\n",
    "        # save the files:\n",
    "        fname = saveroot + f\"yaw-20bin/w_sp-zbins-{sim_mode_tag}-theta-min-{theta_min[ii]}-max-{theta_max[ii]}.txt\"\n",
    "        np.savetxt(fname, np.c_[zsamp, w_sp_theta[ii]])\n",
    "pl.legend()\n",
    "pl.xlabel(\"$z$\")\n",
    "pl.ylabel(\"$w_{sp}$ in zbins\")"
   ]
  },
  {
   "cell_type": "code",
   "execution_count": 39,
   "id": "ba509601-35e9-494e-b300-ba355ea2e0d6",
   "metadata": {},
   "outputs": [],
   "source": [
    "def simple_corr_error_comb(w_sp, w_pp, w_ss):\n",
    "    f1 = w_sp[:,1]/w_sp[:,0]\n",
    "    f2 = w_ss[:,1]/w_ss[:,0]\n",
    "    f3 = w_pp[:,1]/w_pp[:,0]\n",
    "    f4 = np.sqrt(f1**2 + 0.5*(f2**2 + f3**2))\n",
    "    r = w_sp[:,0]/np.sqrt(w_ss[:,0]*w_pp[:,0])\n",
    "    return np.c_[r, r*f4]"
   ]
  },
  {
   "cell_type": "code",
   "execution_count": 40,
   "id": "4cc35ca2-b47f-42f7-92a1-3a428ae24091",
   "metadata": {},
   "outputs": [],
   "source": [
    "# let's load the auto-correlations:\n",
    "w_ss_theta = []\n",
    "w_pp_theta = []\n",
    "w_sp_theta = []\n",
    "for ii in range(len(theta_min)):\n",
    "    cts_ss = ScalarCorrFunc.from_file(saveroot + f\"yaw-20bin/w_ss-{sim_mode_tag}-theta-min-{theta_min[ii]}-max-{theta_max[ii]}.hdf5\")\n",
    "    cts_pp = yaw.CorrFunc.from_file(saveroot + f\"yaw-20bin/w_pp-theta-min-{theta_min[ii]}-max-{theta_max[ii]}.hdf5\")\n",
    "    fin = np.loadtxt(saveroot + f\"yaw-20bin/w_sp-zbins-{sim_mode_tag}-theta-min-{theta_min[ii]}-max-{theta_max[ii]}.txt\")\n",
    "    \n",
    "    w_ss_theta.append(cts_ss)\n",
    "    w_pp_theta.append(cts_pp)\n",
    "    w_sp_theta.append(fin[:,1:])"
   ]
  },
  {
   "cell_type": "code",
   "execution_count": 41,
   "id": "25ee0e03-d75d-4b40-b23d-ff14f0447e4f",
   "metadata": {},
   "outputs": [
    {
     "name": "stderr",
     "output_type": "stream",
     "text": [
      "/global/u2/q/qhang/desc/yet_another_wizz/src/yaw/correlation/paircounts.py:703: RuntimeWarning: invalid value encountered in divide\n",
      "  data = kk_counts.data / nn_counts.data\n",
      "/global/u2/q/qhang/desc/yet_another_wizz/src/yaw/correlation/paircounts.py:704: RuntimeWarning: invalid value encountered in divide\n",
      "  samples = kk_counts.samples / nn_counts.samples\n",
      "/tmp/ipykernel_1751788/3713362444.py:2: RuntimeWarning: invalid value encountered in divide\n",
      "  f1 = w_sp[:,1]/w_sp[:,0]\n"
     ]
    }
   ],
   "source": [
    "error_r = []\n",
    "for ii in range(len(theta_min)):\n",
    "    a = np.c_[w_ss_theta[ii].sample().data, w_ss_theta[ii].sample().error]\n",
    "    b = np.c_[w_pp_theta[ii].sample().data, w_pp_theta[ii].sample().error]\n",
    "    c = w_sp_theta[ii]\n",
    "    error_r.append(simple_corr_error_comb(c, a, b))"
   ]
  },
  {
   "cell_type": "code",
   "execution_count": 43,
   "id": "d9b659f5-3a0b-4d3c-913f-2158494ee284",
   "metadata": {},
   "outputs": [
    {
     "data": {
      "image/png": "[encoded data removed]",
      "text/plain": [
       "<Figure size 1000x300 with 1 Axes>"
      ]
     },
     "metadata": {},
     "output_type": "display_data"
    }
   ],
   "source": [
    "fig,axarr=pl.subplots(figsize=[10,3])\n",
    "fmt=['o','s','X']\n",
    "color=['#7c8cac','#9c7cab','#e4c4f4']\n",
    "#label=[\"Picca\", \"LyCAN\"]\n",
    "Nbins=20\n",
    "\n",
    "mode = \"raw\"\n",
    "for jj in range(len(theta_min)):\n",
    "    label = f\"$\\\\theta = [{theta_min[jj]}, {theta_max[jj]}]$ arcmin\"\n",
    "    pl.errorbar(zsamp + jj*0.005, abs(error_r[jj][:,0]), yerr=abs(error_r[jj][:,1]),\n",
    "                        fmt=fmt[jj], label=label,color=color[jj],markersize=7)\n",
    "pl.title(mode + f\" {Nbins} bins\")\n",
    "\n",
    "\n",
    "pl.plot([1.8,3.0],[1,1],'k-')\n",
    "#pl.stairs(nz_norm,nz_edges, color='k', label='truth')\n",
    "pl.xlim([1.95,3.0])\n",
    "pl.ylim([0.6, 1.1])\n",
    "\n",
    "pl.legend()\n",
    "pl.xlabel(\"$z$\")\n",
    "pl.ylabel(\"Correlation coefficient $r_{Fg}$\")\n",
    "\n",
    "pl.savefig(\"../plots/corr-coeff-scales-20bin-raw.pdf\", bbox_inches=\"tight\")"
   ]
  },
  {
   "cell_type": "code",
   "execution_count": null,
   "id": "f5185552-70cc-4953-8830-a33e0c8f6a1d",
   "metadata": {},
   "outputs": [],
   "source": []
  }
 ],
 "metadata": {
  "kernelspec": {
   "display_name": "yaw_env",
   "language": "python",
   "name": "yaw_env"
  },
  "language_info": {
   "codemirror_mode": {
    "name": "ipython",
    "version": 3
   },
   "file_extension": ".py",
   "mimetype": "text/x-python",
   "name": "python",
   "nbconvert_exporter": "python",
   "pygments_lexer": "ipython3",
   "version": "3.11.9"
  }
 },
 "nbformat": 4,
 "nbformat_minor": 5
}
