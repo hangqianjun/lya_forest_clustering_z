{
 "cells": [
  {
   "cell_type": "code",
   "execution_count": 1,
   "id": "45b8194c-abe1-41d4-985f-acf9922e5259",
   "metadata": {},
   "outputs": [],
   "source": [
    "import numpy as np\n",
    "import scipy\n",
    "import matplotlib.pyplot as plt\n",
    "#import pyccl as ccl\n",
    "import hankl"
   ]
  },
  {
   "cell_type": "code",
   "execution_count": 2,
   "id": "754fa551-0894-47ba-b789-35826fa054e9",
   "metadata": {},
   "outputs": [],
   "source": [
    "P_L_Mpc=np.loadtxt(\"P_L_Mpc.txt\")"
   ]
  },
  {
   "cell_type": "code",
   "execution_count": 3,
   "id": "62947126-9239-44c1-af9a-a2b099cce6aa",
   "metadata": {},
   "outputs": [],
   "source": [
    "k_Mpc=np.logspace(-4, 2, 2**12)\n",
    "z_p=3\n",
    "# smooth power with Gaussian for stability\n",
    "sig_Mpc=0.2"
   ]
  },
  {
   "cell_type": "code",
   "execution_count": 4,
   "id": "b6ce545c-f1d1-4178-a3fe-e856d294cbf2",
   "metadata": {},
   "outputs": [],
   "source": [
    "r_Mpc, xi_L_0 = hankl.P2xi(k_Mpc, P_L_Mpc, l=0)\n",
    "_, xi_L_2 = hankl.P2xi(k_Mpc, P_L_Mpc, l=2)\n",
    "_, xi_L_4 = hankl.P2xi(k_Mpc, P_L_Mpc, l=4)"
   ]
  },
  {
   "cell_type": "code",
   "execution_count": 7,
   "id": "a1920a32-cc65-44ec-acf4-f96a776ae6e1",
   "metadata": {},
   "outputs": [],
   "source": [
    "# grab only the real part and save them:\n",
    "np.savetxt(\"xi_L_0.txt\", np.c_[r_Mpc, xi_L_0.real])\n",
    "np.savetxt(\"xi_L_2.txt\", np.c_[r_Mpc, xi_L_2.real])\n",
    "np.savetxt(\"xi_L_4.txt\", np.c_[r_Mpc, xi_L_4.real])"
   ]
  },
  {
   "cell_type": "code",
   "execution_count": null,
   "id": "0f60fa90-5d12-456f-b733-af4af4738787",
   "metadata": {},
   "outputs": [],
   "source": []
  }
 ],
 "metadata": {
  "kernelspec": {
   "display_name": "yaw_env",
   "language": "python",
   "name": "yaw_env"
  },
  "language_info": {
   "codemirror_mode": {
    "name": "ipython",
    "version": 3
   },
   "file_extension": ".py",
   "mimetype": "text/x-python",
   "name": "python",
   "nbconvert_exporter": "python",
   "pygments_lexer": "ipython3",
   "version": "3.11.9"
  }
 },
 "nbformat": 4,
 "nbformat_minor": 5
}
