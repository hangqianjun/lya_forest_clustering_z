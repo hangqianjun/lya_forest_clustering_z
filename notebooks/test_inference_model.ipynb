{
 "cells": [
  {
   "cell_type": "code",
   "execution_count": 1,
   "id": "acbedcd1",
   "metadata": {},
   "outputs": [],
   "source": [
    "import pyccl as ccl\n",
    "\n",
    "cosmo = ccl.Cosmology(Omega_c=0.27, Omega_b=0.045, h=0.677, A_s=2.1e-9, n_s=0.9675,\n",
    "                      transfer_function='boltzmann_camb')"
   ]
  },
  {
   "cell_type": "code",
   "execution_count": 2,
   "id": "cfe2942e",
   "metadata": {},
   "outputs": [],
   "source": [
    "import numpy as np\n",
    "import pylab as pl\n",
    "#from astropy.cosmology import Planck18 as cosmo\n",
    "from scipy import interpolate\n",
    "import pickle\n",
    "from scipy.integrate import quad, dblquad\n",
    "import math"
   ]
  },
  {
   "cell_type": "code",
   "execution_count": 3,
   "id": "c7127794",
   "metadata": {},
   "outputs": [],
   "source": [
    "import sys\n",
    "sys.path.insert(0, \"/global/homes/q/qhang/desi/lya/codes/\")\n",
    "import lya_utils as lu"
   ]
  },
  {
   "cell_type": "markdown",
   "id": "c090eac0",
   "metadata": {},
   "source": [
    "# Functions & pre-loaded data\n",
    "\n",
    "Load pre-computed correlation functions; define functions to compute the double integrals"
   ]
  },
  {
   "cell_type": "code",
   "execution_count": 6,
   "id": "726511f2",
   "metadata": {},
   "outputs": [],
   "source": [
    "#def chi(z):\n",
    "#    return cosmo.comoving_distance(z)\n",
    "\n",
    "def r_3d_rp(rp,z1,z2):\n",
    "    return ((chi(z1)-chi(z2))**2+(rp)**2)**0.5\n",
    "\n",
    "def mu_rsd(z1,z2,r):\n",
    "    return (chi(z1)-chi(z2))/r\n",
    "\n",
    "#def ra_cosmo(z):\n",
    "#    return cosmo.comoving_transverse_distance(z)\n",
    "\n",
    "def ra_cosmo(z):\n",
    "    return(ccl.comoving_angular_distance(cosmo, 1/(1+z)))\n",
    "\n",
    "def chi(z):\n",
    "    return(ccl.comoving_radial_distance(cosmo, 1/(1+z)))\n",
    "\n",
    "def omega_m_z(z):\n",
    "    return ccl.background.omega_x(cosmo, 1/(1+z), 'matter')\n",
    "\n",
    "# logarithmic growth rate at a given redshift\n",
    "def f_z(z):\n",
    "    return ccl.growth_rate(cosmo,1/(1+z))\n",
    "\n",
    "# ratio of the linear growth factor at z and at z_p\n",
    "def D_z_p(z,z_p):\n",
    "    return ccl.growth_factor(cosmo,1/(1+z))/ccl.growth_factor(cosmo,1/(1+z_p))"
   ]
  },
  {
   "cell_type": "markdown",
   "id": "eba5d738",
   "metadata": {},
   "source": [
    "### Linear theory $\\xi$"
   ]
  },
  {
   "cell_type": "code",
   "execution_count": 7,
   "id": "60f545aa",
   "metadata": {},
   "outputs": [],
   "source": [
    "# now load the linear xi 0, 2, 4 here, construct interpolator as a func of r, z:\n",
    "#root = \"/export/donatello/qhang/nersc/qhang/desi/lya_forest_clustering_z/notebooks/\"\n",
    "root = \"./\"\n",
    "fin = np.loadtxt(root + \"xi_L_0.txt\")\n",
    "r_Mpc, xi_L_0 = fin[:,0], fin[:,1]\n",
    "\n",
    "fin = np.loadtxt(root + \"xi_L_2.txt\")\n",
    "xi_L_2 = fin[:,1]\n",
    "\n",
    "fin = np.loadtxt(root + \"xi_L_4.txt\")\n",
    "xi_L_4 = fin[:,1]\n",
    "\n",
    "# build interpolation functions\n",
    "xi_L_0 = interpolate.interp1d(r_Mpc, xi_L_0)\n",
    "xi_L_2 = interpolate.interp1d(r_Mpc, xi_L_2)\n",
    "xi_L_4 = interpolate.interp1d(r_Mpc, xi_L_4)"
   ]
  },
  {
   "cell_type": "code",
   "execution_count": 8,
   "id": "ea3bb977",
   "metadata": {},
   "outputs": [],
   "source": [
    "# linear rsd xi:\n",
    "def xi_rsd_lin(R,z,mu,beta,beta2=None,z_p=3):\n",
    "    \"\"\"Note beta is also a function of z, we will compute it later\n",
    "    \"\"\"\n",
    "    if beta2 == None:\n",
    "        beta2 = np.copy(beta)\n",
    "        \n",
    "    xi_0 = (1 + 1/3.*(beta + beta2) + 1/5.*beta*beta2)*xi_L_0(R)\n",
    "    xi_2 = (2/3.*(beta + beta2) + 4/7.*beta*beta2)*xi_L_2(R)\n",
    "    xi_4 = 8/35.*beta*beta2*xi_L_4(R)\n",
    "\n",
    "    P_0 = 1\n",
    "    P_2 = 1/2.*(3*mu**2-1)\n",
    "    P_4 = 1/8.*(35*mu**4 - 30*mu**2 + 3)\n",
    "\n",
    "    return (xi_0*P_0 + xi_2*P_2 + xi_4*P_4)*D_z_p(z,z_p)**2"
   ]
  },
  {
   "cell_type": "code",
   "execution_count": 9,
   "id": "6e8f1da0",
   "metadata": {},
   "outputs": [],
   "source": [
    "def xi_rsd_bg_lin(R,z,mu,beta_ref,bias_ref,z_p=3):\n",
    "    \"\"\"\n",
    "    This is the part that gets multiplied by bg(z).\n",
    "    We will make it explicit in bias and beta\n",
    "    \"\"\"\n",
    "\n",
    "    xi_0 = (1 + 1/3.*beta_ref)*xi_L_0(R)\n",
    "    xi_2 = (2/3.)*beta_ref*xi_L_2(R)\n",
    "    \n",
    "    P_0 = 1\n",
    "    P_2 = 1/2.*(3*mu**2-1)\n",
    "\n",
    "    return (xi_0*P_0 + xi_2*P_2)*D_z_p(z,z_p)**2*bias_ref\n",
    "\n",
    "def xi_rsd_fmu_lin(R,z,mu,f,beta_ref,bias_ref,z_p=3):\n",
    "    \"\"\"\n",
    "    This is the part that's independent of bg(z).\n",
    "    We will make it explicit in bias and beta\n",
    "    \"\"\"\n",
    "    \n",
    "    xi_0 = (1/3.*f + 1/5.*beta_ref*f)*xi_L_0(R)\n",
    "    xi_2 = (2/3.*f + 4/7.*beta_ref*f)*xi_L_2(R)\n",
    "    xi_4 = (8/35.*beta_ref*f)*xi_L_4(R)\n",
    "\n",
    "    P_0 = 1\n",
    "    P_2 = 1/2.*(3*mu**2-1)\n",
    "    P_4 = 1/8.*(35*mu**4 - 30*mu**2 + 3)\n",
    "\n",
    "    return (xi_0*P_0 + xi_2*P_2 + xi_4*P_4)*D_z_p(z,z_p)**2*bias_ref"
   ]
  },
  {
   "cell_type": "markdown",
   "id": "5d7b5f1e",
   "metadata": {},
   "source": [
    "### Non-linear theory  $\\xi$\n",
    "\n",
    "Two differences: \n",
    "1. Change to non-linear power\n",
    "2. Redshift depedence now interpolated (nearest neighbour) rather than explicit"
   ]
  },
  {
   "cell_type": "code",
   "execution_count": 10,
   "id": "76518d45",
   "metadata": {},
   "outputs": [],
   "source": [
    "# everything is essentially the same, except for now we use the non-linear power spectrum\n",
    "Zlist=[2.+k/200 for k in range(200)]\n",
    "R3d=np.logspace(-1.,2.5,num=40, endpoint=True, base=10.0, dtype=None, axis=0)\n",
    "\n",
    "# load stuff here:\n",
    "#root = \"/export/donatello/qhang/nersc/qhang/desi/lya_forest_clustering_z/notebooks/\"\n",
    "Xi_3d=np.loadtxt(root + 'xi3d_estimator_z2_3_logrm1_p2.5.txt',skiprows=0,unpack=True)\n",
    "Xi_3d=np.transpose(Xi_3d)\n",
    "\n",
    "XI_interp=[]\n",
    "for iz in range(len(Zlist)):\n",
    "    XI_interp.append(interpolate.interp1d(R3d, Xi_3d[iz]))\n",
    "\n",
    "Xi_3d_bar=np.loadtxt(root + 'xi3d_bar_estimator_z2_3_logrm1_p2.5.txt',skiprows=0,unpack=True)\n",
    "Xi_3d_bar=np.transpose(Xi_3d_bar)\n",
    "\n",
    "XI_bar_interp=[]\n",
    "for iz in range(len(Zlist)):\n",
    "    XI_bar_interp.append(interpolate.interp1d(R3d, Xi_3d_bar[iz]))\n",
    "    \n",
    "Xi_3d_barbar=np.loadtxt(root + 'xi3d_barbar_estimator_z2_3_logrm1_p2.5.txt',skiprows=0,unpack=True)\n",
    "Xi_3d_barbar=np.transpose(Xi_3d_barbar)\n",
    "\n",
    "XI_barbar_interp=[]\n",
    "for iz in range(len(Zlist)):\n",
    "    XI_barbar_interp.append(interpolate.interp1d(R3d, Xi_3d_barbar[iz]))"
   ]
  },
  {
   "cell_type": "code",
   "execution_count": 11,
   "id": "319ade79",
   "metadata": {},
   "outputs": [],
   "source": [
    "# now define the correlation function:\n",
    "def find_z(x):\n",
    "    arr=Zlist\n",
    "    ind_max=len(arr)\n",
    "    left, right = 0, ind_max - 1\n",
    "    while left <= right:\n",
    "        mid = (left + right) // 2\n",
    "        if arr[mid] < x:\n",
    "            left = mid + 1\n",
    "        else:\n",
    "            right = mid - 1\n",
    "    if left==ind_max:\n",
    "        return ind_max-1\n",
    "    return left"
   ]
  },
  {
   "cell_type": "code",
   "execution_count": 12,
   "id": "7d453a7b",
   "metadata": {},
   "outputs": [],
   "source": [
    "def xi_rsd_nlin(R,z,mu,beta,beta2=None):\n",
    "    \"\"\"Note beta is also a function of z, we will compute it later\n",
    "    \"\"\"\n",
    "    if beta2 == None:\n",
    "        beta2 = np.copy(beta)\n",
    "        \n",
    "    index_z=find_z(z) # find the best z-index for xi\n",
    "    \n",
    "    xi_r=XI_interp[index_z]\n",
    "    xi_0 = (1 + 1/3.*(beta + beta2) + 1/5.*beta*beta2)*xi_r(R)\n",
    "\n",
    "    xi_bar_r=XI_bar_interp[index_z]\n",
    "    xi_2 = (2/3.*(beta + beta2) + 4/7.*beta*beta2)*(xi_r(R) - xi_bar_r(R))\n",
    "\n",
    "    xi_barbar = XI_barbar_interp[index_z]\n",
    "    xi_4 = 8/35.*beta*beta2*(xi_r(R) + 5/2.*xi_bar_r(R) - 7/2.*xi_barbar(R))\n",
    "    \n",
    "    P_0 = 1\n",
    "    P_2 = 1/2.*(3*mu**2-1)\n",
    "    P_4 = 1/8.*(35*mu**4 - 30*mu**2 + 3)\n",
    "\n",
    "    return xi_0*P_0 + xi_2*P_2 + xi_4*P_4"
   ]
  },
  {
   "cell_type": "code",
   "execution_count": 13,
   "id": "549a2585",
   "metadata": {},
   "outputs": [],
   "source": [
    "def xi_rsd_bg_nlin(R,z,mu,beta_ref,bias_ref):\n",
    "    \"\"\"\n",
    "    This is the part that gets multiplied by bg(z).\n",
    "    We will make it explicit in bias and beta\n",
    "    \"\"\"\n",
    "    \n",
    "    index_z=find_z(z) # find the best z-index for xi\n",
    "    xi_r=XI_interp[index_z]\n",
    "    xi_bar_r=XI_bar_interp[index_z]\n",
    "\n",
    "    xi_0 = (1 + 1/3.*beta_ref)*xi_r(R)\n",
    "    xi_2 = (2/3.)*beta_ref*(xi_r(R) - xi_bar_r(R))\n",
    "    \n",
    "    P_0 = 1\n",
    "    P_2 = 1/2.*(3*mu**2-1)\n",
    "\n",
    "    return (xi_0*P_0 + xi_2*P_2)*bias_ref\n",
    "\n",
    "def xi_rsd_fmu_nlin(R,z,mu,f,beta_ref,bias_ref):\n",
    "    \"\"\"\n",
    "    This is the part that's independent of bg(z).\n",
    "    We will make it explicit in bias and beta\n",
    "    \"\"\"\n",
    "    \n",
    "    index_z=find_z(z) # find the best z-index for xi\n",
    "    xi_r=XI_interp[index_z]\n",
    "    xi_bar_r=XI_bar_interp[index_z]\n",
    "    xi_barbar = XI_barbar_interp[index_z]\n",
    "    \n",
    "    xi_0 = (1/3.*f + 1/5.*beta_ref*f)*xi_r(R)\n",
    "    xi_2 = (2/3.*f + 4/7.*beta_ref*f)*(xi_r(R) - xi_bar_r(R))\n",
    "    xi_4 = (8/35.*beta_ref*f)*(xi_r(R) + 5/2.*xi_bar_r(R) - 7/2.*xi_barbar(R))\n",
    "\n",
    "    P_0 = 1\n",
    "    P_2 = 1/2.*(3*mu**2-1)\n",
    "    P_4 = 1/8.*(35*mu**4 - 30*mu**2 + 3)\n",
    "\n",
    "    return (xi_0*P_0 + xi_2*P_2 + xi_4*P_4)*bias_ref"
   ]
  },
  {
   "cell_type": "markdown",
   "id": "26cb8ad3",
   "metadata": {},
   "source": [
    "### Assuming known $b_g(z)$ case"
   ]
  },
  {
   "cell_type": "code",
   "execution_count": 14,
   "id": "9d68bd56",
   "metadata": {},
   "outputs": [],
   "source": [
    "# this need to compute for each theta and each z centre\n",
    "def wsp_full_rsd_intz1(zgrid, nz_law_ref, zlim, theta_arcmin, \n",
    "                           beta_law_ref, beta_law_unk, bias_law_ref, bias_law_unk, linear=True):\n",
    "    \n",
    "    \"\"\"\n",
    "    This function returns the xi_RSD integrated over the reference redshift distribution, \n",
    "    at a fixed anglar scale, and at a fixed redshift zgrid for the unknown sample.\n",
    "    \n",
    "    Parameters:\n",
    "    - zgrid: fixed redshift for the unknown sample\n",
    "    - nz_law_ref: reference redshift distribution function of the reference sample\n",
    "    - zlim: integration limit for the reference sample, typically bin edges\n",
    "    - theta_arcmin: angular scale of the pair separation in arcmin\n",
    "    - beta_law_ref: beta(z) function of the refrence sample\n",
    "    - beta_law_unk: beta(z, bias) function of the unknown sample, takes also the bias function\n",
    "    - bias_law_ref: bias(z) function of the refrence sample\n",
    "    - bias_law_unk: bias(z) function of the unknon sample\n",
    "    - linear: Boolean, True = linear power spectrum, False = non linear power spectrum\n",
    "    \"\"\"\n",
    "    \n",
    "    zmin=zlim[0]\n",
    "    zmax=zlim[1]\n",
    "    \n",
    "    theta_deg=theta_arcmin/60\n",
    "    theta_rad=theta_deg/360*(2*math.pi)\n",
    "    \n",
    "    if linear == True:\n",
    "        xi_func = xi_rsd_lin\n",
    "        rlim=[0.01,1e4]\n",
    "    elif linear == False:\n",
    "        xi_func = xi_rsd_nlin\n",
    "        rlim=[0.11,300]\n",
    "    \n",
    "    def integrate_z2(z2):\n",
    "        zmean_pair = (zgrid + z2)/2.\n",
    "        \n",
    "        rp=theta_rad*ra_cosmo(zmean_pair) #from Mpc to rad, to deg\n",
    "        r=r_3d_rp(rp,zgrid,z2) # what is the r3d given our redshifts\n",
    "        mu = mu_rsd(zgrid,z2,r)\n",
    "\n",
    "        if r<rlim[0]:# not too small...\n",
    "            return 0\n",
    "        if r>rlim[1]:# not too large...\n",
    "            return 0\n",
    "        \n",
    "        beta1 = beta_law_unk(zgrid, bias_law_unk)\n",
    "        beta2 = beta_law_ref(z2)\n",
    "        nz_ref = nz_law_ref(z2)\n",
    "        xilin = xi_func(r,zmean_pair,mu,beta1,beta2=beta2)*nz_ref\n",
    "        return xilin*bias_law_unk(zgrid)*bias_law_ref(z2)\n",
    "        \n",
    "    return quad(integrate_z2, zmin, zmax, epsrel=10**(-3),epsabs=10**(-5),limit=100)[0]\n",
    "\n",
    "\n",
    "# this combines the theta for each z centre\n",
    "def w_theta_comb(w_theta_z, theta_edges, theta_weight_func, theta_weight_norm=True):\n",
    "    \"\"\"\n",
    "    w_theta_z: 1D or 2D array of w_theta. 1D = fixed z; 2D allows different z values along axis=1.\n",
    "    theta_egdes: bin edges to evaluate theta (typically lognormal bins)\n",
    "    theta_weight_func: computes the weights of each theta\n",
    "    theta_weight_norm: boolean to determine whether normalize the weight function, default is true.\n",
    "    \"\"\"\n",
    "    \n",
    "    Ntheta=len(theta_edges)-1\n",
    "    theta_bincen = (theta_edges[1:] + theta_edges[:-1])/2.\n",
    "    dtheta=np.array([theta_edges[i+1]-theta_edges[i] for i in range(Ntheta)])\n",
    "\n",
    "    weights = theta_weight_func(theta_bincen)\n",
    "    \n",
    "    if theta_weight_norm == True:\n",
    "        norm = sum(weights*dtheta)\n",
    "        weights = weights/norm\n",
    "        \n",
    "    if len(w_theta_z.shape) == 1:\n",
    "        w_comb = sum(w_theta_z*weights*dtheta)\n",
    "        \n",
    "    else:\n",
    "        # make sure w_theta_z has theta variation along axis = 0!\n",
    "        w_comb = np.sum(w_theta_z*weights[:,None]*dtheta[:,None],axis=0)\n",
    "    \n",
    "    return w_comb\n",
    "\n",
    "\n",
    "# this does the integral for the unknown n(z), and is what we will call in MCMC\n",
    "def wsp_full_rsd_intez2(w_z_func, nz_law_unk, zlim):\n",
    "    \"\"\"\n",
    "    w_z_func: the function that computes the wsp at various z of the unknown sample\n",
    "    nz_law_unk: unknown redshift distribution function\n",
    "    zlim: integration limit of the function\n",
    "    \"\"\"\n",
    "    \n",
    "    zmin = zlim[0]\n",
    "    zmax = zlim[1]\n",
    "    \n",
    "    def integrate_z2(z):\n",
    "        return nz_law_unk(z)*w_z_func(z)\n",
    "    \n",
    "    return quad(integrate_z2, zmin, zmax, epsrel=10**(-3),epsabs=10**(-5),limit=100)[0]"
   ]
  },
  {
   "cell_type": "markdown",
   "id": "bdb009bd",
   "metadata": {},
   "source": [
    "### Assuming unknown $b_g(z)$ test case"
   ]
  },
  {
   "cell_type": "code",
   "execution_count": 15,
   "id": "36ec1e59",
   "metadata": {},
   "outputs": [],
   "source": [
    "# this need to compute for each theta and each z centre\n",
    "def wsp_rsd_bg_intz1(zgrid, nz_law_ref, zlim, theta_arcmin, \n",
    "                           beta_law_ref, bias_law_ref, linear=True):\n",
    "    \n",
    "    \"\"\"\n",
    "    This function returns the xi_RSD integrated over the reference redshift distribution, \n",
    "    at a fixed anglar scale, and at a fixed redshift zgrid for the unknown sample,\n",
    "    for the xi_rsd_bg_lin function.\n",
    "    \n",
    "    Parameters:\n",
    "    - zgrid: fixed redshift for the unknown sample\n",
    "    - nz_law_ref: reference redshift distribution function of the reference sample\n",
    "    - zlim: integration limit for the reference sample, typically bin edges\n",
    "    - theta_arcmin: angular scale of the pair separation in arcmin\n",
    "    - beta_law_ref: beta(z) function of the refrence sample\n",
    "    - bias_law_ref: bias(z) function of the refrence sample\n",
    "    - linear: Boolean, True = linear power spectrum, False = non linear power spectrum\n",
    "    \"\"\"\n",
    "    \n",
    "    zmin=zlim[0]\n",
    "    zmax=zlim[1]\n",
    "    \n",
    "    theta_deg=theta_arcmin/60\n",
    "    theta_rad=theta_deg/360*(2*math.pi)\n",
    "    \n",
    "    if linear == True:\n",
    "        xi_func = xi_rsd_bg_lin\n",
    "        rlim=[0.01,1e4]\n",
    "    elif linear == False:\n",
    "        xi_func = xi_rsd_bg_nlin\n",
    "        rlim=[0.11,300]\n",
    "    \n",
    "    def integrate_z2(z2):\n",
    "        zmean_pair = (zgrid + z2)/2.\n",
    "        \n",
    "        rp=theta_rad*ra_cosmo(zmean_pair) #from Mpc to rad, to deg\n",
    "        r=r_3d_rp(rp,zgrid,z2) # what is the r3d given our redshifts\n",
    "        mu = mu_rsd(zgrid,z2,r)\n",
    "\n",
    "        if r<rlim[0]:# not too small...\n",
    "            return 0\n",
    "        if r>rlim[1]:# not too large...\n",
    "            return 0\n",
    "        \n",
    "        beta_ref = beta_law_ref(z2)\n",
    "        bias_ref = bias_law_ref(z2)\n",
    "        nz_ref = nz_law_ref(z2)\n",
    "        xilin = xi_func(r,zmean_pair,mu,beta_ref,bias_ref)*nz_ref\n",
    "        return xilin\n",
    "        \n",
    "    return quad(integrate_z2, zmin, zmax, epsrel=10**(-3),epsabs=10**(-5),limit=100)[0]\n",
    "\n",
    "\n",
    "def wsp_rsd_fmu_intz1(zgrid, nz_law_ref, zlim, theta_arcmin, \n",
    "                           beta_law_ref, bias_law_ref, linear=True):\n",
    "    \n",
    "    \"\"\"\n",
    "    This function returns the xi_RSD integrated over the reference redshift distribution, \n",
    "    at a fixed anglar scale, and at a fixed redshift zgrid for the unknown sample,\n",
    "    for the xi_rsd_bg_lin function.\n",
    "    \n",
    "    Parameters:\n",
    "    - zgrid: fixed redshift for the unknown sample\n",
    "    - nz_law_ref: reference redshift distribution function of the reference sample\n",
    "    - zlim: integration limit for the reference sample, typically bin edges\n",
    "    - theta_arcmin: angular scale of the pair separation in arcmin\n",
    "    - beta_law_ref: beta(z) function of the refrence sample\n",
    "    - bias_law_ref: bias(z) function of the refrence sample\n",
    "    - linear: Boolean, True = linear power spectrum, False = non linear power spectrum\n",
    "    \"\"\"\n",
    "    \n",
    "    zmin=zlim[0]\n",
    "    zmax=zlim[1]\n",
    "    \n",
    "    theta_deg=theta_arcmin/60\n",
    "    theta_rad=theta_deg/360*(2*math.pi)\n",
    "    \n",
    "    if linear == True:\n",
    "        xi_func = xi_rsd_fmu_lin\n",
    "        rlim=[0.01,1e4]\n",
    "    elif linear == False:\n",
    "        xi_func = xi_rsd_fmu_nlin\n",
    "        rlim=[0.11,300]\n",
    "    \n",
    "    def integrate_z2(z2):\n",
    "        zmean_pair = (zgrid + z2)/2.\n",
    "        \n",
    "        rp=theta_rad*ra_cosmo(zmean_pair) #from Mpc to rad, to deg\n",
    "        r=r_3d_rp(rp,zgrid,z2) # what is the r3d given our redshifts\n",
    "        mu = mu_rsd(zgrid,z2,r)\n",
    "\n",
    "        if r<rlim[0]:# not too small...\n",
    "            return 0\n",
    "        if r>rlim[1]:# not too large...\n",
    "            return 0\n",
    "        \n",
    "        beta_ref = beta_law_ref(z2)\n",
    "        bias_ref = bias_law_ref(z2)\n",
    "        nz_ref = nz_law_ref(z2)\n",
    "        f = ccl.growth_rate(cosmo,1/(1+z2)) # let's call ccl directly\n",
    "        xilin = xi_func(r,zmean_pair,mu,f,beta_ref,bias_ref)*nz_ref\n",
    "        return xilin\n",
    "        \n",
    "    return quad(integrate_z2, zmin, zmax, epsrel=10**(-3),epsabs=10**(-5),limit=100)[0]\n",
    "\n",
    "\n",
    "# this does the integral for the unknown n(z) AND bg(z), and is what we will call in MCMC\n",
    "def wsp_full_bg_rsd_intez2(w_z_func_bg, w_z_func_fmu, nz_law_unk, bias_law_unk, zlim):\n",
    "    \"\"\"\n",
    "    w_z_func: the function that computes the wsp at various z of the unknown sample\n",
    "    nz_law_unk: unknown redshift distribution function\n",
    "    zlim: integration limit of the function\n",
    "    \"\"\"\n",
    "    \n",
    "    zmin = zlim[0]\n",
    "    zmax = zlim[1]\n",
    "    \n",
    "    def integrate_z2(z):\n",
    "        return nz_law_unk(z)*bias_law_unk(z)*w_z_func_bg(z) + nz_law_unk(z)*w_z_func_fmu(z)\n",
    "    \n",
    "    return quad(integrate_z2, zmin, zmax, epsrel=10**(-3),epsabs=10**(-5),limit=100)[0]"
   ]
  },
  {
   "cell_type": "markdown",
   "id": "4653f260",
   "metadata": {},
   "source": [
    "## Load all the bias and beta laws below:"
   ]
  },
  {
   "cell_type": "code",
   "execution_count": 18,
   "id": "b9b95b7d",
   "metadata": {},
   "outputs": [],
   "source": [
    "# load all the bias laws etc.\n",
    "#root = \"/export/donatello/qhang/nersc/qhang/desi/lya_forest_clustering_z/\"\n",
    "root = \"./\"\n",
    "data=np.loadtxt(root + \"../bias_dc2.txt\")\n",
    "Z_bias,bias_model=data[:,0],data[:,1]\n",
    "bias_law_gal=interpolate.interp1d(Z_bias,bias_model,bounds_error=False,fill_value=\"extrapolate\")\n",
    "\n",
    "# Lya bias model:\n",
    "def bias_law_lya(z):\n",
    "    alpha = 2.9\n",
    "    bias_zref = -0.1352\n",
    "    zref = 2.33\n",
    "    factor = 0.906 # from lya auto-correlation fits\n",
    "    return bias_zref * ((1 + z)/(1 + zref))**alpha * factor\n",
    "\n",
    "\"\"\"\n",
    "# Lya beta model (need to fit quadratic)\n",
    "fin = np.loadtxt(\"beta_lya_dr16.txt\")\n",
    "x,y = fin[:,0], fin[:,1]\n",
    "p = np.polyfit(x,y,2)\n",
    "beta_law_lya = np.poly1d(p)\n",
    "\"\"\"\n",
    "\n",
    "def beta_law_gal(z, bias_law):\n",
    "    return omega_m_z(z)**0.55/bias_law(z)\n",
    "\n",
    "# wss, fixed beta\n",
    "def beta_law_lya_fixed(z):\n",
    "    return 1.53"
   ]
  },
  {
   "cell_type": "markdown",
   "id": "cd419254",
   "metadata": {},
   "source": [
    "## Some tests to see the integrand"
   ]
  },
  {
   "cell_type": "code",
   "execution_count": 20,
   "id": "b9391ced-8d12-4053-8ae1-8d9814aaef4a",
   "metadata": {},
   "outputs": [],
   "source": [
    "deltaz = 0.05 # reference redshift width\n",
    " # integral limit\n",
    "theta_arcmin = 10 # angular bins\n",
    "bias_law_ref = bias_law_lya\n",
    "beta_law_ref = beta_law_lya_fixed\n",
    "bias_law_unk = bias_law_gal\n",
    "beta_law_unk = beta_law_gal\n",
    "\n",
    "# do this on a z grid:\n",
    "meanz = np.array([2.1,2.5,2.8]) # reference mean redshift\n",
    "zgrid = np.linspace(1.8, 3.0, 100)"
   ]
  },
  {
   "cell_type": "code",
   "execution_count": null,
   "id": "a6c545d0-13ee-4e3c-bd46-7c21567796c4",
   "metadata": {},
   "outputs": [
    {
     "name": "stdout",
     "output_type": "stream",
     "text": [
      "2.1\n",
      "Working in 20\n",
      "Working in 40\n",
      "Working in 60\n",
      "Working in 80\n",
      "Working in 100\n",
      "2.5\n",
      "Working in 20\n",
      "Working in 40\n",
      "Working in 60\n",
      "Working in 80\n",
      "Working in 100\n",
      "2.8\n",
      "Working in 20\n",
      "Working in 40\n",
      "Working in 60\n",
      "Working in 80\n",
      "Working in 100\n"
     ]
    }
   ],
   "source": [
    "# we can get the range by \n",
    "wsp_int1 = np.zeros((len(zgrid), len(meanz)))\n",
    "\n",
    "for jj, z_ref in enumerate(meanz):\n",
    "    print(z_ref)\n",
    "    \n",
    "    # for now define it as a top hat, in reality it should be give by n_F(z), close to a top hat.\n",
    "    def nz_law_ref(z):\n",
    "        if (z>(z_ref-deltaz/2.))&(z<(z_ref+deltaz/2.)):\n",
    "            return 1/deltaz\n",
    "        else:\n",
    "            return 0\n",
    "    zlim = [z_ref-deltaz/2., z_ref+deltaz/2.]\n",
    "    \n",
    "    for ii, z_unk in enumerate(zgrid):\n",
    "        \n",
    "        if (ii+1)%20 == 0:\n",
    "            print(f\"Working in {ii+1}\")\n",
    "        \n",
    "        wsp_int1[ii, jj] = wsp_full_rsd_lin_intz1(z_unk, nz_law_ref, zlim, theta_arcmin, \n",
    "                               beta_law_ref, beta_law_unk, bias_law_ref, bias_law_unk)"
   ]
  },
  {
   "cell_type": "code",
   "execution_count": 107,
   "id": "9fc01d9d",
   "metadata": {},
   "outputs": [
    {
     "data": {
      "text/plain": [
       "<matplotlib.legend.Legend at 0x7f129f050e90>"
      ]
     },
     "execution_count": 107,
     "metadata": {},
     "output_type": "execute_result"
    },
    {
     "data": {
      "image/png": "[encoded data removed]",
      "text/plain": [
       "<Figure size 640x480 with 1 Axes>"
      ]
     },
     "metadata": {},
     "output_type": "display_data"
    }
   ],
   "source": [
    "pl.xlabel(\"$z$\")\n",
    "pl.ylabel(\"Integrand\")\n",
    "for jj, z_ref in enumerate(meanz):\n",
    "    pl.plot(zgrid, wsp_int1[:,jj], '.-',\n",
    "            label=f\"$\\\\theta=10$ arcmin, $z={z_ref}$, $\\\\Delta z=0.05$\")\n",
    "pl.legend()"
   ]
  },
  {
   "cell_type": "code",
   "execution_count": 110,
   "id": "bb459fa4",
   "metadata": {},
   "outputs": [
    {
     "name": "stdout",
     "output_type": "stream",
     "text": [
      "10\n",
      "Working in 20\n",
      "Working in 40\n",
      "Working in 60\n",
      "Working in 80\n",
      "Working in 100\n",
      "20\n",
      "Working in 20\n",
      "Working in 40\n",
      "Working in 60\n",
      "Working in 80\n",
      "Working in 100\n",
      "40\n",
      "Working in 20\n",
      "Working in 40\n",
      "Working in 60\n",
      "Working in 80\n",
      "Working in 100\n"
     ]
    }
   ],
   "source": [
    "# now also compute the dependence on theta:\n",
    "zmean = 2.5\n",
    "deltaz = 0.05 # reference redshift width\n",
    "# for now define it as a top hat, in reality it should be give by n_F(z), close to a top hat.\n",
    "def nz_law_ref(z):\n",
    "    if (z>(zmean-deltaz/2.))&(z<(zmean+deltaz/2.)):\n",
    "        return 1/deltaz\n",
    "    else:\n",
    "        return 0\n",
    "zlim = [zmean-deltaz/2., zmean+deltaz/2.]\n",
    "bias_law_ref = bias_law_lya\n",
    "beta_law_ref = beta_law_lya_fixed\n",
    "bias_law_unk = bias_law_gal\n",
    "beta_law_unk = beta_law_gal\n",
    "\n",
    "# do this on a z grid:\n",
    "theta_arcmin = np.array([10,20,40]) # angular bins\n",
    "zgrid = np.linspace(1.8, 3.0, 100)\n",
    "# we can get the range by \n",
    "wsp_int1 = np.zeros((len(zgrid), len(theta_arcmin)))\n",
    "\n",
    "for jj, theta in enumerate(theta_arcmin):\n",
    "    print(theta)\n",
    "\n",
    "    for ii, z_unk in enumerate(zgrid):\n",
    "        \n",
    "        if (ii+1)%20 == 0:\n",
    "            print(f\"Working in {ii+1}\")\n",
    "        \n",
    "        wsp_int1[ii, jj] = wsp_full_rsd_intz1(z_unk, nz_law_ref, zlim, theta, \n",
    "                               beta_law_ref, beta_law_unk, bias_law_ref, bias_law_unk, linear=True)"
   ]
  },
  {
   "cell_type": "code",
   "execution_count": 119,
   "id": "efd2a8cc",
   "metadata": {},
   "outputs": [],
   "source": [
    "# let's test code to combine the angular scales:\n",
    "w_theta_z = wsp_int1.T\n",
    "theta_edges = np.array([5,15,25,55])\n",
    "\n",
    "def theta_weight_func(theta):\n",
    "    return np.ones(len(theta))\n",
    "\n",
    "wsp_int1_thetacomb = w_theta_comb(w_theta_z, theta_edges, theta_weight_func, theta_weight_norm=True)"
   ]
  },
  {
   "cell_type": "code",
   "execution_count": 121,
   "id": "4f4ad35c",
   "metadata": {},
   "outputs": [
    {
     "data": {
      "text/plain": [
       "<matplotlib.legend.Legend at 0x7f129ed5ef50>"
      ]
     },
     "execution_count": 121,
     "metadata": {},
     "output_type": "execute_result"
    },
    {
     "data": {
      "image/png": "[encoded data removed]",
      "text/plain": [
       "<Figure size 640x480 with 1 Axes>"
      ]
     },
     "metadata": {},
     "output_type": "display_data"
    }
   ],
   "source": [
    "pl.xlabel(\"$z$\")\n",
    "pl.ylabel(\"Integrand\")\n",
    "for jj, theta in enumerate(theta_arcmin):\n",
    "    pl.plot(zgrid, wsp_int1[:,jj], '.-',\n",
    "            label=f\"$\\\\theta={theta}$ arcmin, $z=2.5$, $\\\\Delta z=0.05$\")\n",
    "    \n",
    "pl.plot(zgrid, wsp_int1_thetacomb, label=\"combined with $\\\\theta^{\\\\alpha}$ weighting and $\\\\alpha=0$\",color='k')\n",
    "pl.legend()"
   ]
  },
  {
   "cell_type": "code",
   "execution_count": null,
   "id": "2153b090",
   "metadata": {},
   "outputs": [],
   "source": []
  },
  {
   "cell_type": "code",
   "execution_count": null,
   "id": "0d2e0162",
   "metadata": {},
   "outputs": [],
   "source": []
  },
  {
   "cell_type": "code",
   "execution_count": null,
   "id": "52574aef",
   "metadata": {},
   "outputs": [],
   "source": []
  },
  {
   "cell_type": "code",
   "execution_count": null,
   "id": "707e11cd",
   "metadata": {},
   "outputs": [],
   "source": []
  },
  {
   "cell_type": "markdown",
   "id": "5155edef",
   "metadata": {},
   "source": [
    "# Pre-compute quantities and save them"
   ]
  },
  {
   "cell_type": "markdown",
   "id": "b9632176",
   "metadata": {},
   "source": [
    "## Linear theory \n",
    "\n",
    "### known $b_g(z)$"
   ]
  },
  {
   "cell_type": "code",
   "execution_count": 21,
   "id": "bf1f5fb8",
   "metadata": {},
   "outputs": [
    {
     "name": "stdout",
     "output_type": "stream",
     "text": [
      "2.025\n",
      "2.075\n",
      "2.125\n",
      "2.175\n",
      "2.225\n",
      "2.275\n",
      "2.325\n",
      "2.375\n",
      "2.425\n",
      "2.475\n",
      "2.525\n",
      "2.575\n",
      "2.625\n",
      "2.675\n",
      "2.725\n",
      "2.775\n",
      "2.825\n",
      "2.875\n",
      "2.925\n",
      "2.975\n"
     ]
    }
   ],
   "source": [
    "deltaz = 0.05 # reference redshift width\n",
    "\n",
    "bias_law_ref = bias_law_lya\n",
    "beta_law_ref = beta_law_lya_fixed\n",
    "bias_law_unk = bias_law_gal\n",
    "beta_law_unk = beta_law_gal\n",
    "\n",
    "# do this on a z grid:\n",
    "zbin_edges = np.linspace(2,3,21) # 20 bin case\n",
    "meanz = (zbin_edges[1:] + zbin_edges[:-1])/2. # reference mean redshift\n",
    "zgrid = np.linspace(1.8, 3.0, 100) # for the unknown sample\n",
    "theta_edges= np.logspace(np.log10(10),np.log10(30),11)\n",
    "theta_arcmin = (theta_edges[1:] + theta_edges[:-1])/2. # angular bins\n",
    "\n",
    "# we can get the range by \n",
    "wsp_int1 = np.zeros((len(zgrid), len(meanz), len(theta_arcmin)))\n",
    "\n",
    "for jj, z_ref in enumerate(meanz):\n",
    "    \n",
    "    print(z_ref)\n",
    "    \n",
    "    # for now define it as a top hat, in reality it should be give by n_F(z), close to a top hat.\n",
    "    def nz_law_ref(z):\n",
    "        if (z>(z_ref-deltaz/2.))&(z<(z_ref+deltaz/2.)):\n",
    "            return 1/deltaz\n",
    "        else:\n",
    "            return 0\n",
    "    zlim = [z_ref-deltaz/2., z_ref+deltaz/2.]\n",
    "    \n",
    "    for kk, theta in enumerate(theta_arcmin):\n",
    "    \n",
    "        for ii, z_unk in enumerate(zgrid):\n",
    "            \n",
    "            wsp_int1[ii, jj, kk] = wsp_full_rsd_intz1(z_unk, nz_law_ref, zlim, theta, \n",
    "                                   beta_law_ref, beta_law_unk, bias_law_ref, bias_law_unk, linear=True)"
   ]
  },
  {
   "cell_type": "code",
   "execution_count": 22,
   "id": "5a26982e",
   "metadata": {},
   "outputs": [
    {
     "name": "stdout",
     "output_type": "stream",
     "text": [
      "written impute ditionary: wsp_lin_int1_theta_10_30_arcmin_20zbin.pkl\n"
     ]
    },
    {
     "data": {
      "text/plain": [
       "0"
      ]
     },
     "execution_count": 22,
     "metadata": {},
     "output_type": "execute_result"
    }
   ],
   "source": [
    "# save wsp_int1\n",
    "out = {\n",
    "    \"wsp_int1\": wsp_int1,\n",
    "    \"zgrid\": zgrid,\n",
    "    \"zbin\": meanz,\n",
    "    \"thetabin\": theta_arcmin,\n",
    "}\n",
    "lu.dump_save(out, \"wsp_lin_int1_theta_10_30_arcmin_20zbin.pkl\")"
   ]
  },
  {
   "cell_type": "code",
   "execution_count": 23,
   "id": "ee25ff0f",
   "metadata": {},
   "outputs": [],
   "source": [
    "# let's now also combine the theta values and save the combined versions:\n",
    "\n",
    "def theta_weight_func(theta):\n",
    "    return np.ones(len(theta))\n",
    "\n",
    "wsp_int1_thetacomb = np.zeros((len(meanz), len(zgrid)))\n",
    "\n",
    "for jj, z_ref in enumerate(meanz):\n",
    "    w_theta_z = wsp_int1[:,jj,:].T\n",
    "    wsp_int1_thetacomb[jj,:] = w_theta_comb(w_theta_z, theta_edges, theta_weight_func, theta_weight_norm=True)"
   ]
  },
  {
   "cell_type": "code",
   "execution_count": 24,
   "id": "b0f797ba",
   "metadata": {},
   "outputs": [
    {
     "name": "stdout",
     "output_type": "stream",
     "text": [
      "written impute ditionary: wsp_lin_int1_theta_comb_20zbin.pkl\n"
     ]
    },
    {
     "data": {
      "text/plain": [
       "0"
      ]
     },
     "execution_count": 24,
     "metadata": {},
     "output_type": "execute_result"
    }
   ],
   "source": [
    "# save wsp_int1_thetacomb\n",
    "out = {\n",
    "    \"wsp_int1\": wsp_int1_thetacomb,\n",
    "    \"zgrid\": zgrid,\n",
    "    \"zbin\": meanz,\n",
    "    \"alpha\": 0,\n",
    "}\n",
    "lu.dump_save(out, \"wsp_lin_int1_theta_comb_20zbin.pkl\")"
   ]
  },
  {
   "cell_type": "markdown",
   "id": "a0ec94ea",
   "metadata": {},
   "source": [
    "### unknown $b_g(z)$"
   ]
  },
  {
   "cell_type": "code",
   "execution_count": 25,
   "id": "b31c6886",
   "metadata": {},
   "outputs": [
    {
     "name": "stdout",
     "output_type": "stream",
     "text": [
      "2.025\n",
      "2.075\n",
      "2.125\n",
      "2.175\n",
      "2.225\n",
      "2.275\n",
      "2.325\n",
      "2.375\n",
      "2.425\n",
      "2.475\n",
      "2.525\n",
      "2.575\n",
      "2.625\n",
      "2.675\n",
      "2.725\n",
      "2.775\n",
      "2.825\n",
      "2.875\n",
      "2.925\n",
      "2.975\n"
     ]
    }
   ],
   "source": [
    "deltaz = 0.05 # reference redshift width\n",
    "\n",
    "bias_law_ref = bias_law_lya\n",
    "beta_law_ref = beta_law_lya_fixed\n",
    "\n",
    "# do this on a z grid:\n",
    "zbin_edges = np.linspace(2,3,21) # 20 bin case\n",
    "meanz = (zbin_edges[1:] + zbin_edges[:-1])/2. # reference mean redshift\n",
    "zgrid = np.linspace(1.8, 3.0, 100) # for the unknown sample\n",
    "theta_edges= np.logspace(np.log10(10),np.log10(30),11)\n",
    "theta_arcmin = (theta_edges[1:] + theta_edges[:-1])/2. # angular bins\n",
    "\n",
    "# we can get the range by \n",
    "wsp_bg_int1 = np.zeros((len(zgrid), len(meanz), len(theta_arcmin)))\n",
    "wsp_fmu_int1 = np.zeros((len(zgrid), len(meanz), len(theta_arcmin)))\n",
    "\n",
    "for jj, z_ref in enumerate(meanz):\n",
    "    \n",
    "    print(z_ref)\n",
    "    \n",
    "    # for now define it as a top hat, in reality it should be give by n_F(z), close to a top hat.\n",
    "    def nz_law_ref(z):\n",
    "        if (z>(z_ref-deltaz/2.))&(z<(z_ref+deltaz/2.)):\n",
    "            return 1/deltaz\n",
    "        else:\n",
    "            return 0\n",
    "    zlim = [z_ref-deltaz/2., z_ref+deltaz/2.]\n",
    "    \n",
    "    for kk, theta in enumerate(theta_arcmin):\n",
    "    \n",
    "        for ii, z_unk in enumerate(zgrid):\n",
    "            \n",
    "            wsp_bg_int1[ii, jj, kk] = wsp_rsd_bg_intz1(z_unk, nz_law_ref, zlim, theta, \n",
    "                                   beta_law_ref, bias_law_ref, linear=True)\n",
    "            \n",
    "            wsp_fmu_int1[ii, jj, kk] = wsp_rsd_fmu_intz1(z_unk, nz_law_ref, zlim, theta, \n",
    "                                   beta_law_ref, bias_law_ref, linear=True)"
   ]
  },
  {
   "cell_type": "code",
   "execution_count": 26,
   "id": "53f9e81d",
   "metadata": {},
   "outputs": [
    {
     "name": "stdout",
     "output_type": "stream",
     "text": [
      "written impute ditionary: wsp_lin_bg_fmu_int1_theta_10_30_arcmin_20zbin.pkl\n"
     ]
    },
    {
     "data": {
      "text/plain": [
       "0"
      ]
     },
     "execution_count": 26,
     "metadata": {},
     "output_type": "execute_result"
    }
   ],
   "source": [
    "# save\n",
    "out = {\n",
    "    \"wsp_bg_int1\": wsp_bg_int1,\n",
    "    \"wsp_fmu_int1\": wsp_fmu_int1,\n",
    "    \"zgrid\": zgrid,\n",
    "    \"zbin\": meanz,\n",
    "    \"thetabin\": theta_arcmin,\n",
    "}\n",
    "lu.dump_save(out, \"wsp_lin_bg_fmu_int1_theta_10_30_arcmin_20zbin.pkl\")"
   ]
  },
  {
   "cell_type": "code",
   "execution_count": 27,
   "id": "65368c22",
   "metadata": {},
   "outputs": [],
   "source": [
    "# let's now also combine the theta values and save the combined versions:\n",
    "\n",
    "def theta_weight_func(theta):\n",
    "    return np.ones(len(theta))\n",
    "\n",
    "wsp_bg_int1_thetacomb = np.zeros((len(meanz), len(zgrid)))\n",
    "wsp_fmu_int1_thetacomb = np.zeros((len(meanz), len(zgrid)))\n",
    "\n",
    "for jj, z_ref in enumerate(meanz):\n",
    "    w_theta_z = wsp_bg_int1[:,jj,:].T\n",
    "    wsp_bg_int1_thetacomb[jj,:] = w_theta_comb(w_theta_z, theta_edges, theta_weight_func, theta_weight_norm=True)\n",
    "    \n",
    "    w_theta_z = wsp_fmu_int1[:,jj,:].T\n",
    "    wsp_fmu_int1_thetacomb[jj,:] = w_theta_comb(w_theta_z, theta_edges, theta_weight_func, theta_weight_norm=True)"
   ]
  },
  {
   "cell_type": "code",
   "execution_count": 28,
   "id": "ac230353",
   "metadata": {},
   "outputs": [
    {
     "name": "stdout",
     "output_type": "stream",
     "text": [
      "written impute ditionary: wsp_lin_bg_fmu_int1_theta_comb_20zbin.pkl\n"
     ]
    },
    {
     "data": {
      "text/plain": [
       "0"
      ]
     },
     "execution_count": 28,
     "metadata": {},
     "output_type": "execute_result"
    }
   ],
   "source": [
    "# save\n",
    "out = {\n",
    "    \"wsp_bg_int1\": wsp_bg_int1_thetacomb,\n",
    "    \"wsp_fmu_int1\": wsp_fmu_int1_thetacomb,\n",
    "    \"zgrid\": zgrid,\n",
    "    \"zbin\": meanz,\n",
    "}\n",
    "lu.dump_save(out, \"wsp_lin_bg_fmu_int1_theta_comb_20zbin.pkl\")"
   ]
  },
  {
   "cell_type": "markdown",
   "id": "025984aa",
   "metadata": {},
   "source": [
    "## Non-linear theory \n",
    "\n",
    "### known $b_g(z)$"
   ]
  },
  {
   "cell_type": "code",
   "execution_count": 29,
   "id": "18e221d6",
   "metadata": {},
   "outputs": [
    {
     "name": "stdout",
     "output_type": "stream",
     "text": [
      "2.025\n",
      "2.075\n",
      "2.125\n",
      "2.175\n",
      "2.225\n",
      "2.275\n",
      "2.325\n",
      "2.375\n",
      "2.425\n",
      "2.475\n",
      "2.525\n",
      "2.575\n",
      "2.625\n",
      "2.675\n",
      "2.725\n",
      "2.775\n",
      "2.825\n",
      "2.875\n",
      "2.925\n",
      "2.975\n"
     ]
    }
   ],
   "source": [
    "deltaz = 0.05 # reference redshift width\n",
    "\n",
    "bias_law_ref = bias_law_lya\n",
    "beta_law_ref = beta_law_lya_fixed\n",
    "bias_law_unk = bias_law_gal\n",
    "beta_law_unk = beta_law_gal\n",
    "\n",
    "# do this on a z grid:\n",
    "zbin_edges = np.linspace(2,3,21) # 20 bin case\n",
    "meanz = (zbin_edges[1:] + zbin_edges[:-1])/2. # reference mean redshift\n",
    "zgrid = np.linspace(1.8, 3.0, 100) # for the unknown sample\n",
    "theta_edges= np.logspace(np.log10(10),np.log10(30),11)\n",
    "theta_arcmin = (theta_edges[1:] + theta_edges[:-1])/2. # angular bins\n",
    "\n",
    "# we can get the range by \n",
    "wsp_int1 = np.zeros((len(zgrid), len(meanz), len(theta_arcmin)))\n",
    "\n",
    "for jj, z_ref in enumerate(meanz):\n",
    "    \n",
    "    print(z_ref)\n",
    "    \n",
    "    # for now define it as a top hat, in reality it should be give by n_F(z), close to a top hat.\n",
    "    def nz_law_ref(z):\n",
    "        if (z>(z_ref-deltaz/2.))&(z<(z_ref+deltaz/2.)):\n",
    "            return 1/deltaz\n",
    "        else:\n",
    "            return 0\n",
    "    zlim = [z_ref-deltaz/2., z_ref+deltaz/2.]\n",
    "    \n",
    "    for kk, theta in enumerate(theta_arcmin):\n",
    "    \n",
    "        for ii, z_unk in enumerate(zgrid):\n",
    "            \n",
    "            wsp_int1[ii, jj, kk] = wsp_full_rsd_intz1(z_unk, nz_law_ref, zlim, theta, \n",
    "                                   beta_law_ref, beta_law_unk, bias_law_ref, bias_law_unk, linear=False)"
   ]
  },
  {
   "cell_type": "code",
   "execution_count": 30,
   "id": "da1505bb",
   "metadata": {},
   "outputs": [
    {
     "name": "stdout",
     "output_type": "stream",
     "text": [
      "written impute ditionary: wsp_nlin_int1_theta_10_30_arcmin_20zbin.pkl\n"
     ]
    },
    {
     "data": {
      "text/plain": [
       "0"
      ]
     },
     "execution_count": 30,
     "metadata": {},
     "output_type": "execute_result"
    }
   ],
   "source": [
    "# save wsp_int1\n",
    "out = {\n",
    "    \"wsp_int1\": wsp_int1,\n",
    "    \"zgrid\": zgrid,\n",
    "    \"zbin\": meanz,\n",
    "    \"thetabin\": theta_arcmin,\n",
    "}\n",
    "lu.dump_save(out, \"wsp_nlin_int1_theta_10_30_arcmin_20zbin.pkl\")"
   ]
  },
  {
   "cell_type": "code",
   "execution_count": 31,
   "id": "efeade3b",
   "metadata": {},
   "outputs": [],
   "source": [
    "# let's now also combine the theta values and save the combined versions:\n",
    "\n",
    "def theta_weight_func(theta):\n",
    "    return np.ones(len(theta))\n",
    "\n",
    "wsp_int1_thetacomb = np.zeros((len(meanz), len(zgrid)))\n",
    "\n",
    "for jj, z_ref in enumerate(meanz):\n",
    "    w_theta_z = wsp_int1[:,jj,:].T\n",
    "    wsp_int1_thetacomb[jj,:] = w_theta_comb(w_theta_z, theta_edges, theta_weight_func, theta_weight_norm=True)"
   ]
  },
  {
   "cell_type": "code",
   "execution_count": 32,
   "id": "1c5e3f33",
   "metadata": {},
   "outputs": [
    {
     "name": "stdout",
     "output_type": "stream",
     "text": [
      "written impute ditionary: wsp_nlin_int1_theta_comb_20zbin.pkl\n"
     ]
    },
    {
     "data": {
      "text/plain": [
       "0"
      ]
     },
     "execution_count": 32,
     "metadata": {},
     "output_type": "execute_result"
    }
   ],
   "source": [
    "# save wsp_int1_thetacomb\n",
    "out = {\n",
    "    \"wsp_int1\": wsp_int1_thetacomb,\n",
    "    \"zgrid\": zgrid,\n",
    "    \"zbin\": meanz,\n",
    "    \"alpha\": 0,\n",
    "}\n",
    "lu.dump_save(out, \"wsp_nlin_int1_theta_comb_20zbin.pkl\")"
   ]
  },
  {
   "cell_type": "markdown",
   "id": "6c31a5d3",
   "metadata": {},
   "source": [
    "### unknown $b_g(z)$"
   ]
  },
  {
   "cell_type": "code",
   "execution_count": 33,
   "id": "8ccc0f3f",
   "metadata": {},
   "outputs": [
    {
     "name": "stdout",
     "output_type": "stream",
     "text": [
      "2.025\n",
      "2.075\n",
      "2.125\n",
      "2.175\n",
      "2.225\n",
      "2.275\n",
      "2.325\n",
      "2.375\n",
      "2.425\n",
      "2.475\n",
      "2.525\n",
      "2.575\n",
      "2.625\n",
      "2.675\n",
      "2.725\n",
      "2.775\n",
      "2.825\n",
      "2.875\n",
      "2.925\n",
      "2.975\n"
     ]
    }
   ],
   "source": [
    "deltaz = 0.05 # reference redshift width\n",
    "\n",
    "bias_law_ref = bias_law_lya\n",
    "beta_law_ref = beta_law_lya_fixed\n",
    "\n",
    "# do this on a z grid:\n",
    "zbin_edges = np.linspace(2,3,21) # 20 bin case\n",
    "meanz = (zbin_edges[1:] + zbin_edges[:-1])/2. # reference mean redshift\n",
    "zgrid = np.linspace(1.8, 3.0, 100) # for the unknown sample\n",
    "theta_edges= np.logspace(np.log10(10),np.log10(30),11)\n",
    "theta_arcmin = (theta_edges[1:] + theta_edges[:-1])/2. # angular bins\n",
    "\n",
    "# we can get the range by \n",
    "wsp_bg_int1 = np.zeros((len(zgrid), len(meanz), len(theta_arcmin)))\n",
    "wsp_fmu_int1 = np.zeros((len(zgrid), len(meanz), len(theta_arcmin)))\n",
    "\n",
    "for jj, z_ref in enumerate(meanz):\n",
    "    \n",
    "    print(z_ref)\n",
    "    \n",
    "    # for now define it as a top hat, in reality it should be give by n_F(z), close to a top hat.\n",
    "    def nz_law_ref(z):\n",
    "        if (z>(z_ref-deltaz/2.))&(z<(z_ref+deltaz/2.)):\n",
    "            return 1/deltaz\n",
    "        else:\n",
    "            return 0\n",
    "    zlim = [z_ref-deltaz/2., z_ref+deltaz/2.]\n",
    "    \n",
    "    for kk, theta in enumerate(theta_arcmin):\n",
    "    \n",
    "        for ii, z_unk in enumerate(zgrid):\n",
    "            \n",
    "            wsp_bg_int1[ii, jj, kk] = wsp_rsd_bg_intz1(z_unk, nz_law_ref, zlim, theta, \n",
    "                                   beta_law_ref, bias_law_ref, linear=False)\n",
    "            \n",
    "            wsp_fmu_int1[ii, jj, kk] = wsp_rsd_fmu_intz1(z_unk, nz_law_ref, zlim, theta, \n",
    "                                   beta_law_ref, bias_law_ref, linear=False)"
   ]
  },
  {
   "cell_type": "code",
   "execution_count": 34,
   "id": "2d12627e",
   "metadata": {},
   "outputs": [
    {
     "name": "stdout",
     "output_type": "stream",
     "text": [
      "written impute ditionary: wsp_nlin_bg_fmu_int1_theta_10_30_arcmin_20zbin.pkl\n"
     ]
    },
    {
     "data": {
      "text/plain": [
       "0"
      ]
     },
     "execution_count": 34,
     "metadata": {},
     "output_type": "execute_result"
    }
   ],
   "source": [
    "# save\n",
    "out = {\n",
    "    \"wsp_bg_int1\": wsp_bg_int1,\n",
    "    \"wsp_fmu_int1\": wsp_fmu_int1,\n",
    "    \"zgrid\": zgrid,\n",
    "    \"zbin\": meanz,\n",
    "    \"thetabin\": theta_arcmin,\n",
    "}\n",
    "lu.dump_save(out, \"wsp_nlin_bg_fmu_int1_theta_10_30_arcmin_20zbin.pkl\")"
   ]
  },
  {
   "cell_type": "code",
   "execution_count": 35,
   "id": "32b675dc",
   "metadata": {},
   "outputs": [],
   "source": [
    "# let's now also combine the theta values and save the combined versions:\n",
    "\n",
    "def theta_weight_func(theta):\n",
    "    return np.ones(len(theta))\n",
    "\n",
    "wsp_bg_int1_thetacomb = np.zeros((len(meanz), len(zgrid)))\n",
    "wsp_fmu_int1_thetacomb = np.zeros((len(meanz), len(zgrid)))\n",
    "\n",
    "for jj, z_ref in enumerate(meanz):\n",
    "    w_theta_z = wsp_bg_int1[:,jj,:].T\n",
    "    wsp_bg_int1_thetacomb[jj,:] = w_theta_comb(w_theta_z, theta_edges, theta_weight_func, theta_weight_norm=True)\n",
    "    \n",
    "    w_theta_z = wsp_fmu_int1[:,jj,:].T\n",
    "    wsp_fmu_int1_thetacomb[jj,:] = w_theta_comb(w_theta_z, theta_edges, theta_weight_func, theta_weight_norm=True)"
   ]
  },
  {
   "cell_type": "code",
   "execution_count": 36,
   "id": "65eebe5b",
   "metadata": {},
   "outputs": [
    {
     "name": "stdout",
     "output_type": "stream",
     "text": [
      "written impute ditionary: wsp_nlin_bg_fmu_int1_theta_comb_20zbin.pkl\n"
     ]
    },
    {
     "data": {
      "text/plain": [
       "0"
      ]
     },
     "execution_count": 36,
     "metadata": {},
     "output_type": "execute_result"
    }
   ],
   "source": [
    "# save\n",
    "out = {\n",
    "    \"wsp_bg_int1\": wsp_bg_int1_thetacomb,\n",
    "    \"wsp_fmu_int1\": wsp_fmu_int1_thetacomb,\n",
    "    \"zgrid\": zgrid,\n",
    "    \"zbin\": meanz,\n",
    "}\n",
    "lu.dump_save(out, \"wsp_nlin_bg_fmu_int1_theta_comb_20zbin.pkl\")"
   ]
  },
  {
   "cell_type": "code",
   "execution_count": null,
   "id": "1a268c51",
   "metadata": {},
   "outputs": [],
   "source": []
  },
  {
   "cell_type": "code",
   "execution_count": null,
   "id": "fb16bb79",
   "metadata": {},
   "outputs": [],
   "source": []
  },
  {
   "cell_type": "code",
   "execution_count": null,
   "id": "4fb7b67a",
   "metadata": {},
   "outputs": [],
   "source": []
  },
  {
   "cell_type": "markdown",
   "id": "c6243c0b",
   "metadata": {},
   "source": [
    "# Computations\n",
    "\n",
    "Let's try to recover the known cases:"
   ]
  },
  {
   "cell_type": "code",
   "execution_count": 32,
   "id": "c0a4d748",
   "metadata": {},
   "outputs": [],
   "source": [
    "# also load n(z) of galaxies here:\n",
    "fin = np.loadtxt(\"nz-gal-true-z1.8-3.0-all-boxes-40bin.txt\")\n",
    "# let's get interpolation function\n",
    "nz_law_gal = interpolate.interp1d(fin[:,0],fin[:,1],fill_value=0,bounds_error=False)"
   ]
  },
  {
   "cell_type": "markdown",
   "id": "c7cf9829",
   "metadata": {},
   "source": [
    "## Linear theory with known $b_g(z)$"
   ]
  },
  {
   "cell_type": "code",
   "execution_count": 38,
   "id": "c0ac8cbf",
   "metadata": {},
   "outputs": [],
   "source": [
    "# load the pre-computed functions:\n",
    "fin = lu.dump_load(\"wsp_lin_int1_theta_comb_20zbin.pkl\")\n",
    "wsp_int1_thetacomb = fin[\"wsp_int1\"]\n",
    "zgrid = fin[\"zgrid\"]\n",
    "meanz = fin[\"zbin\"]\n",
    "alpha = fin[\"alpha\"]"
   ]
  },
  {
   "cell_type": "code",
   "execution_count": 40,
   "id": "4b8ad318-1729-4c32-9c7d-5e63c5dda6d8",
   "metadata": {},
   "outputs": [],
   "source": [
    "np.savetxt(\"wsp_lin_int1_theta_comb_20zbin.wsp_int1.txt\", wsp_int1_thetacomb)\n",
    "np.savetxt(\"wsp_lin_int1_theta_comb_20zbin.zgrid.txt\", zgrid)\n",
    "np.savetxt(\"wsp_lin_int1_theta_comb_20zbin.zbin.txt\", meanz)"
   ]
  },
  {
   "cell_type": "code",
   "execution_count": 36,
   "id": "ca5626c9",
   "metadata": {},
   "outputs": [
    {
     "name": "stderr",
     "output_type": "stream",
     "text": [
      "/tmp/ipykernel_2570360/1864064068.py:98: IntegrationWarning: The integral is probably divergent, or slowly convergent.\n",
      "  return quad(integrate_z2, zmin, zmax, epsrel=10**(-3),epsabs=10**(-5),limit=100)[0]\n"
     ]
    }
   ],
   "source": [
    "# now we just need to evaluate the final integral:\n",
    "# let's just do numerical integral, as we have fine enough sampling:\n",
    "nz_law_unk = nz_law_gal\n",
    "zlim = [1.8,3.0]\n",
    "wsp_lin = np.zeros(len(meanz))\n",
    "\n",
    "for jj, z_ref in enumerate(meanz):\n",
    "    fw = wsp_int1_thetacomb[jj,:]\n",
    "    w_z_func = interpolate.interp1d(zgrid, fw)\n",
    "    wsp_lin[jj] = wsp_full_rsd_intez2(w_z_func, nz_law_unk, zlim)"
   ]
  },
  {
   "cell_type": "markdown",
   "id": "85f8068d",
   "metadata": {},
   "source": [
    "## Linear theory with unknown $b_g(z)$"
   ]
  },
  {
   "cell_type": "code",
   "execution_count": 48,
   "id": "bcfeea6b",
   "metadata": {},
   "outputs": [],
   "source": [
    "fin=lu.dump_load(\"wsp_lin_bg_fmu_int1_theta_comb_20zbin.pkl\")\n",
    "wsp_bg_int1_thetacomb=fin[\"wsp_bg_int1\"]\n",
    "wsp_fmu_int1_thetacomb=fin[\"wsp_fmu_int1\"]\n",
    "zgrid=fin[\"zgrid\"]\n",
    "meanz=fin[\"zbin\"]"
   ]
  },
  {
   "cell_type": "code",
   "execution_count": 49,
   "id": "b4d30eb9",
   "metadata": {},
   "outputs": [
    {
     "name": "stdout",
     "output_type": "stream",
     "text": [
      "CPU times: user 1.85 s, sys: 20.1 ms, total: 1.87 s\n",
      "Wall time: 1.85 s\n"
     ]
    }
   ],
   "source": [
    "%%time\n",
    "\n",
    "# now we just need to evaluate the final integral:\n",
    "# let's just do numerical integral, as we have fine enough sampling:\n",
    "nz_law_unk = nz_law_gal\n",
    "zlim = [1.8,3.0]\n",
    "bias_law_unk = bias_law_gal\n",
    "wsp_lin2 = np.zeros(len(meanz))\n",
    "\n",
    "for jj, z_ref in enumerate(meanz):\n",
    "    w_z_func_bg = interpolate.interp1d(zgrid, wsp_bg_int1_thetacomb[jj,:])\n",
    "    w_z_func_fmu = interpolate.interp1d(zgrid, wsp_fmu_int1_thetacomb[jj,:])\n",
    "    \n",
    "    wsp_lin2[jj] = wsp_full_bg_rsd_intez2(w_z_func_bg, w_z_func_fmu, nz_law_unk, bias_law_unk, zlim)"
   ]
  },
  {
   "cell_type": "markdown",
   "id": "ce4fb565",
   "metadata": {},
   "source": [
    "## Non-linear theory with known $b_g(z)$"
   ]
  },
  {
   "cell_type": "code",
   "execution_count": 90,
   "id": "91215716",
   "metadata": {},
   "outputs": [],
   "source": [
    "# load the pre-computed functions:\n",
    "fin = lu.dump_load(\"wsp_nlin_int1_theta_comb_20zbin.pkl\")\n",
    "wsp_int1_thetacomb = fin[\"wsp_int1\"]\n",
    "zgrid = fin[\"zgrid\"]\n",
    "meanz = fin[\"zbin\"]\n",
    "alpha = fin[\"alpha\"]"
   ]
  },
  {
   "cell_type": "code",
   "execution_count": 91,
   "id": "689dd2fc-c2d8-422f-b502-0bcf7530468f",
   "metadata": {},
   "outputs": [],
   "source": [
    "np.savetxt(\"wsp_nlin_int1_theta_comb_20zbin.wsp_int1.txt\", wsp_int1_thetacomb)\n",
    "np.savetxt(\"wsp_nlin_int1_theta_comb_20zbin.zgrid.txt\", zgrid)\n",
    "np.savetxt(\"wsp_nlin_int1_theta_comb_20zbin.zbin.txt\", meanz)"
   ]
  },
  {
   "cell_type": "code",
   "execution_count": 33,
   "id": "ec443646",
   "metadata": {},
   "outputs": [
    {
     "name": "stderr",
     "output_type": "stream",
     "text": [
      "/tmp/ipykernel_2570360/1864064068.py:98: IntegrationWarning: The integral is probably divergent, or slowly convergent.\n",
      "  return quad(integrate_z2, zmin, zmax, epsrel=10**(-3),epsabs=10**(-5),limit=100)[0]\n"
     ]
    }
   ],
   "source": [
    "# now we just need to evaluate the final integral:\n",
    "# let's just do numerical integral, as we have fine enough sampling:\n",
    "nz_law_unk = nz_law_gal\n",
    "zlim = [1.8,3.0]\n",
    "wsp_nlin = np.zeros(len(meanz))\n",
    "\n",
    "for jj, z_ref in enumerate(meanz):\n",
    "    fw = wsp_int1_thetacomb[jj,:]\n",
    "    w_z_func = interpolate.interp1d(zgrid, fw)\n",
    "    wsp_nlin[jj] = wsp_full_rsd_intez2(w_z_func, nz_law_unk, zlim)"
   ]
  },
  {
   "cell_type": "markdown",
   "id": "820e3aa3",
   "metadata": {},
   "source": [
    "## Non-linear theory with unknown $b_g(z)$"
   ]
  },
  {
   "cell_type": "code",
   "execution_count": 51,
   "id": "41a75a8e",
   "metadata": {},
   "outputs": [],
   "source": [
    "fin=lu.dump_load(\"wsp_nlin_bg_fmu_int1_theta_comb_20zbin.pkl\")\n",
    "wsp_bg_int1_thetacomb=fin[\"wsp_bg_int1\"]\n",
    "wsp_fmu_int1_thetacomb=fin[\"wsp_fmu_int1\"]\n",
    "zgrid=fin[\"zgrid\"]\n",
    "meanz=fin[\"zbin\"]"
   ]
  },
  {
   "cell_type": "code",
   "execution_count": 52,
   "id": "2eeb6661",
   "metadata": {},
   "outputs": [],
   "source": [
    "# now we just need to evaluate the final integral:\n",
    "# let's just do numerical integral, as we have fine enough sampling:\n",
    "nz_law_unk = nz_law_gal\n",
    "zlim = [1.8,3.0]\n",
    "bias_law_unk = bias_law_gal\n",
    "wsp_nlin2 = np.zeros(len(meanz))\n",
    "\n",
    "for jj, z_ref in enumerate(meanz):\n",
    "    w_z_func_bg = interpolate.interp1d(zgrid, wsp_bg_int1_thetacomb[jj,:])\n",
    "    w_z_func_fmu = interpolate.interp1d(zgrid, wsp_fmu_int1_thetacomb[jj,:])\n",
    "    \n",
    "    wsp_nlin2[jj] = wsp_full_bg_rsd_intez2(w_z_func_bg, w_z_func_fmu, nz_law_unk, bias_law_unk, zlim)"
   ]
  },
  {
   "cell_type": "markdown",
   "id": "3ee951d4",
   "metadata": {},
   "source": [
    "# Show some plots"
   ]
  },
  {
   "cell_type": "code",
   "execution_count": 54,
   "id": "f53fee53",
   "metadata": {},
   "outputs": [
    {
     "data": {
      "text/plain": [
       "<matplotlib.legend.Legend at 0x7f7216d743d0>"
      ]
     },
     "execution_count": 54,
     "metadata": {},
     "output_type": "execute_result"
    },
    {
     "data": {
      "image/png": "[encoded data removed]",
      "text/plain": [
       "<Figure size 640x480 with 1 Axes>"
      ]
     },
     "metadata": {},
     "output_type": "display_data"
    }
   ],
   "source": [
    "pl.plot(meanz, wsp_lin, label=\"Linear theory, known $b_g$\")\n",
    "pl.plot(meanz, wsp_lin2,'--', label=\"Linear theory, unknown $b_g$\")\n",
    "\n",
    "pl.plot(meanz, wsp_nlin, label=\"Non-linear theory, known $b_g$\")\n",
    "pl.plot(meanz, wsp_nlin2, '--', label=\"Non-linear theory, unknown $b_g$\")\n",
    "pl.legend()"
   ]
  },
  {
   "cell_type": "code",
   "execution_count": null,
   "id": "03509096",
   "metadata": {},
   "outputs": [],
   "source": [
    "# we can also check the theta-split plot:\n",
    "\n"
   ]
  },
  {
   "cell_type": "markdown",
   "id": "6d6184f2",
   "metadata": {},
   "source": [
    "# Inference\n",
    "\n",
    "We will set up a simple inference pipeline below:"
   ]
  },
  {
   "cell_type": "code",
   "execution_count": 37,
   "id": "5b7dc224",
   "metadata": {},
   "outputs": [],
   "source": [
    "import emcee"
   ]
  },
  {
   "cell_type": "code",
   "execution_count": 114,
   "id": "b2eaf808",
   "metadata": {},
   "outputs": [],
   "source": [
    "# set up a model for the n(z) of the unknown sample:\n",
    "# for now, let's just do a shift model on the true n(z):\n",
    "\n",
    "def log_likelihood(theta, x, y, cov):\n",
    "    shift_z = theta\n",
    "    def nz_law_unk(z):\n",
    "        return nz_law_gal(z+shift_z)\n",
    "    zlim = [1.8,3.0]\n",
    "    model = np.zeros(len(x))\n",
    "\n",
    "    for jj, z_ref in enumerate(x):\n",
    "        fw = wsp_int1_thetacomb[jj,:]\n",
    "        w_z_func = interpolate.interp1d(zgrid, fw)\n",
    "        model[jj] = wsp_full_rsd_intez2(w_z_func, nz_law_unk, zlim)\n",
    "        \n",
    "    invcov = np.linalg.inv(cov)\n",
    "    diff = model-y\n",
    "    return -0.5*np.dot(diff, np.matmul(invcov, diff))\n",
    "\n",
    "def log_prior(theta):\n",
    "    shift_z = theta\n",
    "    if (shift_z>-0.5) & (shift_z<0.5):\n",
    "        return 0\n",
    "    else:\n",
    "        return -np.inf\n",
    "    \n",
    "def log_probability(theta, x, y, cov):\n",
    "    lp = log_prior(theta)\n",
    "    if not np.isfinite(lp):\n",
    "        return -np.inf\n",
    "    return lp + log_likelihood(theta, x, y, cov)"
   ]
  },
  {
   "cell_type": "code",
   "execution_count": 59,
   "id": "2b0fe1f4",
   "metadata": {},
   "outputs": [],
   "source": [
    "# load data here:\n",
    "#root = \"/pscratch/sd/q/qhang/desi-lya/results/run-0/yaw-20bin/\"\n",
    "wsp_measure_old = np.loadtxt(\"w_sp-raw-thetacomb-alpha-0-min-10-max-30.txt\")"
   ]
  },
  {
   "cell_type": "code",
   "execution_count": 115,
   "id": "1249af71",
   "metadata": {},
   "outputs": [
    {
     "name": "stdout",
     "output_type": "stream",
     "text": [
      "(19, 19)\n"
     ]
    }
   ],
   "source": [
    "wsp_measure_old.shape\n",
    "\n",
    "data = wsp_measure_old[:-1,0]\n",
    "cov = np.cov(wsp_measure_old[:-1,2:])*64\n",
    "print(cov.shape)"
   ]
  },
  {
   "cell_type": "code",
   "execution_count": 112,
   "id": "db1c2e66",
   "metadata": {},
   "outputs": [],
   "source": [
    "shift_z = 0.1\n",
    "x = meanz[:-1]\n",
    "def nz_law_unk(z):\n",
    "    return nz_law_gal(z+shift_z)\n",
    "zlim = [1.8,3.0]\n",
    "model = np.zeros(len(x))\n",
    "\n",
    "for jj, z_ref in enumerate(x):\n",
    "    fw = wsp_int1_thetacomb[jj,:]\n",
    "    w_z_func = interpolate.interp1d(zgrid, fw)\n",
    "    model[jj] = wsp_full_rsd_intez2(w_z_func, nz_law_unk, zlim)"
   ]
  },
  {
   "cell_type": "code",
   "execution_count": 151,
   "id": "93760571",
   "metadata": {},
   "outputs": [
    {
     "data": {
      "text/plain": [
       "Text(0, 0.5, 'w_sp')"
      ]
     },
     "execution_count": 151,
     "metadata": {},
     "output_type": "execute_result"
    },
    {
     "data": {
      "image/png": "[encoded data removed]",
      "text/plain": [
       "<Figure size 640x480 with 1 Axes>"
      ]
     },
     "metadata": {},
     "output_type": "display_data"
    }
   ],
   "source": [
    "pl.errorbar(meanz[:-1], data, yerr=np.sqrt(np.diag(cov)),fmt='.',label=\"measured w_sp\",color='k')\n",
    "pl.plot(meanz[:-1], wsp_lin[:-1],label=\"thoery with unknown n(z)\")\n",
    "pl.plot(meanz[:-1], model,label=\"theory with unknown n(z + 0.1)\")\n",
    "pl.legend()\n",
    "pl.xlabel(\"z\")\n",
    "pl.ylabel(\"w_sp\")"
   ]
  },
  {
   "cell_type": "code",
   "execution_count": 69,
   "id": "802faea5",
   "metadata": {},
   "outputs": [],
   "source": [
    "def cov_to_corr(cov):\n",
    "    v = np.sqrt(np.diag(cov))\n",
    "    outer_v = np.outer(v, v)\n",
    "    correlation = cov / outer_v\n",
    "    correlation[cov == 0] = 0\n",
    "    return correlation"
   ]
  },
  {
   "cell_type": "code",
   "execution_count": 85,
   "id": "a58aa2dc",
   "metadata": {},
   "outputs": [
    {
     "data": {
      "text/plain": [
       "<matplotlib.colorbar.Colorbar at 0x7f7214582f50>"
      ]
     },
     "execution_count": 85,
     "metadata": {},
     "output_type": "execute_result"
    },
    {
     "data": {
      "image/png": "[encoded data removed]",
      "text/plain": [
       "<Figure size 640x480 with 2 Axes>"
      ]
     },
     "metadata": {},
     "output_type": "display_data"
    }
   ],
   "source": [
    "corr = cov_to_corr(cov)\n",
    "pl.imshow(corr)\n",
    "pl.colorbar()"
   ]
  },
  {
   "cell_type": "code",
   "execution_count": 134,
   "id": "987c89d7",
   "metadata": {},
   "outputs": [
    {
     "name": "stdout",
     "output_type": "stream",
     "text": [
      "24 CPUs\n"
     ]
    }
   ],
   "source": [
    "from multiprocessing import Pool\n",
    "from multiprocessing import cpu_count\n",
    "\n",
    "ncpu = cpu_count()\n",
    "print(\"{0} CPUs\".format(ncpu))"
   ]
  },
  {
   "cell_type": "code",
   "execution_count": 136,
   "id": "ec08a560",
   "metadata": {},
   "outputs": [
    {
     "name": "stdout",
     "output_type": "stream",
     "text": [
      "[[ 0.21983875]\n",
      " [-0.04620869]\n",
      " [-0.06017804]\n",
      " [-0.0999252 ]\n",
      " [ 0.06898719]\n",
      " [ 0.19537988]\n",
      " [ 0.05623382]\n",
      " [ 0.48811324]\n",
      " [-0.40949994]\n",
      " [ 0.25265875]]\n"
     ]
    }
   ],
   "source": [
    "nwalkers = 10\n",
    "ndim=1\n",
    "p0 = np.random.rand(nwalkers, ndim)-0.5\n",
    "print(p0)"
   ]
  },
  {
   "cell_type": "code",
   "execution_count": 138,
   "id": "6c68bc98",
   "metadata": {
    "scrolled": true
   },
   "outputs": [
    {
     "name": "stderr",
     "output_type": "stream",
     "text": [
      "/tmp/ipykernel_2570360/1864064068.py:98: IntegrationWarning: The integral is probably divergent, or slowly convergent.\n",
      "  return quad(integrate_z2, zmin, zmax, epsrel=10**(-3),epsabs=10**(-5),limit=100)[0]\n",
      "/tmp/ipykernel_2570360/1864064068.py:98: IntegrationWarning: The integral is probably divergent, or slowly convergent.\n",
      "  return quad(integrate_z2, zmin, zmax, epsrel=10**(-3),epsabs=10**(-5),limit=100)[0]\n",
      "/tmp/ipykernel_2570360/1864064068.py:98: IntegrationWarning: The integral is probably divergent, or slowly convergent.\n",
      "  return quad(integrate_z2, zmin, zmax, epsrel=10**(-3),epsabs=10**(-5),limit=100)[0]\n",
      "/tmp/ipykernel_2570360/1864064068.py:98: IntegrationWarning: The integral is probably divergent, or slowly convergent.\n",
      "  return quad(integrate_z2, zmin, zmax, epsrel=10**(-3),epsabs=10**(-5),limit=100)[0]\n",
      "/tmp/ipykernel_2570360/1864064068.py:98: IntegrationWarning: The integral is probably divergent, or slowly convergent.\n",
      "  return quad(integrate_z2, zmin, zmax, epsrel=10**(-3),epsabs=10**(-5),limit=100)[0]\n",
      "/tmp/ipykernel_2570360/1864064068.py:98: IntegrationWarning: The integral is probably divergent, or slowly convergent.\n",
      "  return quad(integrate_z2, zmin, zmax, epsrel=10**(-3),epsabs=10**(-5),limit=100)[0]\n",
      "/tmp/ipykernel_2570360/1864064068.py:98: IntegrationWarning: The integral is probably divergent, or slowly convergent.\n",
      "  return quad(integrate_z2, zmin, zmax, epsrel=10**(-3),epsabs=10**(-5),limit=100)[0]\n",
      "/tmp/ipykernel_2570360/1864064068.py:98: IntegrationWarning: The integral is probably divergent, or slowly convergent.\n",
      "  return quad(integrate_z2, zmin, zmax, epsrel=10**(-3),epsabs=10**(-5),limit=100)[0]\n",
      "/tmp/ipykernel_2570360/1864064068.py:98: IntegrationWarning: The integral is probably divergent, or slowly convergent.\n",
      "  return quad(integrate_z2, zmin, zmax, epsrel=10**(-3),epsabs=10**(-5),limit=100)[0]\n",
      "/tmp/ipykernel_2570360/1864064068.py:98: IntegrationWarning: The integral is probably divergent, or slowly convergent.\n",
      "  return quad(integrate_z2, zmin, zmax, epsrel=10**(-3),epsabs=10**(-5),limit=100)[0]\n",
      "/tmp/ipykernel_2570360/1864064068.py:98: IntegrationWarning: The integral is probably divergent, or slowly convergent.\n",
      "  return quad(integrate_z2, zmin, zmax, epsrel=10**(-3),epsabs=10**(-5),limit=100)[0]\n",
      "/tmp/ipykernel_2570360/1864064068.py:98: IntegrationWarning: The integral is probably divergent, or slowly convergent.\n",
      "  return quad(integrate_z2, zmin, zmax, epsrel=10**(-3),epsabs=10**(-5),limit=100)[0]\n",
      "/tmp/ipykernel_2570360/1864064068.py:98: IntegrationWarning: The integral is probably divergent, or slowly convergent.\n",
      "  return quad(integrate_z2, zmin, zmax, epsrel=10**(-3),epsabs=10**(-5),limit=100)[0]\n",
      "/tmp/ipykernel_2570360/1864064068.py:98: IntegrationWarning: The integral is probably divergent, or slowly convergent.\n",
      "  return quad(integrate_z2, zmin, zmax, epsrel=10**(-3),epsabs=10**(-5),limit=100)[0]\n",
      "/tmp/ipykernel_2570360/1864064068.py:98: IntegrationWarning: The integral is probably divergent, or slowly convergent.\n",
      "  return quad(integrate_z2, zmin, zmax, epsrel=10**(-3),epsabs=10**(-5),limit=100)[0]\n",
      "/tmp/ipykernel_2570360/1864064068.py:98: IntegrationWarning: The integral is probably divergent, or slowly convergent.\n",
      "  return quad(integrate_z2, zmin, zmax, epsrel=10**(-3),epsabs=10**(-5),limit=100)[0]\n",
      "/tmp/ipykernel_2570360/1864064068.py:98: IntegrationWarning: The integral is probably divergent, or slowly convergent.\n",
      "  return quad(integrate_z2, zmin, zmax, epsrel=10**(-3),epsabs=10**(-5),limit=100)[0]\n",
      "/tmp/ipykernel_2570360/1864064068.py:98: IntegrationWarning: The integral is probably divergent, or slowly convergent.\n",
      "  return quad(integrate_z2, zmin, zmax, epsrel=10**(-3),epsabs=10**(-5),limit=100)[0]\n",
      "/tmp/ipykernel_2570360/1864064068.py:98: IntegrationWarning: The integral is probably divergent, or slowly convergent.\n",
      "  return quad(integrate_z2, zmin, zmax, epsrel=10**(-3),epsabs=10**(-5),limit=100)[0]\n",
      "/tmp/ipykernel_2570360/1864064068.py:98: IntegrationWarning: The integral is probably divergent, or slowly convergent.\n",
      "  return quad(integrate_z2, zmin, zmax, epsrel=10**(-3),epsabs=10**(-5),limit=100)[0]\n",
      "/tmp/ipykernel_2570360/1864064068.py:98: IntegrationWarning: The integral is probably divergent, or slowly convergent.\n",
      "  return quad(integrate_z2, zmin, zmax, epsrel=10**(-3),epsabs=10**(-5),limit=100)[0]\n",
      "/tmp/ipykernel_2570360/1864064068.py:98: IntegrationWarning: The integral is probably divergent, or slowly convergent.\n",
      "  return quad(integrate_z2, zmin, zmax, epsrel=10**(-3),epsabs=10**(-5),limit=100)[0]\n",
      "/tmp/ipykernel_2570360/1864064068.py:98: IntegrationWarning: The integral is probably divergent, or slowly convergent.\n",
      "  return quad(integrate_z2, zmin, zmax, epsrel=10**(-3),epsabs=10**(-5),limit=100)[0]\n",
      "/tmp/ipykernel_2570360/1864064068.py:98: IntegrationWarning: The integral is probably divergent, or slowly convergent.\n",
      "  return quad(integrate_z2, zmin, zmax, epsrel=10**(-3),epsabs=10**(-5),limit=100)[0]\n"
     ]
    }
   ],
   "source": [
    "with Pool() as pool:\n",
    "    sampler = emcee.EnsembleSampler(nwalkers, ndim, log_probability, args=[meanz[:-1], data, cov], pool=pool)\n",
    "\n",
    "    #state = sampler.run_mcmc(p0, 100)\n",
    "    #sampler.reset()\n",
    "    \n",
    "    #print(\"Done reset.\")\n",
    "    sampler.run_mcmc(p0, 1000)"
   ]
  },
  {
   "cell_type": "code",
   "execution_count": 139,
   "id": "a65e5ee1",
   "metadata": {},
   "outputs": [],
   "source": [
    "samples = sampler.get_chain(flat=True)"
   ]
  },
  {
   "cell_type": "code",
   "execution_count": 140,
   "id": "3bcaf975",
   "metadata": {},
   "outputs": [
    {
     "data": {
      "text/plain": [
       "(10000, 1)"
      ]
     },
     "execution_count": 140,
     "metadata": {},
     "output_type": "execute_result"
    }
   ],
   "source": [
    "samples.shape"
   ]
  },
  {
   "cell_type": "code",
   "execution_count": 83,
   "id": "3ca4f096-6200-44d5-b562-4c25ffd57ec9",
   "metadata": {},
   "outputs": [
    {
     "name": "stdout",
     "output_type": "stream",
     "text": [
      "[27.18727079]\n",
      "burn-in: 54\n",
      "thin: 13\n",
      "flat chain shape: (7232, 1)\n",
      "flat log prob shape: (7232,)\n"
     ]
    },
    {
     "ename": "AttributeError",
     "evalue": "'NoneType' object has no attribute 'shape'",
     "output_type": "error",
     "traceback": [
      "\u001b[31m---------------------------------------------------------------------------\u001b[39m",
      "\u001b[31mAttributeError\u001b[39m                            Traceback (most recent call last)",
      "\u001b[36mCell\u001b[39m\u001b[36m \u001b[39m\u001b[32mIn[83]\u001b[39m\u001b[32m, line 18\u001b[39m\n\u001b[32m     16\u001b[39m \u001b[38;5;28mprint\u001b[39m(\u001b[33m\"\u001b[39m\u001b[33mflat chain shape: \u001b[39m\u001b[38;5;132;01m{0}\u001b[39;00m\u001b[33m\"\u001b[39m.format(samples.shape))\n\u001b[32m     17\u001b[39m \u001b[38;5;28mprint\u001b[39m(\u001b[33m\"\u001b[39m\u001b[33mflat log prob shape: \u001b[39m\u001b[38;5;132;01m{0}\u001b[39;00m\u001b[33m\"\u001b[39m.format(log_prob_samples.shape))\n\u001b[32m---> \u001b[39m\u001b[32m18\u001b[39m \u001b[38;5;28mprint\u001b[39m(\u001b[33m\"\u001b[39m\u001b[33mflat log prior shape: \u001b[39m\u001b[38;5;132;01m{0}\u001b[39;00m\u001b[33m\"\u001b[39m.format(\u001b[43mlog_prior_samples\u001b[49m\u001b[43m.\u001b[49m\u001b[43mshape\u001b[49m))\n",
      "\u001b[31mAttributeError\u001b[39m: 'NoneType' object has no attribute 'shape'"
     ]
    }
   ],
   "source": [
    "# let's load back the chains run on nersc:\n",
    "filename = \"/pscratch/sd/q/qhang/desi-lya/results-newbias/run-0/inference/linear_known_bg/chain.h5\"\n",
    "\n",
    "reader = emcee.backends.HDFBackend(filename)\n",
    "\n",
    "tau = reader.get_autocorr_time()\n",
    "print(tau)\n",
    "burnin = int(2 * np.max(tau))\n",
    "thin = int(0.5 * np.min(tau))\n",
    "samples = reader.get_chain(flat=True,discard=burnin,thin=thin)\n",
    "log_prob_samples = reader.get_log_prob(flat=True,discard=burnin,thin=thin)\n",
    "log_prior_samples = reader.get_blobs(flat=True,discard=burnin,thin=thin)\n",
    "\n",
    "print(\"burn-in: {0}\".format(burnin))\n",
    "print(\"thin: {0}\".format(thin))\n",
    "print(\"flat chain shape: {0}\".format(samples.shape))\n",
    "print(\"flat log prob shape: {0}\".format(log_prob_samples.shape))\n",
    "print(\"flat log prior shape: {0}\".format(log_prior_samples.shape))"
   ]
  },
  {
   "cell_type": "code",
   "execution_count": 93,
   "id": "bee5d3a3-f284-4aaa-a979-03b4d08a336e",
   "metadata": {},
   "outputs": [
    {
     "name": "stdout",
     "output_type": "stream",
     "text": [
      "[30.70118257]\n",
      "burn-in: 61\n",
      "thin: 15\n",
      "flat chain shape: (6240, 1)\n",
      "flat log prob shape: (6240,)\n"
     ]
    },
    {
     "ename": "AttributeError",
     "evalue": "'NoneType' object has no attribute 'shape'",
     "output_type": "error",
     "traceback": [
      "\u001b[31m---------------------------------------------------------------------------\u001b[39m",
      "\u001b[31mAttributeError\u001b[39m                            Traceback (most recent call last)",
      "\u001b[36mCell\u001b[39m\u001b[36m \u001b[39m\u001b[32mIn[93]\u001b[39m\u001b[32m, line 18\u001b[39m\n\u001b[32m     16\u001b[39m \u001b[38;5;28mprint\u001b[39m(\u001b[33m\"\u001b[39m\u001b[33mflat chain shape: \u001b[39m\u001b[38;5;132;01m{0}\u001b[39;00m\u001b[33m\"\u001b[39m.format(samples2.shape))\n\u001b[32m     17\u001b[39m \u001b[38;5;28mprint\u001b[39m(\u001b[33m\"\u001b[39m\u001b[33mflat log prob shape: \u001b[39m\u001b[38;5;132;01m{0}\u001b[39;00m\u001b[33m\"\u001b[39m.format(log_prob_samples.shape))\n\u001b[32m---> \u001b[39m\u001b[32m18\u001b[39m \u001b[38;5;28mprint\u001b[39m(\u001b[33m\"\u001b[39m\u001b[33mflat log prior shape: \u001b[39m\u001b[38;5;132;01m{0}\u001b[39;00m\u001b[33m\"\u001b[39m.format(\u001b[43mlog_prior_samples\u001b[49m\u001b[43m.\u001b[49m\u001b[43mshape\u001b[49m))\n",
      "\u001b[31mAttributeError\u001b[39m: 'NoneType' object has no attribute 'shape'"
     ]
    }
   ],
   "source": [
    "# let's load back the chains run on nersc:\n",
    "filename = \"/pscratch/sd/q/qhang/desi-lya/results-newbias/run-0/inference/nonlinear_known_bg/chain.h5\"\n",
    "\n",
    "reader = emcee.backends.HDFBackend(filename)\n",
    "\n",
    "tau = reader.get_autocorr_time()\n",
    "print(tau)\n",
    "burnin = int(2 * np.max(tau))\n",
    "thin = int(0.5 * np.min(tau))\n",
    "samples2 = reader.get_chain(flat=True,discard=burnin,thin=thin)\n",
    "log_prob_samples = reader.get_log_prob(flat=True,discard=burnin,thin=thin)\n",
    "log_prior_samples = reader.get_blobs(flat=True,discard=burnin,thin=thin)\n",
    "\n",
    "print(\"burn-in: {0}\".format(burnin))\n",
    "print(\"thin: {0}\".format(thin))\n",
    "print(\"flat chain shape: {0}\".format(samples2.shape))\n",
    "print(\"flat log prob shape: {0}\".format(log_prob_samples.shape))\n",
    "print(\"flat log prior shape: {0}\".format(log_prior_samples.shape))"
   ]
  },
  {
   "cell_type": "code",
   "execution_count": 106,
   "id": "3382734e",
   "metadata": {},
   "outputs": [
    {
     "data": {
      "text/plain": [
       "<matplotlib.legend.Legend at 0x7f6df58e78f0>"
      ]
     },
     "execution_count": 106,
     "metadata": {},
     "output_type": "execute_result"
    },
    {
     "data": {
      "image/png": "[encoded data removed]",
      "text/plain": [
       "<Figure size 640x480 with 1 Axes>"
      ]
     },
     "metadata": {},
     "output_type": "display_data"
    }
   ],
   "source": [
    "pl.hist(samples[:, 0], 100, range=[-0.5,0.5], color=\"k\", histtype=\"step\", label=\"linear theory\")\n",
    "mcmc = np.percentile(samples[:, i], [16, 50, 84])\n",
    "q = np.diff(mcmc)\n",
    "txt = \"$ \\\\delta_z = {0:.3f}_{{-{1:.3f}}}^{{+{2:.3f}}}$\"\n",
    "txt = txt.format(mcmc[1], q[0], q[1])\n",
    "pl.text(-0.4, 1200, txt)\n",
    "\n",
    "pl.hist(samples2[:, 0], 100, range=[-0.5,0.5], color=\"r\", histtype=\"step\", label=\"non-linear theory\")\n",
    "mcmc = np.percentile(samples2[:, i], [16, 50, 84])\n",
    "q = np.diff(mcmc)\n",
    "txt = \"$ \\\\delta_z = {0:.3f}_{{-{1:.3f}}}^{{+{2:.3f}}}$\"\n",
    "txt = txt.format(mcmc[1], q[0], q[1])\n",
    "pl.text(-0.4, 1000, txt, color='r')\n",
    "\n",
    "pl.xlabel(r\"shift parameter: $\\delta_z$\")\n",
    "pl.ylabel(r\"$p(\\delta_z)$\")\n",
    "pl.gca().set_yticks([]);\n",
    "pl.xlim([-0.5,0.5])\n",
    "pl.legend()\n"
   ]
  },
  {
   "cell_type": "code",
   "execution_count": 88,
   "id": "02e3c1ae-f243-4d64-9494-aed6bab632e0",
   "metadata": {},
   "outputs": [
    {
     "data": {
      "text/plain": [
       "[<matplotlib.lines.Line2D at 0x7f6df6159850>]"
      ]
     },
     "execution_count": 88,
     "metadata": {},
     "output_type": "execute_result"
    },
    {
     "data": {
      "image/png": "[encoded data removed]",
      "text/plain": [
       "<Figure size 1400x300 with 1 Axes>"
      ]
     },
     "metadata": {},
     "output_type": "display_data"
    }
   ],
   "source": [
    "pl.figure(figsize=[14,3])\n",
    "pl.plot(samples[:,0])"
   ]
  },
  {
   "cell_type": "code",
   "execution_count": 99,
   "id": "32a1f29c",
   "metadata": {
    "scrolled": true
   },
   "outputs": [
    {
     "name": "stderr",
     "output_type": "stream",
     "text": [
      "<>:2: SyntaxWarning: invalid escape sequence '\\d'\n",
      "<>:7: SyntaxWarning: invalid escape sequence '\\m'\n",
      "<>:13: SyntaxWarning: invalid escape sequence '\\m'\n",
      "<>:2: SyntaxWarning: invalid escape sequence '\\d'\n",
      "<>:7: SyntaxWarning: invalid escape sequence '\\m'\n",
      "<>:13: SyntaxWarning: invalid escape sequence '\\m'\n",
      "/tmp/ipykernel_2317430/3634069780.py:2: SyntaxWarning: invalid escape sequence '\\d'\n",
      "  labels=[\"\\delta z\"]\n",
      "/tmp/ipykernel_2317430/3634069780.py:7: SyntaxWarning: invalid escape sequence '\\m'\n",
      "  txt = \"\\mathrm{{{3}}} = {0:.3f}_{{-{1:.3f}}}^{{{2:.3f}}}\"\n",
      "/tmp/ipykernel_2317430/3634069780.py:13: SyntaxWarning: invalid escape sequence '\\m'\n",
      "  txt = \"\\mathrm{{{3}}} = {0:.3f}_{{-{1:.3f}}}^{{{2:.3f}}}\"\n"
     ]
    },
    {
     "data": {
      "text/latex": [
       "$\\displaystyle \\mathrm{\\delta z} = 0.025_{-0.022}^{0.026}$"
      ],
      "text/plain": [
       "<IPython.core.display.Math object>"
      ]
     },
     "metadata": {},
     "output_type": "display_data"
    },
    {
     "data": {
      "text/latex": [
       "$\\displaystyle \\mathrm{\\delta z} = 0.043_{-0.022}^{0.034}$"
      ],
      "text/plain": [
       "<IPython.core.display.Math object>"
      ]
     },
     "metadata": {},
     "output_type": "display_data"
    }
   ],
   "source": [
    "from IPython.display import display, Math\n",
    "labels=[\"\\delta z\"]\n",
    "ndim=1\n",
    "for i in range(ndim):\n",
    "    mcmc = np.percentile(samples[:, i], [16, 50, 84])\n",
    "    q = np.diff(mcmc)\n",
    "    txt = \"\\mathrm{{{3}}} = {0:.3f}_{{-{1:.3f}}}^{{{2:.3f}}}\"\n",
    "    txt = txt.format(mcmc[1], q[0], q[1], labels[i])\n",
    "    display(Math(txt))\n",
    "\n",
    "    mcmc = np.percentile(samples2[:, i], [16, 50, 84])\n",
    "    q = np.diff(mcmc)\n",
    "    txt = \"\\mathrm{{{3}}} = {0:.3f}_{{-{1:.3f}}}^{{{2:.3f}}}\"\n",
    "    txt = txt.format(mcmc[1], q[0], q[1], labels[i])\n",
    "    display(Math(txt))"
   ]
  },
  {
   "cell_type": "code",
   "execution_count": null,
   "id": "7d00d120-9e6b-4924-92ff-c6aba3cbfc59",
   "metadata": {},
   "outputs": [],
   "source": []
  }
 ],
 "metadata": {
  "kernelspec": {
   "display_name": "desc-python-bleed",
   "language": "python",
   "name": "desc-python-bleed"
  },
  "language_info": {
   "codemirror_mode": {
    "name": "ipython",
    "version": 3
   },
   "file_extension": ".py",
   "mimetype": "text/x-python",
   "name": "python",
   "nbconvert_exporter": "python",
   "pygments_lexer": "ipython3",
   "version": "3.12.10"
  }
 },
 "nbformat": 4,
 "nbformat_minor": 5
}
