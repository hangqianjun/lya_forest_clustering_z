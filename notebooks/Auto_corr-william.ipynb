{
 "cells": [
  {
   "cell_type": "code",
   "execution_count": 1,
   "id": "599c0620-b903-4b91-b3a2-85d34c6a400a",
   "metadata": {},
   "outputs": [],
   "source": [
    "#Computing\n",
    "from astropy.io import fits\n",
    "import numpy as np\n",
    "import math\n",
    "import treecorr\n",
    "import time\n",
    "import random\n",
    "#import pyccl as ccl\n",
    "import gc\n",
    "\n",
    "#for masks:\n",
    "#import healpy as hp\n",
    "#import h5py as h5\n",
    "#import healsparse as hs\n",
    "\n",
    "\n",
    "#for saving:\n",
    "import pickle\n",
    "\n",
    "#for ploting\n",
    "import matplotlib.pyplot as plt\n",
    "from matplotlib import rcParams\n",
    "from IPython.display import display, Math"
   ]
  },
  {
   "cell_type": "markdown",
   "id": "e9d69f48-11ed-4054-a51b-35d7b033a3a1",
   "metadata": {},
   "source": [
    "# data for test"
   ]
  },
  {
   "cell_type": "raw",
   "id": "b3ec7a47-a069-4d7f-a504-24dac3b84a5b",
   "metadata": {},
   "source": [
    "\"\"\"\n",
    "# eBOSS ELG\n",
    "\"\"\"\n",
    "\n",
    "# %%\n",
    "hdul=fits.open('/global/cfs/cdirs/des/william/BOSS_eBOSS/eBOSS_ELG_clustering_data-SGC-vDR16.fits')\n",
    "data=hdul[1].data\n",
    "#print(data.columns)\n",
    "ra_eboss_ELG_south=data['ra']\n",
    "dec_eboss_ELG_south=data['dec']\n",
    "z_eboss_ELG_south=data['z']\n",
    "weight_eboss_ELG_south_sys=data['WEIGHT_SYSTOT']\n",
    "weight_eboss_ELG_south_cp=data['WEIGHT_CP']\n",
    "weight_eboss_ELG_south_noz=data['WEIGHT_NOZ']\n",
    "weight_eboss_ELG_south=weight_eboss_ELG_south_sys*weight_eboss_ELG_south_cp*weight_eboss_ELG_south_noz\n",
    "\n",
    "# %%\n",
    "hdul=fits.open('/global/cfs/cdirs/des/william/BOSS_eBOSS/eBOSS_ELG_clustering_random-SGC-vDR16.fits')\n",
    "data=hdul[1].data\n",
    "#print(data.columns)\n",
    "ra_rand_eboss_ELG_south=data['ra']\n",
    "dec_rand_eboss_ELG_south=data['dec']\n",
    "z_rand_eboss_ELG_south=data['z']\n",
    "weight_rand_eboss_ELG_south_sys=data['WEIGHT_SYSTOT']\n",
    "weight_rand_eboss_ELG_south_cp=data['WEIGHT_CP']\n",
    "weight_rand_eboss_ELG_south_noz=data['WEIGHT_NOZ']\n",
    "weight_rand_eboss_ELG_south=weight_rand_eboss_ELG_south_sys*weight_rand_eboss_ELG_south_cp*weight_rand_eboss_ELG_south_noz\n",
    "\n",
    "\n"
   ]
  },
  {
   "cell_type": "code",
   "execution_count": 2,
   "id": "59f2a587-7824-4b2a-a1cc-8e1e8d382923",
   "metadata": {},
   "outputs": [],
   "source": [
    "# load the data photometric sample and the randoms:\n",
    "fin = fits.open('/pscratch/sd/q/qhang/desi-lya/results/run-0/catalogue/unknown-zmin-1.8-zmax-3.0.fits')\n",
    "ra = fin[1].data['RA']\n",
    "dec = fin[1].data['DEC']\n",
    "z = fin[1].data['Z']\n",
    "\n",
    "fin = fits.open('/pscratch/sd/q/qhang/desi-lya/random-catalogue-overlap-w-z.fits')\n",
    "ra_rand_use = fin[1].data['RA']\n",
    "dec_rand_use = fin[1].data['DeC']"
   ]
  },
  {
   "cell_type": "markdown",
   "id": "4cbe88ef-1321-48d2-ab69-72ff5d1b7ac3",
   "metadata": {},
   "source": [
    "# the function "
   ]
  },
  {
   "cell_type": "code",
   "execution_count": 3,
   "id": "f01e64e4-ce9a-491e-b617-84607c05d651",
   "metadata": {},
   "outputs": [],
   "source": [
    "def w_xx(sample_x, theta_range, z_range, Ntheta, Nz, Npatch, z_for_rand ,Eta_rand):\n",
    "    '''\n",
    "    Code to compute the auto-correlation of sample_x,\n",
    "    -------------------------------------\n",
    "    Outputs:\n",
    "    Wz: is a Nz x Nalpha array, where Nz is the number of z bins, and Nalpha the number of scale weighting\n",
    "    Thus Wz[iz][ialpha] is the value for wxx for the z-bin iz, and the scale weighting ialpha\n",
    "    \n",
    "    Err is a Nz x Nalpha uncertainty array associated to WZ.\n",
    "\n",
    "    Multi_cov is the Nz x Njkk x Nalpha array usefull to compute the full covariance!!\n",
    "\n",
    "    For std tests, use directly WZ and Err. Usually redshift covariance is negligible.\n",
    "    -------------------------------------\n",
    "    Inputs:\n",
    "    sample_x: name of the sample, the only option now is sample_x='photo' and 'eBOSS ELG'\n",
    "    \n",
    "    theta_range is an array = [theta_min,theta_max], with theta IN ARCMIN !!!!\n",
    "    z_for_rand is an array = [zmin,zmax]\n",
    "\n",
    "    Ntheta is the number of theta-bins (default use 10)\n",
    "    Nz is the number of z-bins\n",
    "    Npatch the number of Jkk patches to evaluate the cov\n",
    "    \n",
    "    z_for_rand==True means there are redshifts for randoms\n",
    "    Eta_rand is how many more randoms you want, to evaluate the DD/RR counts\n",
    "    -------------------------------------\n",
    "    '''\n",
    "    print('evaluate the auto-corr of ', sample_x)\n",
    "    print('for',z_range[0], '<z<',z_range[1],'  with ', Nz, ' bins')\n",
    "\n",
    "    zmin=z_range[0]\n",
    "    zmax=z_range[1]\n",
    "    dz=(zmax-zmin)/Nz\n",
    "    theta_min=theta_range[0]/60 # arcmin to degree\n",
    "    theta_max=theta_range[1]/60 # arcmin to degree\n",
    "    \n",
    "    # You can add other options, with another elif, eg with sample_x=='spec'\n",
    "    if sample_x=='photo':\n",
    "        ra_gal =ra\n",
    "        dec_gal =dec\n",
    "        z_gal = z\n",
    "        w_gal = np.array([1 for i in ra_gal]) #if you do have weights, replace this array\n",
    "        \n",
    "        ra_rand = ra_rand_use\n",
    "        dec_rand = dec_rand_use\n",
    "        w_rand =  np.array([1 for i in ra_rand])\n",
    "        if z_for_rand==True:\n",
    "            z_rand=z_rand_use\n",
    "    elif sample_x=='eBOSS ELG':\n",
    "        ra_gal =ra_eboss_ELG_south\n",
    "        dec_gal =dec_eboss_ELG_south\n",
    "        z_gal =z_eboss_ELG_south\n",
    "        w_gal =  weight_eboss_ELG_south#np.array([1 for i in ra_gal]) #if you do have weights, replace this array\n",
    "        \n",
    "        ra_rand =ra_rand_eboss_ELG_south\n",
    "        dec_rand =dec_rand_eboss_ELG_south\n",
    "        w_rand =  weight_rand_eboss_ELG_south\n",
    "        if z_for_rand==True:\n",
    "            z_rand=z_rand_eboss_ELG_south\n",
    "    else:\n",
    "        print('sample_x not included in the code')\n",
    "\n",
    "    print(len(ra_gal) ,' galaxies ')\n",
    "    print(len(ra_rand) ,'randoms ')\n",
    "\n",
    "    \n",
    "    Wz=[]\n",
    "    Cov=[]\n",
    "    Err=[]\n",
    "    Multi_cov=[]\n",
    "    \n",
    "    #create a catalog to have the Jkk patches\n",
    "    cat_patch = treecorr.Catalog(ra=ra_gal,dec=dec_gal,w=w_gal,ra_units='degrees',dec_units='degrees',npatch=Npatch)\n",
    "\n",
    "    for iz in range(Nz):\n",
    "        zmean_i=zmin+(iz+0.5)*dz\n",
    "        zmin_i=zmin+(iz)*dz\n",
    "        zmax_i=zmin+(iz+1)*dz\n",
    "\n",
    "        print('zi=',round(zmean_i,3),' dz=',round(dz,3))\n",
    "        \n",
    "        sel_gal_subbin=((z_gal>=zmin_i)&(z_gal<zmax_i))\n",
    "        cat_gal_subbin=treecorr.Catalog(ra=ra_gal[sel_gal_subbin],dec=dec_gal[sel_gal_subbin],w=w_gal[sel_gal_subbin],ra_units='degrees',dec_units='degrees',patch_centers=cat_patch.patch_centers)\n",
    "        \n",
    "\n",
    "        # Do we have z for randoms: \n",
    "        if z_for_rand==True:\n",
    "            sel_rand_subbin=((z_rand>=zmin_i)&(z_rand<zmax_i))\n",
    "        else:\n",
    "            sel_rand_subbin=np.array([True for r in ra_rand])\n",
    "        # Select Eta_rand more randoms than gal\n",
    "        Ntot=len(ra_rand[sel_rand_subbin])\n",
    "        Nrand=Eta_rand*len(ra_gal[sel_gal_subbin])\n",
    "        Index=random.choices(range(Ntot), k=Nrand)\n",
    "        \n",
    "        \n",
    "        ra_rand_select=ra_rand[sel_rand_subbin][Index]\n",
    "        dec_rand_select=dec_rand[sel_rand_subbin][Index]\n",
    "        w_rand_select=w_rand[sel_rand_subbin][Index]\n",
    "    \n",
    "        cat_rand_subbin=treecorr.Catalog(ra=ra_rand_select,dec=dec_rand_select,w=w_rand_select,ra_units='degrees',dec_units='degrees', patch_centers=cat_patch.patch_centers)\n",
    "    \n",
    "        wxx  = treecorr.NNCorrelation(min_sep=theta_min,max_sep=theta_max,nbins=Ntheta,var_method='jackknife',sep_units='degree',bin_slop=0.01)\n",
    "        rrxx = treecorr.NNCorrelation(min_sep=theta_min,max_sep=theta_max,nbins=Ntheta,var_method='jackknife',sep_units='degree',bin_slop=0.01)\n",
    "        drxx = treecorr.NNCorrelation(min_sep=theta_min,max_sep=theta_max,nbins=Ntheta,var_method='jackknife',sep_units='degree',bin_slop=0.01)\n",
    "\n",
    "        #Now I use r as a name instead of theta\n",
    "        rlist=wxx.rnom\n",
    "        redges=wxx.right_edges-wxx.left_edges\n",
    "        #print(rlist)\n",
    "        #print(redges)\n",
    "        def integ_wxx(w1):\n",
    "            '''\n",
    "            integrate w1 over theta, with different scales weighting, defined by List_alpha:\n",
    "            W(theta)=theta**alpha/norm\n",
    "            '''\n",
    "            List_alpha=[-1,0,1]\n",
    "            Results_alpha=[]\n",
    "            Noweight=w1\n",
    "            for alpha in  List_alpha:\n",
    "                w1b=0\n",
    "                norm=0\n",
    "                for ir in range(len(w1)):\n",
    "                    w1b+=w1[ir]*rlist[ir]**alpha*redges[ir]\n",
    "                    norm+=rlist[ir]**alpha*redges[ir]\n",
    "                Results_alpha.append(w1b/norm)\n",
    "\n",
    "            return np.array(Results_alpha)\n",
    "            \n",
    "            \n",
    "        rrxx.process(cat_rand_subbin,cat_rand_subbin)\n",
    "        drxx.process(cat_rand_subbin,cat_gal_subbin)\n",
    "        \n",
    "        wxx.process(cat_gal_subbin,cat_gal_subbin)\n",
    "        wxx.calculateXi(rr=rrxx,dr=drxx)\n",
    "         \n",
    "        my_funct = lambda corrs: integ_wxx(corrs[0].xi)\n",
    "        corrs = [wxx]\n",
    "            \n",
    "        ratio = my_funct(corrs)  \n",
    "        cov = treecorr.estimate_multi_cov(corrs, 'jackknife', func=my_funct)\n",
    "        multi_cov=treecorr.build_multi_cov_design_matrix(corrs,'jackknife', func=my_funct, comm=None)\n",
    "        \n",
    "        Wz.append(ratio)\n",
    "        Cov.append(cov)\n",
    "        Err.append([np.sqrt(cov[i][i]) for i in range(np.size(cov,0))])\n",
    "        Multi_cov.append(multi_cov[0])\n",
    "        \n",
    "        del(cat_gal_subbin)\n",
    "        del(cat_rand_subbin)\n",
    "        gc.collect()\n",
    "    return(Wz,Err,Multi_cov)\n",
    "\n",
    "    "
   ]
  },
  {
   "cell_type": "markdown",
   "id": "6e860ce9-de74-47ac-884a-7e006ef6ee5d",
   "metadata": {},
   "source": [
    "# Plots"
   ]
  },
  {
   "cell_type": "code",
   "execution_count": 4,
   "id": "85af435d-1a91-4918-96db-8e1b08c609f5",
   "metadata": {},
   "outputs": [
    {
     "name": "stdout",
     "output_type": "stream",
     "text": [
      "evaluate the auto-corr of  photo\n",
      "for 2 <z< 3   with  20  bins\n",
      "110938487  galaxies \n",
      "169985370 randoms \n",
      "zi= 2.025  dz= 0.05\n",
      "zi= 2.075  dz= 0.05\n",
      "zi= 2.125  dz= 0.05\n",
      "zi= 2.175  dz= 0.05\n",
      "zi= 2.225  dz= 0.05\n",
      "zi= 2.275  dz= 0.05\n",
      "zi= 2.325  dz= 0.05\n",
      "zi= 2.375  dz= 0.05\n",
      "zi= 2.425  dz= 0.05\n",
      "zi= 2.475  dz= 0.05\n",
      "zi= 2.525  dz= 0.05\n",
      "zi= 2.575  dz= 0.05\n",
      "zi= 2.625  dz= 0.05\n",
      "zi= 2.675  dz= 0.05\n",
      "zi= 2.725  dz= 0.05\n",
      "zi= 2.775  dz= 0.05\n",
      "zi= 2.825  dz= 0.05\n",
      "zi= 2.875  dz= 0.05\n",
      "zi= 2.925  dz= 0.05\n",
      "zi= 2.975  dz= 0.05\n"
     ]
    }
   ],
   "source": [
    "A0,B0,C0=w_xx(sample_x='photo', theta_range=[10,30], z_range=[2,3], Ntheta=1, Nz=20, Npatch=64, z_for_rand=False ,Eta_rand=5)"
   ]
  },
  {
   "cell_type": "code",
   "execution_count": 8,
   "id": "1ac7bca8-42b7-4a71-870a-24135a1c9537",
   "metadata": {},
   "outputs": [
    {
     "name": "stdout",
     "output_type": "stream",
     "text": [
      "evaluate the auto-corr of  photo\n",
      "for 2 <z< 3   with  40  bins\n",
      "110938487  galaxies \n",
      "169985370 randoms \n",
      "zi= 2.013  dz= 0.025\n",
      "zi= 2.038  dz= 0.025\n",
      "zi= 2.062  dz= 0.025\n",
      "zi= 2.087  dz= 0.025\n",
      "zi= 2.112  dz= 0.025\n",
      "zi= 2.138  dz= 0.025\n",
      "zi= 2.163  dz= 0.025\n",
      "zi= 2.188  dz= 0.025\n",
      "zi= 2.212  dz= 0.025\n",
      "zi= 2.237  dz= 0.025\n",
      "zi= 2.263  dz= 0.025\n",
      "zi= 2.288  dz= 0.025\n",
      "zi= 2.312  dz= 0.025\n",
      "zi= 2.337  dz= 0.025\n",
      "zi= 2.362  dz= 0.025\n",
      "zi= 2.388  dz= 0.025\n",
      "zi= 2.413  dz= 0.025\n",
      "zi= 2.438  dz= 0.025\n",
      "zi= 2.462  dz= 0.025\n",
      "zi= 2.487  dz= 0.025\n",
      "zi= 2.513  dz= 0.025\n",
      "zi= 2.538  dz= 0.025\n",
      "zi= 2.562  dz= 0.025\n",
      "zi= 2.587  dz= 0.025\n",
      "zi= 2.612  dz= 0.025\n",
      "zi= 2.638  dz= 0.025\n",
      "zi= 2.663  dz= 0.025\n",
      "zi= 2.688  dz= 0.025\n",
      "zi= 2.712  dz= 0.025\n",
      "zi= 2.737  dz= 0.025\n",
      "zi= 2.763  dz= 0.025\n",
      "zi= 2.788  dz= 0.025\n",
      "zi= 2.812  dz= 0.025\n",
      "zi= 2.837  dz= 0.025\n",
      "zi= 2.862  dz= 0.025\n",
      "zi= 2.888  dz= 0.025\n",
      "zi= 2.913  dz= 0.025\n",
      "zi= 2.938  dz= 0.025\n",
      "zi= 2.962  dz= 0.025\n",
      "zi= 2.987  dz= 0.025\n",
      "WARNING: Some patch numbers do not contain any objects!\n",
      "The following patch numbers have no objects: {0, 1, 3, 9, 11, 12, 14, 15, 16, 17, 18, 19, 20, 24, 27, 28, 30, 31, 35, 36, 37, 42, 43, 46, 47, 48, 51, 52, 53, 55}\n",
      "This may be a problem depending on your use case.\n"
     ]
    }
   ],
   "source": [
    "# let's also measure 40 bins:\n",
    "A1,B1,C1=w_xx(sample_x='photo', theta_range=[10,30], z_range=[2,3], Ntheta=1, Nz=40, Npatch=64, z_for_rand=False ,Eta_rand=5)"
   ]
  },
  {
   "cell_type": "raw",
   "id": "a1024e03-7dae-4785-832e-3b7c42a19bfb",
   "metadata": {},
   "source": [
    "A1,B1,C1=w_xx(sample_x='eBOSS ELG', theta_range=[1,10], z_range=[0.6,1], Ntheta=10, Nz=8, Npatch=100, z_for_rand=True ,Eta_rand=5)"
   ]
  },
  {
   "cell_type": "code",
   "execution_count": 20,
   "id": "df65a751-e25c-45b0-9a40-7c6f2e9ac476",
   "metadata": {},
   "outputs": [],
   "source": [
    "# load yaw measurements:\n",
    "yaw_20bin = np.loadtxt(\"mock0-wpp-20bins-baseline.txt\")\n",
    "yaw_40bin = np.loadtxt(\"mock0-wpp-40bins-baseline.txt\")"
   ]
  },
  {
   "cell_type": "code",
   "execution_count": 25,
   "id": "65f3fa19-40a7-4e51-a197-38a3fa417b1b",
   "metadata": {},
   "outputs": [
    {
     "data": {
      "text/plain": [
       "(0.0, 0.3)"
      ]
     },
     "execution_count": 25,
     "metadata": {},
     "output_type": "execute_result"
    },
    {
     "data": {
      "image/png": "[encoded data removed]",
      "text/plain": [
       "<Figure size 640x480 with 1 Axes>"
      ]
     },
     "metadata": {},
     "output_type": "display_data"
    }
   ],
   "source": [
    "ialpha=1\n",
    "plt.xlabel('Redshift')\n",
    "plt.ylabel(r'$w_{xx}(z)$')\n",
    "plt.errorbar([2.025+0.05*i for i in range(20)], [2*A0[i][ialpha] for i in range(20)],yerr=[2*B0[i][ialpha] for i in range(20)],marker='o',label='2*w_xx for dz=0.05')\n",
    "plt.errorbar([2.0125+0.025*i for i in range(40)], [A1[i][ialpha] for i in range(40)],yerr=[B1[i][ialpha] for i in range(40)],marker='o',label='w_xx for dz=0.025')\n",
    "\n",
    "# yaw:\n",
    "plt.errorbar(yaw_40bin[:,0], yaw_40bin[:,1], yerr=yaw_40bin[:,2],color='k')\n",
    "plt.errorbar(yaw_20bin[:,0], yaw_20bin[:,1]*2, yerr=yaw_20bin[:,2]*2,color='k',label=\"yaw results\")\n",
    "\n",
    "plt.legend()\n",
    "plt.ylim([0,0.3])"
   ]
  },
  {
   "cell_type": "code",
   "execution_count": 17,
   "id": "10732332-da4c-422c-a337-b816c26a8e27",
   "metadata": {},
   "outputs": [],
   "source": [
    "# save the results:\n",
    "np.savetxt(\"wpp-baseline-20bin-williams-code.txt\", np.c_[np.array([2.025+0.05*i for i in range(20)]),\n",
    "           np.array([A0[i][ialpha] for i in range(20)]),np.array([B0[i][ialpha] for i in range(20)])])"
   ]
  },
  {
   "cell_type": "code",
   "execution_count": 19,
   "id": "0a1edd1c-b338-4ccc-9bd7-9f8888f894e0",
   "metadata": {},
   "outputs": [],
   "source": [
    "# save the results:\n",
    "np.savetxt(\"wpp-baseline-40bin-williams-code.txt\", np.c_[np.array([2.0125+0.025*i for i in range(40)]),\n",
    "           np.array([A1[i][ialpha] for i in range(40)]),np.array([B1[i][ialpha] for i in range(40)])])"
   ]
  },
  {
   "cell_type": "markdown",
   "id": "e65ee69c-a4cf-4ed1-bd8d-4e966c79a401",
   "metadata": {},
   "source": [
    "### this is how to compute the redshift-covariance matrix from multi_cov returned by the cov...."
   ]
  },
  {
   "cell_type": "code",
   "execution_count": 106,
   "id": "3cd3771a-e6e1-4da1-bd01-e5d39ad17acf",
   "metadata": {},
   "outputs": [],
   "source": [
    "Nz=8\n",
    "Nalpha=3\n",
    "Njkk=100\n",
    "\n",
    "C_mat=C1\n",
    "w_wz1=[]\n",
    "Cov_wz1=[]\n",
    "Err_wz1=[]\n",
    "for ialpha in range(Nalpha):\n",
    "    D0=np.array([[C_mat[iz][jk][ialpha] for jk in range(Njkk)]for iz in range(Nz)],dtype=np.float64)\n",
    "\n",
    "    w_wz1.append(np.array([1/Njkk*np.sum(D0[jz]) for jz in range(Nz)],np.float64))\n",
    "    Cov_wz1.append(np.array([[ ( Njkk-1)/Njkk* np.sum((D0[imat] - w_wz1[ialpha][imat]) * (D0[jmat] - w_wz1[ialpha][jmat])) for jmat in range(Nz)] for imat in range(Nz)],np.float64))    \n",
    "    Err_wz1.append([np.sqrt(Cov_wz1[ialpha][i][i]) for i in range(Nz)])\n",
    "    "
   ]
  },
  {
   "cell_type": "code",
   "execution_count": 107,
   "id": "05ab75f1-cac2-4c0c-ad3a-e63f8ba8f774",
   "metadata": {},
   "outputs": [
    {
     "name": "stdout",
     "output_type": "stream",
     "text": [
      "(3, 8)\n",
      "(3, 8, 8)\n"
     ]
    }
   ],
   "source": [
    "#first dim in Nalpha, then Nz\n",
    "print(np.shape(w_wz1))\n",
    "print(np.shape(Cov_wz1))"
   ]
  },
  {
   "cell_type": "code",
   "execution_count": null,
   "id": "578d3e3d-1f80-4f2d-bf60-7908049272b9",
   "metadata": {},
   "outputs": [],
   "source": []
  },
  {
   "cell_type": "code",
   "execution_count": null,
   "id": "bd8cc995-de92-4fb5-ad2d-be5cfdea04a9",
   "metadata": {},
   "outputs": [],
   "source": []
  },
  {
   "cell_type": "code",
   "execution_count": null,
   "id": "60f79161-7ef0-4706-90a9-e067008e2a88",
   "metadata": {},
   "outputs": [],
   "source": []
  },
  {
   "cell_type": "code",
   "execution_count": null,
   "id": "8be02a9c-df9a-4263-abc6-e3a707c48794",
   "metadata": {},
   "outputs": [],
   "source": []
  }
 ],
 "metadata": {
  "kernelspec": {
   "display_name": "yaw_env",
   "language": "python",
   "name": "yaw_env"
  },
  "language_info": {
   "codemirror_mode": {
    "name": "ipython",
    "version": 3
   },
   "file_extension": ".py",
   "mimetype": "text/x-python",
   "name": "python",
   "nbconvert_exporter": "python",
   "pygments_lexer": "ipython3",
   "version": "3.11.9"
  }
 },
 "nbformat": 4,
 "nbformat_minor": 5
}
