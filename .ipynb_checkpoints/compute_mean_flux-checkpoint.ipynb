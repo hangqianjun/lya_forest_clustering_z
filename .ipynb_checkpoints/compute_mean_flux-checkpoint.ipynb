{
 "cells": [
  {
   "cell_type": "markdown",
   "id": "7e2d33d5-d734-4b65-a001-ed9d85ca38d8",
   "metadata": {
    "tags": []
   },
   "source": [
    "# Using Lyman alpha skewers"
   ]
  },
  {
   "cell_type": "code",
   "execution_count": 1,
   "id": "47c6144b-f1a9-45f6-bad0-0f1137754393",
   "metadata": {
    "tags": []
   },
   "outputs": [],
   "source": [
    "%matplotlib inline\n",
    "import matplotlib.pyplot as plt\n",
    "import numpy as np\n",
    "from astropy.io import fits"
   ]
  },
  {
   "cell_type": "code",
   "execution_count": 2,
   "id": "3444244d-9047-4c3d-89ea-c7f1ed061693",
   "metadata": {
    "tags": []
   },
   "outputs": [],
   "source": [
    "# Note that this is only one of thousands of files\n",
    "hdu=fits.open('/global/cfs/cdirs/desicollab/users/lauracdp/photo-z_box/skewers/output_files/13/1375/transmission-16-1375.fits.gz')"
   ]
  },
  {
   "cell_type": "code",
   "execution_count": 3,
   "id": "f6abaa7d-7ad6-4517-bdd2-4a3a87d7cb0d",
   "metadata": {
    "tags": []
   },
   "outputs": [
    {
     "name": "stdout",
     "output_type": "stream",
     "text": [
      "2163 quasars in the redshfit range\n",
      "1.799 < z_q < 2.981\n"
     ]
    }
   ],
   "source": [
    "# metadata for the quasars\n",
    "ra=hdu[1].data['RA']\n",
    "dec=hdu[1].data['DEC']\n",
    "zq=hdu[1].data['Z']\n",
    "print('{} quasars in the redshfit range'.format(len(zq)))\n",
    "print('{:.3f} < z_q < {:.3f}'.format(min(zq),max(zq)))"
   ]
  },
  {
   "cell_type": "code",
   "execution_count": 4,
   "id": "b78a9cf2-40bf-4d1a-8ef3-d7b9fc472df5",
   "metadata": {
    "tags": []
   },
   "outputs": [
    {
     "name": "stdout",
     "output_type": "stream",
     "text": [
      "15150 pixels in the range\n",
      "3470.00 < lambda_obs < 6499.80\n"
     ]
    }
   ],
   "source": [
    "# wavelength grid for all the skewers (Angstroms)\n",
    "wave=hdu[2].data\n",
    "print('{} pixels in the range'.format(len(wave)))\n",
    "print('{:.2f} < lambda_obs < {:.2f}'.format(wave[0],wave[-1]))"
   ]
  },
  {
   "cell_type": "code",
   "execution_count": 5,
   "id": "b4d6afba-a48d-4c41-b9f4-82a0ea042d21",
   "metadata": {
    "tags": []
   },
   "outputs": [
    {
     "name": "stdout",
     "output_type": "stream",
     "text": [
      "(2163, 15150)\n"
     ]
    }
   ],
   "source": [
    "# transmitted flux fraction F for each pixel in each skewer\n",
    "F=hdu['F_LYA'].data\n",
    "print(F.shape)"
   ]
  },
  {
   "cell_type": "code",
   "execution_count": 6,
   "id": "4f27edc4-58df-4f7f-ae1b-98fe24df5c3d",
   "metadata": {},
   "outputs": [],
   "source": [
    "# figure out a mask to limit the wavelength range to use for each quasar\n",
    "lambda_rf_min=1040\n",
    "lambda_rf_max=1200\n",
    "in_forest=np.empty(F.shape, dtype=bool)\n",
    "# this could be faster, but this should be clearer?\n",
    "for iq in range(len(zq)):\n",
    "    lambda_obs_min=lambda_rf_min*(1+zq[iq])\n",
    "    lambda_obs_max=lambda_rf_max*(1+zq[iq])\n",
    "    in_forest[iq]=np.logical_and(wave > lambda_obs_min, wave < lambda_obs_max)"
   ]
  },
  {
   "cell_type": "code",
   "execution_count": 7,
   "id": "f63c7084-d63a-4e0b-917a-4ae1da6786c2",
   "metadata": {
    "tags": []
   },
   "outputs": [],
   "source": [
    "# compute mean flux using only pixels within the forest\n",
    "weights=np.sum(in_forest, axis=0)\n",
    "mean_flux=np.zeros_like(wave)\n",
    "mean_flux[weights>0]=np.sum(F*in_forest, axis=0)[weights>0]/weights[weights>0]"
   ]
  },
  {
   "cell_type": "code",
   "execution_count": 8,
   "id": "108db9ff-6d63-4446-ac53-0b6516b0eafd",
   "metadata": {
    "tags": []
   },
   "outputs": [
    {
     "data": {
      "image/png": "[encoded data removed]",
      "text/plain": [
       "<Figure size 640x480 with 1 Axes>"
      ]
     },
     "metadata": {},
     "output_type": "display_data"
    }
   ],
   "source": [
    "plt.plot(wave,mean_flux)\n",
    "plt.xlabel('lambda_obs [A]')\n",
    "plt.ylabel('<F>')\n",
    "plt.savefig('mean_flux_test.png')"
   ]
  },
  {
   "cell_type": "code",
   "execution_count": null,
   "id": "ceb9ebe3-9aa5-470a-9ca6-9b9c68630dce",
   "metadata": {},
   "outputs": [],
   "source": []
  }
 ],
 "metadata": {
  "kernelspec": {
   "display_name": "NERSC Python",
   "language": "python",
   "name": "python3"
  },
  "language_info": {
   "codemirror_mode": {
    "name": "ipython",
    "version": 3
   },
   "file_extension": ".py",
   "mimetype": "text/x-python",
   "name": "python",
   "nbconvert_exporter": "python",
   "pygments_lexer": "ipython3",
   "version": "3.11.7"
  }
 },
 "nbformat": 4,
 "nbformat_minor": 5
}
